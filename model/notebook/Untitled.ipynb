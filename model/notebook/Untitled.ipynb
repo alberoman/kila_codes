{
 "cells": [
  {
   "cell_type": "code",
   "execution_count": 2,
   "metadata": {},
   "outputs": [],
   "source": [
    "from sympy import *\n",
    "t,ks,Vs,kd,Vd,conds,condd,ls,ld,mu,pi,pt,r = symbols('t,ks,Vs,kd,Vd,conds,condd,ls,ld,mu,pi,pt,r',positive = True,real = True)\n",
    "C1,C2,ps0,pd0 = symbols('C1,C2,ps0,pd0')\n",
    "ps,pd  = symbols('ps, pd', cls =Function, function = True)\n",
    "conddconst = pi *condd**4/(8 * mu * ld)\n",
    "condsconst = pi *conds**4/(8 * mu * ls)\n",
    "comps = ks / Vs\n",
    "eqps = Eq(diff(ps(t),t),comps * (conddconst*(pd(t) - ps(t)) - condsconst*(pt) -condsconst*ps(t)))\n",
    "eqpd = Eq(diff(pd(t),t),r * (conddconst*(ps(t) - pd(t))))\n",
    "sol = dsolve((eqps,eqpd))\n"
   ]
  },
  {
   "cell_type": "code",
   "execution_count": 3,
   "metadata": {},
   "outputs": [
    {
     "data": {
      "text/latex": [
       "$\\displaystyle \\operatorname{ps}{\\left(t \\right)} = \\frac{C_{1} condd^{4} ks \\pi e^{t \\left(- \\frac{condd^{4} \\pi r}{16 ld \\mu} + \\frac{\\sqrt{\\left(\\frac{condd^{4} \\pi r}{8 ld \\mu} - \\frac{condd^{4} ks \\pi}{8 Vs ld \\mu} - \\frac{conds^{4} ks \\pi}{8 Vs ls \\mu}\\right)^{2} + \\frac{condd^{8} ks \\pi^{2} r}{16 Vs ld^{2} \\mu^{2}}}}{2} - \\frac{condd^{4} ks \\pi}{16 Vs ld \\mu} - \\frac{conds^{4} ks \\pi}{16 Vs ls \\mu}\\right)}}{8 Vs ld \\mu} + \\frac{C_{2} condd^{4} ks \\pi e^{t \\left(- \\frac{condd^{4} \\pi r}{16 ld \\mu} - \\frac{\\sqrt{\\left(\\frac{condd^{4} \\pi r}{8 ld \\mu} - \\frac{condd^{4} ks \\pi}{8 Vs ld \\mu} - \\frac{conds^{4} ks \\pi}{8 Vs ls \\mu}\\right)^{2} + \\frac{condd^{8} ks \\pi^{2} r}{16 Vs ld^{2} \\mu^{2}}}}{2} - \\frac{condd^{4} ks \\pi}{16 Vs ld \\mu} - \\frac{conds^{4} ks \\pi}{16 Vs ls \\mu}\\right)}}{8 Vs ld \\mu}$"
      ],
      "text/plain": [
       "Eq(ps(t), C1*condd**4*ks*pi*exp(t*(-condd**4*pi*r/(16*ld*mu) + sqrt((condd**4*pi*r/(8*ld*mu) - condd**4*ks*pi/(8*Vs*ld*mu) - conds**4*ks*pi/(8*Vs*ls*mu))**2 + condd**8*ks*pi**2*r/(16*Vs*ld**2*mu**2))/2 - condd**4*ks*pi/(16*Vs*ld*mu) - conds**4*ks*pi/(16*Vs*ls*mu)))/(8*Vs*ld*mu) + C2*condd**4*ks*pi*exp(t*(-condd**4*pi*r/(16*ld*mu) - sqrt((condd**4*pi*r/(8*ld*mu) - condd**4*ks*pi/(8*Vs*ld*mu) - conds**4*ks*pi/(8*Vs*ls*mu))**2 + condd**8*ks*pi**2*r/(16*Vs*ld**2*mu**2))/2 - condd**4*ks*pi/(16*Vs*ld*mu) - conds**4*ks*pi/(16*Vs*ls*mu)))/(8*Vs*ld*mu))"
      ]
     },
     "execution_count": 3,
     "metadata": {},
     "output_type": "execute_result"
    }
   ],
   "source": [
    "sol[0]"
   ]
  },
  {
   "cell_type": "code",
   "execution_count": null,
   "metadata": {},
   "outputs": [],
   "source": []
  }
 ],
 "metadata": {
  "kernelspec": {
   "display_name": "Python 3",
   "language": "python",
   "name": "python3"
  },
  "language_info": {
   "codemirror_mode": {
    "name": "ipython",
    "version": 3
   },
   "file_extension": ".py",
   "mimetype": "text/x-python",
   "name": "python",
   "nbconvert_exporter": "python",
   "pygments_lexer": "ipython3",
   "version": "3.7.3"
  }
 },
 "nbformat": 4,
 "nbformat_minor": 2
}
