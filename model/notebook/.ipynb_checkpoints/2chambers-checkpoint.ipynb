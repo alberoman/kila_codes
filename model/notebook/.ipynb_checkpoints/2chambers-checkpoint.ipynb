{
 "cells": [
  {
   "cell_type": "markdown",
   "metadata": {},
   "source": [
    "In the case of two chambers the equation for the stick period are\n",
    "\\begin{equation}\n",
    "\\frac{\\Delta P_s}{dt} =\\frac{k_s}{V_s}\\left(\\frac{\\pi a_d^4}{8 mu l_d} (P_d - P_s) - \\frac{\\pi a_s^4}{8 mu l_s} (P_s + P_t)\\right) \n",
    "\\end{equation}\n",
    "\\begin{equation}\n",
    "\\frac{\\Delta P_d}{dt} =-\\frac{k_d}{V_d}\\frac{\\pi a_d^4}{8 mu l_d} (P_d - P_s)\n",
    "\\end{equation}\n",
    "In dimensionless form, scaling by properties of the lower conduit, properties of the upper chamber, and scaling pressures by $P_t$ they can be written \n",
    "\\begin{equation}\n",
    "\\frac{\\Delta P_s}{dt} =(P_d - P_s) - T_1(P_s + R_3)\n",
    "\\end{equation}\n",
    "\\begin{equation}\n",
    "\\frac{\\Delta P_d}{dt} =- \\phi (P_d - P_s)\n",
    "\\end{equation}\n",
    "where \n",
    "\\begin{equation}\n",
    "T_1 = \\frac{a_s l_d}{a_d l_s}\n",
    "\\end{equation}\n",
    "\n",
    "\\begin{equation}\n",
    "\\phi = \\frac{k_d V_s}{k_s V_d }\n",
    "\\end{equation}\n",
    "\n",
    "\\begin{equation}\n",
    "R_3 = \\frac{P_t S}{F_s}\n",
    "\\end{equation}\n",
    "The general solution is obtained below"
   ]
  },
  {
   "cell_type": "code",
   "execution_count": 80,
   "metadata": {},
   "outputs": [
    {
     "data": {
      "text/plain": [
       "'Eq(ps(t), C1*exp(t*(-T1/2 - phi/2 + sqrt(4*phi + (-T1 + phi - 1)**2)/2 - 1/2)) + C2*exp(t*(-T1/2 - phi/2 - sqrt(4*phi + (-T1 + phi - 1)**2)/2 - 1/2)) - R3)'"
      ]
     },
     "execution_count": 80,
     "metadata": {},
     "output_type": "execute_result"
    }
   ],
   "source": [
    "from sympy import *\n",
    "t,T1,phi,R1,R3,R5,n = symbols('t,T1,phi,R1,R3,R5,n',positive = True,real = True)\n",
    "C1,C2,ps0,pd0 = symbols('C1,C2,ps0,pd0')\n",
    "ps,pd  = symbols('ps, pd', cls =Function, function = True)\n",
    "eqps = Eq(diff(ps(t),t), (-1 - T1) * ps(t) + 1 * pd(t) - R3 * T1)\n",
    "eqpd = Eq(diff(pd(t),t), - phi * (pd(t) - ps(t))) \n",
    "sol = dsolve((eqps,eqpd))\n",
    "const = solve((sol[0].subs(t,0).subs(ps(0),ps0),sol[1].subs(t,0).subs(pd(0),pd0)),{C1,C2})\n",
    "psPart = sol[0].rhs.subs(const)\n",
    "pdPart = sol[1].rhs.subs(const)\n",
    "\n",
    "#sol[0].subs(t,0)\n",
    "#solve(sol[0].subs(ps(t),-1 - 2*R1*(1 - R5)/(1+R1)*n).subs(phi,1),t)\n",
    "str(sol[0])\n"
   ]
  },
  {
   "cell_type": "code",
   "execution_count": 81,
   "metadata": {},
   "outputs": [
    {
     "data": {
      "text/latex": [
       "$\\displaystyle \\operatorname{pd}{\\left(t \\right)} = C_{1} \\left(\\frac{T_{1}}{2} - \\frac{\\phi}{2} + \\frac{\\sqrt{4 \\phi + \\left(- T_{1} + \\phi - 1\\right)^{2}}}{2} + \\frac{1}{2}\\right) e^{t \\left(- \\frac{T_{1}}{2} - \\frac{\\phi}{2} + \\frac{\\sqrt{4 \\phi + \\left(- T_{1} + \\phi - 1\\right)^{2}}}{2} - \\frac{1}{2}\\right)} + C_{2} \\left(\\frac{T_{1}}{2} - \\frac{\\phi}{2} - \\frac{\\sqrt{4 \\phi + \\left(- T_{1} + \\phi - 1\\right)^{2}}}{2} + \\frac{1}{2}\\right) e^{t \\left(- \\frac{T_{1}}{2} - \\frac{\\phi}{2} - \\frac{\\sqrt{4 \\phi + \\left(- T_{1} + \\phi - 1\\right)^{2}}}{2} - \\frac{1}{2}\\right)} - R_{3}$"
      ],
      "text/plain": [
       "Eq(pd(t), C1*(T1/2 - phi/2 + sqrt(4*phi + (-T1 + phi - 1)**2)/2 + 1/2)*exp(t*(-T1/2 - phi/2 + sqrt(4*phi + (-T1 + phi - 1)**2)/2 - 1/2)) + C2*(T1/2 - phi/2 - sqrt(4*phi + (-T1 + phi - 1)**2)/2 + 1/2)*exp(t*(-T1/2 - phi/2 - sqrt(4*phi + (-T1 + phi - 1)**2)/2 - 1/2)) - R3)"
      ]
     },
     "execution_count": 81,
     "metadata": {},
     "output_type": "execute_result"
    }
   ],
   "source": [
    "sol[1]"
   ]
  },
  {
   "cell_type": "code",
   "execution_count": 82,
   "metadata": {},
   "outputs": [
    {
     "data": {
      "text/latex": [
       "$\\displaystyle \\operatorname{ps}{\\left(t \\right)} = C_{1} e^{t \\left(- \\frac{T_{1}}{2} - \\frac{\\phi}{2} + \\frac{\\sqrt{4 \\phi + \\left(- T_{1} + \\phi - 1\\right)^{2}}}{2} - \\frac{1}{2}\\right)} + C_{2} e^{t \\left(- \\frac{T_{1}}{2} - \\frac{\\phi}{2} - \\frac{\\sqrt{4 \\phi + \\left(- T_{1} + \\phi - 1\\right)^{2}}}{2} - \\frac{1}{2}\\right)} - R_{3}$"
      ],
      "text/plain": [
       "Eq(ps(t), C1*exp(t*(-T1/2 - phi/2 + sqrt(4*phi + (-T1 + phi - 1)**2)/2 - 1/2)) + C2*exp(t*(-T1/2 - phi/2 - sqrt(4*phi + (-T1 + phi - 1)**2)/2 - 1/2)) - R3)"
      ]
     },
     "execution_count": 82,
     "metadata": {},
     "output_type": "execute_result"
    }
   ],
   "source": [
    "sol[0]"
   ]
  },
  {
   "cell_type": "code",
   "execution_count": 86,
   "metadata": {},
   "outputs": [
    {
     "ename": "TypeError",
     "evalue": "'Symbol' object is not callable",
     "output_type": "error",
     "traceback": [
      "\u001b[0;31m---------------------------------------------------------------------------\u001b[0m",
      "\u001b[0;31mTypeError\u001b[0m                                 Traceback (most recent call last)",
      "\u001b[0;32m<ipython-input-86-719833706edd>\u001b[0m in \u001b[0;36m<module>\u001b[0;34m\u001b[0m\n\u001b[1;32m      1\u001b[0m \u001b[0mconds\u001b[0m\u001b[0;34m,\u001b[0m\u001b[0mcondd\u001b[0m\u001b[0;34m,\u001b[0m\u001b[0mls\u001b[0m\u001b[0;34m,\u001b[0m\u001b[0mld\u001b[0m\u001b[0;34m,\u001b[0m\u001b[0mks\u001b[0m\u001b[0;34m,\u001b[0m\u001b[0mkd\u001b[0m\u001b[0;34m,\u001b[0m\u001b[0mVs\u001b[0m\u001b[0;34m,\u001b[0m\u001b[0mVd\u001b[0m\u001b[0;34m,\u001b[0m\u001b[0mmu\u001b[0m\u001b[0;34m,\u001b[0m\u001b[0mpi\u001b[0m \u001b[0;34m=\u001b[0m \u001b[0msymbols\u001b[0m\u001b[0;34m(\u001b[0m\u001b[0;34m'conds,condd,ls,ld,ks,kd,Vs,Vd,mu,pi'\u001b[0m\u001b[0;34m,\u001b[0m\u001b[0mpositive\u001b[0m\u001b[0;34m=\u001b[0m\u001b[0;32mTrue\u001b[0m\u001b[0;34m,\u001b[0m\u001b[0mreal\u001b[0m\u001b[0;34m=\u001b[0m \u001b[0;32mTrue\u001b[0m\u001b[0;34m)\u001b[0m\u001b[0;34m\u001b[0m\u001b[0;34m\u001b[0m\u001b[0m\n\u001b[0;32m----> 2\u001b[0;31m \u001b[0msol\u001b[0m\u001b[0;34m[\u001b[0m\u001b[0;36m0\u001b[0m\u001b[0;34m]\u001b[0m\u001b[0;34m.\u001b[0m\u001b[0msubs\u001b[0m\u001b[0;34m(\u001b[0m\u001b[0mT1\u001b[0m\u001b[0;34m,\u001b[0m\u001b[0mconds\u001b[0m\u001b[0;34m**\u001b[0m\u001b[0;36m4\u001b[0m\u001b[0;34m/\u001b[0m\u001b[0mcondd\u001b[0m\u001b[0;34m**\u001b[0m\u001b[0;36m4\u001b[0m\u001b[0;34m*\u001b[0m \u001b[0mld\u001b[0m\u001b[0;34m/\u001b[0m\u001b[0mld\u001b[0m\u001b[0;34m)\u001b[0m\u001b[0;34m.\u001b[0m\u001b[0msubs\u001b[0m\u001b[0;34m(\u001b[0m\u001b[0mphi\u001b[0m\u001b[0;34m,\u001b[0m\u001b[0mkd\u001b[0m\u001b[0;34m/\u001b[0m\u001b[0mks\u001b[0m\u001b[0;34m*\u001b[0m\u001b[0mVs\u001b[0m\u001b[0;34m/\u001b[0m\u001b[0mVd\u001b[0m\u001b[0;34m)\u001b[0m\u001b[0;34m.\u001b[0m\u001b[0msubs\u001b[0m\u001b[0;34m(\u001b[0m\u001b[0mt\u001b[0m\u001b[0;34m,\u001b[0m\u001b[0mt\u001b[0m\u001b[0;34m*\u001b[0m\u001b[0;36m8\u001b[0m \u001b[0;34m*\u001b[0m \u001b[0mmu\u001b[0m \u001b[0;34m*\u001b[0m \u001b[0mld\u001b[0m \u001b[0;34m*\u001b[0m \u001b[0mVs\u001b[0m \u001b[0;34m/\u001b[0m \u001b[0;34m(\u001b[0m\u001b[0mks\u001b[0m \u001b[0;34m*\u001b[0m \u001b[0mpi\u001b[0m \u001b[0;34m(\u001b[0m\u001b[0mcondd\u001b[0m\u001b[0;34m**\u001b[0m\u001b[0;36m4\u001b[0m\u001b[0;34m)\u001b[0m\u001b[0;34m)\u001b[0m\u001b[0;34m)\u001b[0m\u001b[0;34m\u001b[0m\u001b[0;34m\u001b[0m\u001b[0m\n\u001b[0m",
      "\u001b[0;31mTypeError\u001b[0m: 'Symbol' object is not callable"
     ]
    }
   ],
   "source": [
    "conds,condd,ls,ld,ks,kd,Vs,Vd,mu,pi,tdim = symbols('conds,condd,ls,ld,ks,kd,Vs,Vd,mu,pi,tdim',positive=True,real= True)\n",
    "tstar = \n",
    "sol[0].subs(T1,conds**4/condd**4* ld/ld).subs(phi,kd/ks*Vs/Vd).subs(t,tdi*8 * mu * ld * Vs / (ks * pi (condd**4)))\n"
   ]
  },
  {
   "cell_type": "markdown",
   "metadata": {},
   "source": [
    "The $n + 1$ collapse starts when\n",
    "\\begin{equation}\n",
    "\\Delta P_s = -\\tau_s - 2R1 \\frac{(\\tau_s - \\tau_d)}{1 + R1}n\n",
    "\\end{equation}\n",
    "\n",
    "And the initial pressure at which stick begins ($p_0$ in the above eqs) is\n",
    "\n",
    "\\begin{equation}\n",
    "\\Delta P_s = -\\tau_s - 2R1 \\frac{(\\tau_s - \\tau_d)}{1 + R1}(n -1) +  2 \\frac{P_s- P_d}{1+ R1} \n",
    "\\end{equation}\n",
    "\n",
    "The dimensionless form of these equations is\n",
    "\n",
    "\\begin{equation}\n",
    "\\Delta P_s = -1 - 2R1 \\frac{1 - R_5}{1+R_1}n\n",
    "\\end{equation}\n",
    "\n",
    "\\begin{equation}\n",
    "\\Delta P_s = -1 - 2R1 \\frac{1 - R_5}{1+R_1}(n - 1) + 2 \\frac{1 - R_5}{1+R_1}\n",
    "\\end{equation}\n",
    "Substituting these values on the above equations to find  the time of each collapse results in"
   ]
  },
  {
   "cell_type": "code",
   "execution_count": 9,
   "metadata": {},
   "outputs": [
    {
     "data": {
      "text/plain": [
       "'-R3 + (-R3 - pd0 + (R3 + ps0)*(T1 - phi + sqrt(T1**2 - 2*T1*phi + 2*T1 + phi**2 + 2*phi + 1) + 1)/2)*exp(t*(-T1/2 - phi/2 - sqrt(4*phi + (-T1 + phi - 1)**2)/2 - 1/2))/sqrt(T1**2 - 2*T1*phi + 2*T1 + phi**2 + 2*phi + 1) + (2*R3 + 2*pd0 - (R3 + ps0)*(T1 - phi + sqrt(T1**2 - 2*T1*phi + 2*T1 + phi**2 + 2*phi + 1) + 1) + 2*(R3 + ps0)*sqrt(T1**2 - 2*T1*phi + 2*T1 + phi**2 + 2*phi + 1))*exp(t*(-T1/2 - phi/2 + sqrt(4*phi + (-T1 + phi - 1)**2)/2 - 1/2))/(2*sqrt(T1**2 - 2*T1*phi + 2*T1 + phi**2 + 2*phi + 1))'"
      ]
     },
     "execution_count": 9,
     "metadata": {},
     "output_type": "execute_result"
    }
   ],
   "source": [
    "a,b,c,d = symbols('a,b,c,d') \n",
    "str(psPart)"
   ]
  },
  {
   "cell_type": "code",
   "execution_count": 10,
   "metadata": {},
   "outputs": [],
   "source": [
    "pssubs = psPart.subs(sqrt(T1**2 - 2*T1*phi + 2*T1 + phi**2 + 2*phi + 1),a).subs(-T1/2 - phi/2 - 1/2,b).subs(sqrt(4*phi + (-T1 + phi - 1)**2)/2,c)\n",
    "pdsubs = pdPart.subs(sqrt(T1**2 - 2*T1*phi + 2*T1 + phi**2 + 2*phi + 1),a).subs(-T1/2 - phi/2 - 1/2,b).subs(sqrt(4*phi + (-T1 + phi - 1)**2)/2,c).subs(T1/2 - phi/2 + 1/2,d)"
   ]
  },
  {
   "cell_type": "code",
   "execution_count": 11,
   "metadata": {},
   "outputs": [
    {
     "data": {
      "text/latex": [
       "$\\displaystyle - R_{3} + \\frac{\\left(- R_{3} - pd_{0} + \\frac{\\left(R_{3} + ps_{0}\\right) \\left(T_{1} + a - \\phi + 1\\right)}{2}\\right) e^{t \\left(b - c\\right)}}{a} + \\frac{\\left(2 R_{3} + 2 a \\left(R_{3} + ps_{0}\\right) + 2 pd_{0} - \\left(R_{3} + ps_{0}\\right) \\left(T_{1} + a - \\phi + 1\\right)\\right) e^{t \\left(b + c\\right)}}{2 a}$"
      ],
      "text/plain": [
       "-R3 + (-R3 - pd0 + (R3 + ps0)*(T1 + a - phi + 1)/2)*exp(t*(b - c))/a + (2*R3 + 2*a*(R3 + ps0) + 2*pd0 - (R3 + ps0)*(T1 + a - phi + 1))*exp(t*(b + c))/(2*a)"
      ]
     },
     "execution_count": 11,
     "metadata": {},
     "output_type": "execute_result"
    }
   ],
   "source": [
    "pssubs"
   ]
  },
  {
   "cell_type": "code",
   "execution_count": 12,
   "metadata": {},
   "outputs": [
    {
     "data": {
      "text/latex": [
       "$\\displaystyle - R_{3} + \\frac{\\left(- c + d\\right) \\left(- R_{3} - pd_{0} + \\frac{\\left(R_{3} + ps_{0}\\right) \\left(T_{1} + a - \\phi + 1\\right)}{2}\\right) e^{t \\left(b - c\\right)}}{a} + \\frac{\\left(c + d\\right) \\left(2 R_{3} + 2 a \\left(R_{3} + ps_{0}\\right) + 2 pd_{0} - \\left(R_{3} + ps_{0}\\right) \\left(T_{1} + a - \\phi + 1\\right)\\right) e^{t \\left(b + c\\right)}}{2 a}$"
      ],
      "text/plain": [
       "-R3 + (-c + d)*(-R3 - pd0 + (R3 + ps0)*(T1 + a - phi + 1)/2)*exp(t*(b - c))/a + (c + d)*(2*R3 + 2*a*(R3 + ps0) + 2*pd0 - (R3 + ps0)*(T1 + a - phi + 1))*exp(t*(b + c))/(2*a)"
      ]
     },
     "execution_count": 12,
     "metadata": {},
     "output_type": "execute_result"
    }
   ],
   "source": [
    "pdsubs"
   ]
  },
  {
   "cell_type": "code",
   "execution_count": 14,
   "metadata": {},
   "outputs": [],
   "source": [
    "psder = diff(pssubs,t)\n",
    "pdder = diff"
   ]
  },
  {
   "cell_type": "code",
   "execution_count": 14,
   "metadata": {},
   "outputs": [
    {
     "data": {
      "text/plain": [
       "[<matplotlib.lines.Line2D at 0x12088fb00>]"
      ]
     },
     "execution_count": 14,
     "metadata": {},
     "output_type": "execute_result"
    },
    {
     "data": {
      "image/png": "[encoded data removed]",
      "text/plain": [
       "<Figure size 432x288 with 1 Axes>"
      ]
     },
     "metadata": {
      "needs_background": "light"
     },
     "output_type": "display_data"
    }
   ],
   "source": [
    "\n",
    "from numpy import * \n",
    "from scipy.integrate import odeint\n",
    "import matplotlib.pyplot as plt\n",
    "def system_2chambers(w,t,p):\n",
    "    ps,pd = w\n",
    "    par1,par2,par3 = p\n",
    "    f = [ pd - ps - par1 * (ps +par3),\n",
    "        -par2 * (pd - ps)]\n",
    "    return f\n",
    "\n",
    "T1 = 1\n",
    "phi = 8\n",
    "ps0 = 2\n",
    "pd0 = 3\n",
    "R3 = 0\n",
    "t = linspace(0.,1,1000)\n",
    "p = [T1,phi,R3] #T1 is the ratio of the hydraulic parameters (for high values the top conduit is more efficient)\n",
    "w0 = [ps0,pd0] #phi measure the effective compressibility of the chambers for  small values  the lower chamber is compressible\n",
    "wsol = odeint(system_2chambers, w0, t,args =(p,))\n",
    "ps = wsol[:,0]\n",
    "pd = wsol[:,1]\n",
    "ps_analytic = -R3 + (-R3 - pd0 + (R3 + ps0)*(T1 - phi + sqrt(T1**2 - 2*T1*phi + 2*T1 + phi**2 + 2*phi + 1) + 1)/2)*exp(t*(-T1/2 - phi/2 - sqrt(4*phi + (-T1 + phi - 1)**2)/2 - 1/2))/sqrt(T1**2 - 2*T1*phi + 2*T1 + phi**2 + 2*phi + 1) + (2*R3 + 2*pd0 - (R3 + ps0)*(T1 - phi + sqrt(T1**2 - 2*T1*phi + 2*T1 + phi**2 + 2*phi + 1) + 1) + 2*(R3 + ps0)*sqrt(T1**2 - 2*T1*phi + 2*T1 + phi**2 + 2*phi + 1))*exp(t*(-T1/2 - phi/2 + sqrt(4*phi + (-T1 + phi - 1)**2)/2 - 1/2))/(2*sqrt(T1**2 - 2*T1*phi + 2*T1 + phi**2 + 2*phi + 1))\n",
    "pd_analytic =-R3 + (-R3 - pd0 + (R3 + ps0)*(T1 - phi + sqrt(T1**2 - 2*T1*phi + 2*T1 + phi**2 + 2*phi + 1) + 1)/2)*(T1/2 - phi/2 - sqrt(4*phi + (-T1 + phi - 1)**2)/2 + 1/2)*exp(t*(-T1/2 - phi/2 - sqrt(4*phi + (-T1 + phi - 1)**2)/2 - 1/2))/sqrt(T1**2 - 2*T1*phi + 2*T1 + phi**2 + 2*phi + 1) + (2*R3 + 2*pd0 - (R3 + ps0)*(T1 - phi + sqrt(T1**2 - 2*T1*phi + 2*T1 + phi**2 + 2*phi + 1) + 1) + 2*(R3 + ps0)*sqrt(T1**2 - 2*T1*phi + 2*T1 + phi**2 + 2*phi + 1))*(T1/2 - phi/2 + sqrt(4*phi + (-T1 + phi - 1)**2)/2 + 1/2)*exp(t*(-T1/2 - phi/2 + sqrt(4*phi + (-T1 + phi - 1)**2)/2 - 1/2))/(2*sqrt(T1**2 - 2*T1*phi + 2*T1 + phi**2 + 2*phi + 1))\n",
    "#plt.plot(t,ps,'ko')\n",
    "plt.plot(t,ps_analytic,'b',linewidth = 2)\n",
    "#plt.plot(t,pd,'ro')\n",
    "plt.plot(t,pd_analytic,'orange',linewidth = 2)\n",
    "\n"
   ]
  },
  {
   "cell_type": "code",
   "execution_count": 2,
   "metadata": {},
   "outputs": [
    {
     "ename": "NameError",
     "evalue": "name 'solphase' is not defined",
     "output_type": "error",
     "traceback": [
      "\u001b[0;31m---------------------------------------------------------------------------\u001b[0m",
      "\u001b[0;31mNameError\u001b[0m                                 Traceback (most recent call last)",
      "\u001b[0;32m<ipython-input-2-7bd2834a2b08>\u001b[0m in \u001b[0;36m<module>\u001b[0;34m\u001b[0m\n\u001b[0;32m----> 1\u001b[0;31m \u001b[0msolphase\u001b[0m\u001b[0;34m\u001b[0m\u001b[0;34m\u001b[0m\u001b[0m\n\u001b[0m",
      "\u001b[0;31mNameError\u001b[0m: name 'solphase' is not defined"
     ]
    }
   ],
   "source": [
    "solphase"
   ]
  },
  {
   "cell_type": "markdown",
   "metadata": {},
   "source": [
    "In the case in which is the lower chamber feeding the eruption the system becomes\n",
    "\n",
    "\\begin{equation}\n",
    "\\frac{\\Delta P_d}{dt} =\\frac{k_d}{V_d}\\left(\\frac{\\pi a_s^4}{8 mu l_s} (P_s - P_d) - \\frac{\\pi a_s^4}{8 mu l_s} (P_d + P_t)\\right) \n",
    "\\end{equation}\n",
    "\\begin{equation}\n",
    "\\frac{\\Delta P_s}{dt} =-\\frac{k_s}{V_s}\\frac{\\pi a_s^4}{8 mu l_s} (P_s - P_d)\n",
    "\\end{equation}\n",
    "In dimensionless form, scaling by properties of the lower conduit, properties of the upper chamber, and scaling pressures by $P_t$ they can be written \n",
    "\\begin{equation}\n",
    "\\frac{\\Delta P_d}{dt} =(P_s - P_d) - T_1(P_d + R_3)\n",
    "\\end{equation}\n",
    "\\begin{equation}\n",
    "\\frac{\\Delta P_s}{dt} =- \\phi (P_s - P_d)\n",
    "\\end{equation}\n",
    "where \n",
    "\\begin{equation}\n",
    "T_1 = \\frac{a_s l_d}{a_d l_s}\n",
    "\\end{equation}\n",
    "\n",
    "\\begin{equation}\n",
    "\\phi = \\frac{k_d V_s}{k_s V_d }\n",
    "\\end{equation}\n",
    "\n",
    "\\begin{equation}\n",
    "R_3 = \\frac{P_t S}{F_s}\n",
    "\\end{equation}\n",
    "The general solution is obtained below"
   ]
  },
  {
   "cell_type": "code",
   "execution_count": 362,
   "metadata": {},
   "outputs": [],
   "source": [
    "from sympy import *\n",
    "t,T1,phi,R1,R3,R5,n = symbols('t,T1,phi,R1,R3,R5,n',positive = True,real = True)\n",
    "C1,C2,ps0,pd0 = symbols('C1,C2,ps0,pd0')\n",
    "ps,pd  = symbols('ps, pd', cls =Function, function = True)\n",
    "eqps = Eq(diff(ps(t),t), (-1 - T1) * ps(t) + 1 * pd(t) - R3 * T1)\n",
    "eqpd = Eq(diff(pd(t),t), - phi * (pd(t) - ps(t))) \n",
    "sol = dsolve((eqps,eqpd))\n",
    "const = solve((sol[0].subs(t,0).subs(ps(0),ps0),sol[1].subs(t,0).subs(pd(0),pd0)),{C1,C2})\n",
    "psPart = sol[0].rhs.subs(const)\n",
    "pdPart = sol[1].rhs.subs(const)"
   ]
  },
  {
   "cell_type": "code",
   "execution_count": 55,
   "metadata": {},
   "outputs": [],
   "source": [
    "from sympy import *\n",
    "t,ks,Vs,kd,Vd,conds,condd,ls,ld,mu,pi,pt,r = symbols('t,ks,Vs,kd,Vd,conds,condd,ls,ld,mu,pi,pt,r',positive = True,real = True)\n",
    "C1,C2,ps0,pd0 = symbols('C1,C2,ps0,pd0')\n",
    "ps,pd  = symbols('ps, pd', cls =Function, function = True)\n",
    "conddconst = pi *condd**4/(8 * mu * ld)\n",
    "condsconst = pi *conds**4/(8 * mu * ls)\n",
    "comps = ks / Vs\n",
    "eqps = Eq(diff(ps(t),t),comps * (conddconst*(pd(t) - ps(t)) - condsconst*pt -condsconst*ps(t)))\n",
    "eqpd = Eq(diff(pd(t),t),r * (conddconst*(ps(t) - pd(t))))\n",
    "sol = dsolve((eqps,eqpd))\n"
   ]
  },
  {
   "cell_type": "code",
   "execution_count": 61,
   "metadata": {},
   "outputs": [
    {
     "data": {
      "text/plain": [
       "'Eq(ps(t), C1*condd**4*ks*pi*exp(t*(-condd**4*pi*r/(16*ld*mu) + sqrt((condd**4*pi*r/(8*ld*mu) - condd**4*ks*pi/(8*Vs*ld*mu) - conds**4*ks*pi/(8*Vs*ls*mu))**2 + condd**8*ks*pi**2*r/(16*Vs*ld**2*mu**2))/2 - condd**4*ks*pi/(16*Vs*ld*mu) - conds**4*ks*pi/(16*Vs*ls*mu)))/(8*Vs*ld*mu) + C2*condd**4*ks*pi*exp(t*(-condd**4*pi*r/(16*ld*mu) - sqrt((condd**4*pi*r/(8*ld*mu) - condd**4*ks*pi/(8*Vs*ld*mu) - conds**4*ks*pi/(8*Vs*ls*mu))**2 + condd**8*ks*pi**2*r/(16*Vs*ld**2*mu**2))/2 - condd**4*ks*pi/(16*Vs*ld*mu) - conds**4*ks*pi/(16*Vs*ls*mu)))/(8*Vs*ld*mu))'"
      ]
     },
     "execution_count": 61,
     "metadata": {},
     "output_type": "execute_result"
    }
   ],
   "source": [
    "str(sol[0])"
   ]
  },
  {
   "cell_type": "code",
   "execution_count": 58,
   "metadata": {},
   "outputs": [
    {
     "data": {
      "text/latex": [
       "$\\displaystyle \\operatorname{ps}{\\left(t \\right)} = \\frac{C_{1} condd^{4} ks \\pi e^{t \\left(- \\frac{condd^{4} \\pi r}{16 ld \\mu} + \\frac{\\sqrt{\\left(\\frac{condd^{4} \\pi r}{8 ld \\mu} - \\frac{condd^{4} ks \\pi}{8 Vs ld \\mu} - \\frac{conds^{4} ks \\pi}{8 Vs ls \\mu}\\right)^{2} + \\frac{condd^{8} ks \\pi^{2} r}{16 Vs ld^{2} \\mu^{2}}}}{2} - \\frac{condd^{4} ks \\pi}{16 Vs ld \\mu} - \\frac{conds^{4} ks \\pi}{16 Vs ls \\mu}\\right)}}{8 Vs ld \\mu} + \\frac{C_{2} condd^{4} ks \\pi e^{t \\left(- \\frac{condd^{4} \\pi r}{16 ld \\mu} - \\frac{\\sqrt{\\left(\\frac{condd^{4} \\pi r}{8 ld \\mu} - \\frac{condd^{4} ks \\pi}{8 Vs ld \\mu} - \\frac{conds^{4} ks \\pi}{8 Vs ls \\mu}\\right)^{2} + \\frac{condd^{8} ks \\pi^{2} r}{16 Vs ld^{2} \\mu^{2}}}}{2} - \\frac{condd^{4} ks \\pi}{16 Vs ld \\mu} - \\frac{conds^{4} ks \\pi}{16 Vs ls \\mu}\\right)}}{8 Vs ld \\mu}$"
      ],
      "text/plain": [
       "Eq(ps(t), C1*condd**4*ks*pi*exp(t*(-condd**4*pi*r/(16*ld*mu) + sqrt((condd**4*pi*r/(8*ld*mu) - condd**4*ks*pi/(8*Vs*ld*mu) - conds**4*ks*pi/(8*Vs*ls*mu))**2 + condd**8*ks*pi**2*r/(16*Vs*ld**2*mu**2))/2 - condd**4*ks*pi/(16*Vs*ld*mu) - conds**4*ks*pi/(16*Vs*ls*mu)))/(8*Vs*ld*mu) + C2*condd**4*ks*pi*exp(t*(-condd**4*pi*r/(16*ld*mu) - sqrt((condd**4*pi*r/(8*ld*mu) - condd**4*ks*pi/(8*Vs*ld*mu) - conds**4*ks*pi/(8*Vs*ls*mu))**2 + condd**8*ks*pi**2*r/(16*Vs*ld**2*mu**2))/2 - condd**4*ks*pi/(16*Vs*ld*mu) - conds**4*ks*pi/(16*Vs*ls*mu)))/(8*Vs*ld*mu))"
      ]
     },
     "execution_count": 58,
     "metadata": {},
     "output_type": "execute_result"
    }
   ],
   "source": [
    "sol[0]"
   ]
  },
  {
   "cell_type": "code",
   "execution_count": 70,
   "metadata": {},
   "outputs": [],
   "source": [
    "from sympy import *\n",
    "t,ks,Vs,kd,Vd,conds,condd,ls,ld,mu,pi,pt,r = symbols('t,ks,Vs,kd,Vd,conds,condd,ls,ld,mu,pi,pt,r',positive = True,real = True)\n",
    "C1,C2,ps0,pd0 = symbols('C1,C2,ps0,pd0')\n",
    "ps,pd  = symbols('ps, pd', cls =Function, function = True)\n",
    "conddconst = pi *condd**4/(8 * mu * ld)\n",
    "condsconst = pi *conds**4/(8 * mu * ls)\n",
    "comps = ks / Vs\n",
    "eqps = Eq(diff(ps(t),t), comps*(conddconst - condsconst) * ps(t) + comps*conddconst * pd(t) - comps*condsconst*pt)\n",
    "eqpd = Eq(diff(pd(t),t), - r* conddconst * (pd(t) - ps(t))) \n",
    "\n",
    "sol = dsolve((eqps,eqpd))\n"
   ]
  },
  {
   "cell_type": "code",
   "execution_count": 71,
   "metadata": {},
   "outputs": [
    {
     "data": {
      "text/latex": [
       "$\\displaystyle \\frac{d}{d t} \\operatorname{ps}{\\left(t \\right)} = \\frac{condd^{4} ks \\pi \\operatorname{pd}{\\left(t \\right)}}{8 Vs ld \\mu} - \\frac{conds^{4} ks \\pi pt}{8 Vs ls \\mu} + \\frac{ks \\left(\\frac{condd^{4} \\pi}{8 ld \\mu} - \\frac{conds^{4} \\pi}{8 ls \\mu}\\right) \\operatorname{ps}{\\left(t \\right)}}{Vs}$"
      ],
      "text/plain": [
       "Eq(Derivative(ps(t), t), condd**4*ks*pi*pd(t)/(8*Vs*ld*mu) - conds**4*ks*pi*pt/(8*Vs*ls*mu) + ks*(condd**4*pi/(8*ld*mu) - conds**4*pi/(8*ls*mu))*ps(t)/Vs)"
      ]
     },
     "execution_count": 71,
     "metadata": {},
     "output_type": "execute_result"
    }
   ],
   "source": [
    "eqps"
   ]
  },
  {
   "cell_type": "code",
   "execution_count": 76,
   "metadata": {},
   "outputs": [
    {
     "data": {
      "text/latex": [
       "$\\displaystyle \\frac{d}{d t} \\operatorname{pd}{\\left(t \\right)} = - \\frac{condd^{4} \\pi r \\left(\\operatorname{pd}{\\left(t \\right)} - \\operatorname{ps}{\\left(t \\right)}\\right)}{8 ld \\mu}$"
      ],
      "text/plain": [
       "Eq(Derivative(pd(t), t), -condd**4*pi*r*(pd(t) - ps(t))/(8*ld*mu))"
      ]
     },
     "execution_count": 76,
     "metadata": {},
     "output_type": "execute_result"
    }
   ],
   "source": [
    "eqpd"
   ]
  },
  {
   "cell_type": "code",
   "execution_count": 77,
   "metadata": {},
   "outputs": [
    {
     "data": {
      "text/latex": [
       "$\\displaystyle \\operatorname{ps}{\\left(t \\right)} = \\frac{C_{1} condd^{4} ks \\pi e^{t \\left(- \\frac{condd^{4} \\pi r}{16 ld \\mu} + \\frac{\\sqrt{\\left(\\frac{condd^{4} \\pi r}{8 ld \\mu} + \\frac{condd^{4} ks \\pi}{8 Vs ld \\mu} - \\frac{conds^{4} ks \\pi}{8 Vs ls \\mu}\\right)^{2} + \\frac{condd^{8} ks \\pi^{2} r}{16 Vs ld^{2} \\mu^{2}}}}{2} + \\frac{condd^{4} ks \\pi}{16 Vs ld \\mu} - \\frac{conds^{4} ks \\pi}{16 Vs ls \\mu}\\right)}}{8 Vs ld \\mu} + \\frac{C_{2} condd^{4} ks \\pi e^{t \\left(- \\frac{condd^{4} \\pi r}{16 ld \\mu} - \\frac{\\sqrt{\\left(\\frac{condd^{4} \\pi r}{8 ld \\mu} + \\frac{condd^{4} ks \\pi}{8 Vs ld \\mu} - \\frac{conds^{4} ks \\pi}{8 Vs ls \\mu}\\right)^{2} + \\frac{condd^{8} ks \\pi^{2} r}{16 Vs ld^{2} \\mu^{2}}}}{2} + \\frac{condd^{4} ks \\pi}{16 Vs ld \\mu} - \\frac{conds^{4} ks \\pi}{16 Vs ls \\mu}\\right)}}{8 Vs ld \\mu} + \\frac{conds^{4} ld pt}{2 condd^{4} ls - conds^{4} ld}$"
      ],
      "text/plain": [
       "Eq(ps(t), C1*condd**4*ks*pi*exp(t*(-condd**4*pi*r/(16*ld*mu) + sqrt((condd**4*pi*r/(8*ld*mu) + condd**4*ks*pi/(8*Vs*ld*mu) - conds**4*ks*pi/(8*Vs*ls*mu))**2 + condd**8*ks*pi**2*r/(16*Vs*ld**2*mu**2))/2 + condd**4*ks*pi/(16*Vs*ld*mu) - conds**4*ks*pi/(16*Vs*ls*mu)))/(8*Vs*ld*mu) + C2*condd**4*ks*pi*exp(t*(-condd**4*pi*r/(16*ld*mu) - sqrt((condd**4*pi*r/(8*ld*mu) + condd**4*ks*pi/(8*Vs*ld*mu) - conds**4*ks*pi/(8*Vs*ls*mu))**2 + condd**8*ks*pi**2*r/(16*Vs*ld**2*mu**2))/2 + condd**4*ks*pi/(16*Vs*ld*mu) - conds**4*ks*pi/(16*Vs*ls*mu)))/(8*Vs*ld*mu) + conds**4*ld*pt/(2*condd**4*ls - conds**4*ld))"
      ]
     },
     "execution_count": 77,
     "metadata": {},
     "output_type": "execute_result"
    }
   ],
   "source": [
    "sol[0]"
   ]
  },
  {
   "cell_type": "code",
   "execution_count": 75,
   "metadata": {},
   "outputs": [
    {
     "data": {
      "text/latex": [
       "$\\displaystyle \\operatorname{pd}{\\left(t \\right)} = C_{1} \\left(- \\frac{condd^{4} \\pi r}{16 ld \\mu} + \\frac{\\sqrt{\\left(\\frac{condd^{4} \\pi r}{8 ld \\mu} + \\frac{condd^{4} ks \\pi}{8 Vs ld \\mu} - \\frac{conds^{4} ks \\pi}{8 Vs ls \\mu}\\right)^{2} + \\frac{condd^{8} ks \\pi^{2} r}{16 Vs ld^{2} \\mu^{2}}}}{2} - \\frac{condd^{4} ks \\pi}{16 Vs ld \\mu} + \\frac{conds^{4} ks \\pi}{16 Vs ls \\mu}\\right) e^{t \\left(- \\frac{condd^{4} \\pi r}{16 ld \\mu} + \\frac{\\sqrt{\\left(\\frac{condd^{4} \\pi r}{8 ld \\mu} + \\frac{condd^{4} ks \\pi}{8 Vs ld \\mu} - \\frac{conds^{4} ks \\pi}{8 Vs ls \\mu}\\right)^{2} + \\frac{condd^{8} ks \\pi^{2} r}{16 Vs ld^{2} \\mu^{2}}}}{2} + \\frac{condd^{4} ks \\pi}{16 Vs ld \\mu} - \\frac{conds^{4} ks \\pi}{16 Vs ls \\mu}\\right)} + C_{2} \\left(- \\frac{condd^{4} \\pi r}{16 ld \\mu} - \\frac{\\sqrt{\\left(\\frac{condd^{4} \\pi r}{8 ld \\mu} + \\frac{condd^{4} ks \\pi}{8 Vs ld \\mu} - \\frac{conds^{4} ks \\pi}{8 Vs ls \\mu}\\right)^{2} + \\frac{condd^{8} ks \\pi^{2} r}{16 Vs ld^{2} \\mu^{2}}}}{2} - \\frac{condd^{4} ks \\pi}{16 Vs ld \\mu} + \\frac{conds^{4} ks \\pi}{16 Vs ls \\mu}\\right) e^{t \\left(- \\frac{condd^{4} \\pi r}{16 ld \\mu} - \\frac{\\sqrt{\\left(\\frac{condd^{4} \\pi r}{8 ld \\mu} + \\frac{condd^{4} ks \\pi}{8 Vs ld \\mu} - \\frac{conds^{4} ks \\pi}{8 Vs ls \\mu}\\right)^{2} + \\frac{condd^{8} ks \\pi^{2} r}{16 Vs ld^{2} \\mu^{2}}}}{2} + \\frac{condd^{4} ks \\pi}{16 Vs ld \\mu} - \\frac{conds^{4} ks \\pi}{16 Vs ls \\mu}\\right)} + \\frac{conds^{4} ld pt}{2 condd^{4} ls - conds^{4} ld}$"
      ],
      "text/plain": [
       "Eq(pd(t), C1*(-condd**4*pi*r/(16*ld*mu) + sqrt((condd**4*pi*r/(8*ld*mu) + condd**4*ks*pi/(8*Vs*ld*mu) - conds**4*ks*pi/(8*Vs*ls*mu))**2 + condd**8*ks*pi**2*r/(16*Vs*ld**2*mu**2))/2 - condd**4*ks*pi/(16*Vs*ld*mu) + conds**4*ks*pi/(16*Vs*ls*mu))*exp(t*(-condd**4*pi*r/(16*ld*mu) + sqrt((condd**4*pi*r/(8*ld*mu) + condd**4*ks*pi/(8*Vs*ld*mu) - conds**4*ks*pi/(8*Vs*ls*mu))**2 + condd**8*ks*pi**2*r/(16*Vs*ld**2*mu**2))/2 + condd**4*ks*pi/(16*Vs*ld*mu) - conds**4*ks*pi/(16*Vs*ls*mu))) + C2*(-condd**4*pi*r/(16*ld*mu) - sqrt((condd**4*pi*r/(8*ld*mu) + condd**4*ks*pi/(8*Vs*ld*mu) - conds**4*ks*pi/(8*Vs*ls*mu))**2 + condd**8*ks*pi**2*r/(16*Vs*ld**2*mu**2))/2 - condd**4*ks*pi/(16*Vs*ld*mu) + conds**4*ks*pi/(16*Vs*ls*mu))*exp(t*(-condd**4*pi*r/(16*ld*mu) - sqrt((condd**4*pi*r/(8*ld*mu) + condd**4*ks*pi/(8*Vs*ld*mu) - conds**4*ks*pi/(8*Vs*ls*mu))**2 + condd**8*ks*pi**2*r/(16*Vs*ld**2*mu**2))/2 + condd**4*ks*pi/(16*Vs*ld*mu) - conds**4*ks*pi/(16*Vs*ls*mu))) + conds**4*ld*pt/(2*condd**4*ls - conds**4*ld))"
      ]
     },
     "execution_count": 75,
     "metadata": {},
     "output_type": "execute_result"
    }
   ],
   "source": [
    "sol[1]"
   ]
  },
  {
   "cell_type": "code",
   "execution_count": null,
   "metadata": {},
   "outputs": [],
   "source": []
  }
 ],
 "metadata": {
  "kernelspec": {
   "display_name": "Python 3",
   "language": "python",
   "name": "python3"
  },
  "language_info": {
   "codemirror_mode": {
    "name": "ipython",
    "version": 3
   },
   "file_extension": ".py",
   "mimetype": "text/x-python",
   "name": "python",
   "nbconvert_exporter": "python",
   "pygments_lexer": "ipython3",
   "version": "3.7.3"
  }
 },
 "nbformat": 4,
 "nbformat_minor": 2
}
