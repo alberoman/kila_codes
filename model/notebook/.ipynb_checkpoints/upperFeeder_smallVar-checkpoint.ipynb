{
 "cells": [
  {
   "cell_type": "markdown",
   "metadata": {},
   "source": [
    "In the case of two chambers the equation for the stick period are\n",
    "\\begin{equation}\n",
    "\\frac{\\Delta P_s}{dt} =\\frac{k_s}{V_s}\\left(\\frac{\\pi a_d^4}{8 mu l_d} (P_d - P_s) - \\frac{\\pi a_s^4}{8 mu l_s} (P_s + P_t)\\right) \n",
    "\\end{equation}\n",
    "\\begin{equation}\n",
    "\\frac{\\Delta P_d}{dt} =-\\frac{k_d}{V_d}\\frac{\\pi a_d^4}{8 mu l_d} (P_{d} - P_s)\n",
    "\\end{equation}\n",
    "In dimensionless form, scaling by properties of the lower conduit, properties of the upper chamber, and scaling pressures by $P_t$ they can be written \n",
    "\\begin{equation}\n",
    "\\frac{\\Delta P_s}{dt} =(P_d - P_{s}) - T_1(P_{s} + R_3)\n",
    "\\label{eq:eq1}\n",
    "\\end{equation}\n",
    "\\begin{equation}\n",
    "\\frac{\\Delta P_d}{dt} =- \\phi (P_{d} - P_{s})\n",
    "\\label{eq:eq2}\n",
    "\\end{equation}\n",
    "where \n",
    "\\begin{equation}\n",
    "T_1 = \\frac{a_s l_d}{a_d l_s}\n",
    "\\end{equation}\n",
    "\n",
    "\\begin{equation}\n",
    "\\phi = \\frac{k_d V_s}{k_s V_d }\n",
    "\\end{equation}\n",
    "\n",
    "\\begin{equation}\n",
    "R_3 = \\frac{P_t S}{F_s}\n",
    "\\end{equation}\n",
    "\n",
    "We can compare the variation of the pressure in the two chambers by taking the ratio of equations \\ref{eq:eq1} and \\ref{eq:eq2}, that is\n",
    "\\begin{equation}\n",
    "\\frac{P_d - P_s}{P_s + R3}(1 - \\phi) = \\phi T_1\n",
    "\\end{equation}\n",
    "If the lhs is smaller than the rhs the derivative of $P_s$ is larger than the derivative of $P_d$. We see that this is the case for whatever the value of $T_1$ if $\\phi > 1$, that is, if the deeper chamber has a bigger volume than the lower chamber (if their compresibilities are the same). In this case we can suppose that variation of $P_s$ are small compared to variation of $P_d$ during one cycle. In this case we can rewrite the equations as\n",
    "\\begin{equation}\n",
    "\\frac{\\Delta P_s}{dt} =(P_d - P_{s0}) - T_1(P_{s0} + R_3)\n",
    "\\end{equation}\n",
    "\\begin{equation}\n",
    "\\frac{\\Delta P_d}{dt} =- \\phi (P_{d} - P_{s0})\n",
    "\\end{equation}\n",
    "where $P_{s0}$ is the pressure in chamber $s$ at the beginning of the cycle.\n",
    "The general solution is obtained below\n"
   ]
  },
  {
   "cell_type": "code",
   "execution_count": 37,
   "metadata": {},
   "outputs": [
    {
     "data": {
      "text/plain": [
       "'Eq(ps(t), (-R3*T1 + pd0 + exp((T1 + 1)*(-t + log(R3*T1 - pd0 + ps0*(T1 + 1))/(T1 + 1))))/(T1 + 1))'"
      ]
     },
     "execution_count": 37,
     "metadata": {},
     "output_type": "execute_result"
    }
   ],
   "source": [
    "from sympy import *\n",
    "t,T1,phi,R1,R3,R5,n = symbols('t,T1,phi,R1,R3,R5,n',positive = True,real = True)\n",
    "C1,ps0,pd0 = symbols('C1,ps0,pd0')\n",
    "ps,pd,DeltaP  = symbols('ps, pd,DeltaP', cls =Function, function = True)\n",
    "eqps = Eq(diff(ps(t),t),- (1 + T1) * ps(t) + pd0 - T1 * R3)\n",
    "sol = dsolve(eqps,ps(t))\n",
    "psPart = sol.subs(C1,solve(sol.subs(t,0).subs(ps(0),ps0),C1)[0])\n",
    "str(psPart)"
   ]
  },
  {
   "cell_type": "code",
   "execution_count": 51,
   "metadata": {},
   "outputs": [],
   "source": [
    "import numpy as np\n",
    "import matplotlib.pyplot as plt\n",
    "R3 = 5\n",
    "T1 =3\n",
    "pd0 =0\n",
    "ps0 = -1\n",
    "t = np.linspace(0,10)\n",
    "pssympy = (-R3*T1 + pd0 + np.exp((T1 + 1)*(-t + np.log(R3*T1 - pd0 + ps0*(T1 + 1))/(T1 + 1))))/(T1 + 1)\n",
    "psmine = pd0 / (1 + T1) - T1 * R3 / (1 + T1) + (ps0 - pd0 / (1 + T1)- T1 * R3 / (1 + T1)) * np.exp(- (1 + T1) * t)"
   ]
  },
  {
   "cell_type": "code",
   "execution_count": 52,
   "metadata": {},
   "outputs": [
    {
     "data": {
      "text/plain": [
       "[<matplotlib.lines.Line2D at 0x11704bda0>,\n",
       " <matplotlib.lines.Line2D at 0x117051080>]"
      ]
     },
     "execution_count": 52,
     "metadata": {},
     "output_type": "execute_result"
    },
    {
     "data": {
      "image/png": "[encoded data removed]",
      "text/plain": [
       "<Figure size 432x288 with 1 Axes>"
      ]
     },
     "metadata": {
      "needs_background": "light"
     },
     "output_type": "display_data"
    }
   ],
   "source": [
    "plt.plot(t,psmine,'g',t,pssympy,'r')"
   ]
  },
  {
   "cell_type": "code",
   "execution_count": 53,
   "metadata": {},
   "outputs": [
    {
     "data": {
      "text/plain": [
       "-3.75"
      ]
     },
     "execution_count": 53,
     "metadata": {},
     "output_type": "execute_result"
    }
   ],
   "source": [
    "(pd0 - T1 * R3) / (1 + T1)\n",
    "pssympy[-1]"
   ]
  },
  {
   "cell_type": "markdown",
   "metadata": {},
   "source": [
    "The $n + 1$ collapse starts when\n",
    "\\begin{equation}\n",
    "\\Delta P_s = -\\tau_s - 2R1 \\frac{(\\tau_s - \\tau_d)}{1 + R1}n\n",
    "\\end{equation}\n",
    "\n",
    "And the initial pressure at which stick begins ($p_0$ in the above eqs) is\n",
    "\n",
    "\\begin{equation}\n",
    "\\Delta P_s = -\\tau_s - 2R1 \\frac{(\\tau_s - \\tau_d)}{1 + R1}(n -1) +  2 \\frac{P_s- P_d}{1+ R1} \n",
    "\\end{equation}\n",
    "\n",
    "The dimensionless form of these equations is\n",
    "\n",
    "\\begin{equation}\n",
    "\\Delta P_s = -1 - 2R1 \\frac{1 - R_5}{1+R_1}n\n",
    "\\end{equation}\n",
    "\n",
    "\\begin{equation}\n",
    "\\Delta P_s = -1 - 2R1 \\frac{1 - R_5}{1+R_1}(n - 1) + 2 \\frac{1 - R_5}{1+R_1}\n",
    "\\end{equation}\n",
    "Substituting these values on the above equations to find  the time of each collapse results in"
   ]
  },
  {
   "cell_type": "code",
   "execution_count": null,
   "metadata": {},
   "outputs": [],
   "source": [
    "eqpsdt = -1 - 2*R1*(1 - R5)/(1+R1)*n - psPart\n",
    "eqpsdt_subs = eqpsdt.subs(ps0,-1 - 2*R1*(1 - R5)/(1+R1)*(n - 1) + 2 * (1 - R5)/ (1+R1))\n",
    "tcritic = solve(eqpsdt_subs,t)"
   ]
  },
  {
   "cell_type": "code",
   "execution_count": 353,
   "metadata": {},
   "outputs": [
    {
     "data": {
      "text/plain": [
       "'-R3 + (-R3 - pd0 + (R3 + ps0)*(T1 - phi + sqrt(T1**2 - 2*T1*phi + 2*T1 + phi**2 + 2*phi + 1) + 1)/2)*exp(t*(-T1/2 - phi/2 - sqrt(4*phi + (-T1 + phi - 1)**2)/2 - 1/2))/sqrt(T1**2 - 2*T1*phi + 2*T1 + phi**2 + 2*phi + 1) + (2*R3 + 2*pd0 - (R3 + ps0)*(T1 - phi + sqrt(T1**2 - 2*T1*phi + 2*T1 + phi**2 + 2*phi + 1) + 1) + 2*(R3 + ps0)*sqrt(T1**2 - 2*T1*phi + 2*T1 + phi**2 + 2*phi + 1))*exp(t*(-T1/2 - phi/2 + sqrt(4*phi + (-T1 + phi - 1)**2)/2 - 1/2))/(2*sqrt(T1**2 - 2*T1*phi + 2*T1 + phi**2 + 2*phi + 1))'"
      ]
     },
     "execution_count": 353,
     "metadata": {},
     "output_type": "execute_result"
    }
   ],
   "source": [
    "a,b,c,d = symbols('a,b,c,d') \n",
    "str(psPart)"
   ]
  },
  {
   "cell_type": "code",
   "execution_count": 357,
   "metadata": {},
   "outputs": [],
   "source": [
    "pssubs = psPart.subs(sqrt(T1**2 - 2*T1*phi + 2*T1 + phi**2 + 2*phi + 1),a).subs(-T1/2 - phi/2 - 1/2,b).subs(sqrt(4*phi + (-T1 + phi - 1)**2)/2,c)\n",
    "pdsubs = pdPart.subs(sqrt(T1**2 - 2*T1*phi + 2*T1 + phi**2 + 2*phi + 1),a).subs(-T1/2 - phi/2 - 1/2,b).subs(sqrt(4*phi + (-T1 + phi - 1)**2)/2,c).subs(T1/2 - phi/2 + 1/2,d)"
   ]
  },
  {
   "cell_type": "code",
   "execution_count": 365,
   "metadata": {},
   "outputs": [
    {
     "data": {
      "text/latex": [
       "$\\displaystyle - R_{3} + \\frac{\\left(- R_{3} - pd_{0} + \\frac{\\left(R_{3} + ps_{0}\\right) \\left(T_{1} + a - \\phi + 1\\right)}{2}\\right) e^{t \\left(b - c\\right)}}{a} + \\frac{\\left(2 R_{3} + 2 a \\left(R_{3} + ps_{0}\\right) + 2 pd_{0} - \\left(R_{3} + ps_{0}\\right) \\left(T_{1} + a - \\phi + 1\\right)\\right) e^{t \\left(b + c\\right)}}{2 a}$"
      ],
      "text/plain": [
       "-R3 + (-R3 - pd0 + (R3 + ps0)*(T1 + a - phi + 1)/2)*exp(t*(b - c))/a + (2*R3 + 2*a*(R3 + ps0) + 2*pd0 - (R3 + ps0)*(T1 + a - phi + 1))*exp(t*(b + c))/(2*a)"
      ]
     },
     "execution_count": 365,
     "metadata": {},
     "output_type": "execute_result"
    }
   ],
   "source": [
    "pssubs"
   ]
  },
  {
   "cell_type": "code",
   "execution_count": 364,
   "metadata": {},
   "outputs": [
    {
     "data": {
      "text/latex": [
       "$\\displaystyle - R_{3} + \\frac{\\left(- c + d\\right) \\left(- R_{3} - pd_{0} + \\frac{\\left(R_{3} + ps_{0}\\right) \\left(T_{1} + a - \\phi + 1\\right)}{2}\\right) e^{t \\left(b - c\\right)}}{a} + \\frac{\\left(c + d\\right) \\left(2 R_{3} + 2 a \\left(R_{3} + ps_{0}\\right) + 2 pd_{0} - \\left(R_{3} + ps_{0}\\right) \\left(T_{1} + a - \\phi + 1\\right)\\right) e^{t \\left(b + c\\right)}}{2 a}$"
      ],
      "text/plain": [
       "-R3 + (-c + d)*(-R3 - pd0 + (R3 + ps0)*(T1 + a - phi + 1)/2)*exp(t*(b - c))/a + (c + d)*(2*R3 + 2*a*(R3 + ps0) + 2*pd0 - (R3 + ps0)*(T1 + a - phi + 1))*exp(t*(b + c))/(2*a)"
      ]
     },
     "execution_count": 364,
     "metadata": {},
     "output_type": "execute_result"
    }
   ],
   "source": [
    "pdsubs"
   ]
  },
  {
   "cell_type": "code",
   "execution_count": 383,
   "metadata": {},
   "outputs": [],
   "source": [
    "T1,phi,R1,R3,R5,n = symbols('T1,phi,R1,R3,R5,n',positive = True,real = True)\n",
    "ps = symbols('ps',real = True)\n",
    "pd  = symbols('pd', cls =Function, function = True)\n",
    "eqphase = Eq(diff(pd(ps),ps), - phi * (pd(ps) - ps) / ((pd(ps) - ps) - T1 * (ps+ R3)))\n",
    "solphase = dsolve(eqphase)"
   ]
  },
  {
   "cell_type": "code",
   "execution_count": 305,
   "metadata": {},
   "outputs": [
    {
     "data": {
      "image/png": "[encoded data removed]",
      "text/plain": [
       "<Figure size 432x288 with 1 Axes>"
      ]
     },
     "metadata": {
      "needs_background": "light"
     },
     "output_type": "display_data"
    }
   ],
   "source": [
    "\n",
    "from numpy import * \n",
    "from scipy.integrate import odeint\n",
    "import matplotlib.pyplot as plt\n",
    "def system_2chambers(w,t,p):\n",
    "    ps,pd = w\n",
    "    par1,par2,par3 = p\n",
    "    f = [ pd - ps - par1 * (ps +par3),\n",
    "        -par2 * (pd - ps)]\n",
    "    return f\n",
    "\n",
    "T1 = 10\n",
    "phi = 3\n",
    "ps0 = -4\n",
    "pd0 = -5\n",
    "R3 = 3\n",
    "t = linspace(0,100,10000)\n",
    "p = [T1,phi,R3] #T1 is the ratio of the hydraulic parameters (for high values the top conduit is more efficient)\n",
    "w0 = [ps0,pd0] #phi measure the effective compressibility of the chambers for  small values  the lower chamber is compressible\n",
    "wsol = odeint(system_2chambers, w0, t,args =(p,))\n",
    "ps = wsol[:,0]\n",
    "pd = wsol[:,1]\n",
    "ps_analytic = -R3 + (-R3 - pd0 + (R3 + ps0)*(T1 - phi + sqrt(T1**2 - 2*T1*phi + 2*T1 + phi**2 + 2*phi + 1) + 1)/2)*exp(t*(-T1/2 - phi/2 - sqrt(4*phi + (-T1 + phi - 1)**2)/2 - 1/2))/sqrt(T1**2 - 2*T1*phi + 2*T1 + phi**2 + 2*phi + 1) + (2*R3 + 2*pd0 - (R3 + ps0)*(T1 - phi + sqrt(T1**2 - 2*T1*phi + 2*T1 + phi**2 + 2*phi + 1) + 1) + 2*(R3 + ps0)*sqrt(T1**2 - 2*T1*phi + 2*T1 + phi**2 + 2*phi + 1))*exp(t*(-T1/2 - phi/2 + sqrt(4*phi + (-T1 + phi - 1)**2)/2 - 1/2))/(2*sqrt(T1**2 - 2*T1*phi + 2*T1 + phi**2 + 2*phi + 1))\n",
    "pd_analytic =-R3 + (-R3 - pd0 + (R3 + ps0)*(T1 - phi + sqrt(T1**2 - 2*T1*phi + 2*T1 + phi**2 + 2*phi + 1) + 1)/2)*(T1/2 - phi/2 - sqrt(4*phi + (-T1 + phi - 1)**2)/2 + 1/2)*exp(t*(-T1/2 - phi/2 - sqrt(4*phi + (-T1 + phi - 1)**2)/2 - 1/2))/sqrt(T1**2 - 2*T1*phi + 2*T1 + phi**2 + 2*phi + 1) + (2*R3 + 2*pd0 - (R3 + ps0)*(T1 - phi + sqrt(T1**2 - 2*T1*phi + 2*T1 + phi**2 + 2*phi + 1) + 1) + 2*(R3 + ps0)*sqrt(T1**2 - 2*T1*phi + 2*T1 + phi**2 + 2*phi + 1))*(T1/2 - phi/2 + sqrt(4*phi + (-T1 + phi - 1)**2)/2 + 1/2)*exp(t*(-T1/2 - phi/2 + sqrt(4*phi + (-T1 + phi - 1)**2)/2 - 1/2))/(2*sqrt(T1**2 - 2*T1*phi + 2*T1 + phi**2 + 2*phi + 1))\n",
    "plt.plot(t,ps,'ko')\n",
    "plt.plot(t,ps_analytic,'b',linewidth = 2)\n",
    "plt.plot(t,pd,'ro')\n",
    "plt.plot(t,pd_analytic,'orange',linewidth = 2)\n",
    "\n",
    "\n",
    "plt.show()"
   ]
  },
  {
   "cell_type": "code",
   "execution_count": 384,
   "metadata": {},
   "outputs": [
    {
     "data": {
      "text/latex": [
       "$\\displaystyle \\operatorname{pd}{\\left(ps \\right)} = \\frac{\\phi ps^{2} \\left(\\frac{C_{1} \\phi \\left(\\frac{C_{1}}{- C_{1} + R_{3} T_{1}} + 1\\right)}{- C_{1} + R_{3} T_{1}} + \\frac{C_{1} \\left(- T_{1} - 1\\right)}{- C_{1} + R_{3} T_{1}} - 1\\right)}{2 \\left(- C_{1} + R_{3} T_{1}\\right)} + \\frac{\\phi ps^{3} \\left(\\frac{C_{1} \\phi \\left(\\frac{2 C_{1} \\left(- T_{1} - 1\\right)}{- C_{1} + R_{3} T_{1}} - T_{1} - 2\\right)}{- C_{1} + R_{3} T_{1}} + \\frac{C_{1} \\phi \\left(\\frac{2 C_{1} \\phi \\left(\\frac{C_{1}}{- C_{1} + R_{3} T_{1}} + 1\\right)}{- C_{1} + R_{3} T_{1}} + \\frac{2 C_{1} \\left(- T_{1} - 1\\right)}{- C_{1} + R_{3} T_{1}} - T_{1} + \\phi \\left(\\frac{C_{1}}{- C_{1} + R_{3} T_{1}} + 1\\right)^{2} - 2\\right)}{- C_{1} + R_{3} T_{1}} + \\frac{2 C_{1} \\left(- T_{1} - 1\\right)^{2}}{- C_{1} + R_{3} T_{1}} + 2 T_{1} + \\phi \\left(\\frac{C_{1}}{- C_{1} + R_{3} T_{1}} + 1\\right) \\left(\\frac{C_{1} \\left(- T_{1} - 1\\right)}{- C_{1} + R_{3} T_{1}} - 1\\right) + 2\\right)}{6 \\left(- C_{1} + R_{3} T_{1}\\right)^{2}} + \\frac{\\phi ps^{4} \\left(\\frac{2 C_{1} \\phi \\left(- T_{1} - 1\\right) \\left(\\frac{3 C_{1} \\left(- T_{1} - 1\\right)}{- C_{1} + R_{3} T_{1}} - T_{1} - 3\\right)}{- C_{1} + R_{3} T_{1}} + \\frac{2 C_{1} \\phi \\left(\\frac{C_{1} \\phi \\left(\\frac{3 C_{1} \\left(- T_{1} - 1\\right)}{- C_{1} + R_{3} T_{1}} - 2 T_{1} - 3\\right)}{- C_{1} + R_{3} T_{1}} + \\frac{3 C_{1} \\left(- T_{1} - 1\\right)^{2}}{- C_{1} + R_{3} T_{1}} + 2 T_{1} + \\phi \\left(\\frac{C_{1}}{- C_{1} + R_{3} T_{1}} + 1\\right) \\left(\\frac{C_{1} \\left(- T_{1} - 1\\right)}{- C_{1} + R_{3} T_{1}} - 1\\right) + \\phi \\left(\\frac{C_{1}}{- C_{1} + R_{3} T_{1}} + 1\\right) \\left(\\frac{2 C_{1} \\left(- T_{1} - 1\\right)}{- C_{1} + R_{3} T_{1}} - T_{1} - 2\\right) + \\left(- T_{1} - 1\\right)^{2} + 2\\right)}{- C_{1} + R_{3} T_{1}} + \\frac{C_{1} \\phi \\left(\\frac{2 C_{1} \\phi \\left(\\frac{3 C_{1} \\left(- T_{1} - 1\\right)}{- C_{1} + R_{3} T_{1}} - 2 T_{1} - 3\\right)}{- C_{1} + R_{3} T_{1}} + \\frac{2 C_{1} \\phi \\left(\\frac{3 C_{1} \\phi \\left(\\frac{C_{1}}{- C_{1} + R_{3} T_{1}} + 1\\right)}{- C_{1} + R_{3} T_{1}} + \\frac{3 C_{1} \\left(- T_{1} - 1\\right)}{- C_{1} + R_{3} T_{1}} - 2 T_{1} + 3 \\phi \\left(\\frac{C_{1}}{- C_{1} + R_{3} T_{1}} + 1\\right)^{2} - 3\\right)}{- C_{1} + R_{3} T_{1}} + \\frac{6 C_{1} \\left(- T_{1} - 1\\right)^{2}}{- C_{1} + R_{3} T_{1}} + 4 T_{1} + 2 \\phi \\left(\\frac{C_{1}}{- C_{1} + R_{3} T_{1}} + 1\\right) \\left(\\frac{C_{1} \\left(- T_{1} - 1\\right)}{- C_{1} + R_{3} T_{1}} - 1\\right) + 2 \\phi \\left(\\frac{C_{1}}{- C_{1} + R_{3} T_{1}} + 1\\right) \\left(\\frac{2 C_{1} \\left(- T_{1} - 1\\right)}{- C_{1} + R_{3} T_{1}} - T_{1} - 2\\right) + \\phi \\left(\\frac{C_{1}}{- C_{1} + R_{3} T_{1}} + 1\\right) \\left(\\frac{2 C_{1} \\phi \\left(\\frac{C_{1}}{- C_{1} + R_{3} T_{1}} + 1\\right)}{- C_{1} + R_{3} T_{1}} + \\frac{2 C_{1} \\left(- T_{1} - 1\\right)}{- C_{1} + R_{3} T_{1}} - T_{1} + \\phi \\left(\\frac{C_{1}}{- C_{1} + R_{3} T_{1}} + 1\\right)^{2} - 2\\right) + 2 \\left(- T_{1} - 1\\right)^{2} + 4\\right)}{- C_{1} + R_{3} T_{1}} + \\frac{6 C_{1} \\left(- T_{1} - 1\\right)^{3}}{- C_{1} + R_{3} T_{1}} + 2 \\phi \\left(- T_{1} - 1\\right) \\left(\\frac{C_{1}}{- C_{1} + R_{3} T_{1}} + 1\\right) \\left(\\frac{C_{1} \\left(- T_{1} - 1\\right)}{- C_{1} + R_{3} T_{1}} - 1\\right) + 2 \\phi \\left(\\frac{C_{1} \\left(- T_{1} - 1\\right)}{- C_{1} + R_{3} T_{1}} - 1\\right) \\left(\\frac{2 C_{1} \\left(- T_{1} - 1\\right)}{- C_{1} + R_{3} T_{1}} - T_{1} - 2\\right) + \\phi \\left(\\frac{C_{1} \\left(- T_{1} - 1\\right)}{- C_{1} + R_{3} T_{1}} - 1\\right) \\left(\\frac{2 C_{1} \\phi \\left(\\frac{C_{1}}{- C_{1} + R_{3} T_{1}} + 1\\right)}{- C_{1} + R_{3} T_{1}} + \\frac{2 C_{1} \\left(- T_{1} - 1\\right)}{- C_{1} + R_{3} T_{1}} - T_{1} + \\phi \\left(\\frac{C_{1}}{- C_{1} + R_{3} T_{1}} + 1\\right)^{2} - 2\\right) - 6 \\left(- T_{1} - 1\\right)^{2}\\right)}{24 \\left(- C_{1} + R_{3} T_{1}\\right)^{3}} + \\frac{\\phi ps^{5} \\left(\\frac{6 C_{1} \\phi \\left(- T_{1} - 1\\right)^{2} \\left(\\frac{4 C_{1} \\left(- T_{1} - 1\\right)}{- C_{1} + R_{3} T_{1}} - T_{1} - 4\\right)}{- C_{1} + R_{3} T_{1}} + \\frac{2 C_{1} \\phi \\left(\\frac{6 C_{1} \\phi \\left(- T_{1} - 1\\right) \\left(\\frac{2 C_{1} \\left(- T_{1} - 1\\right)}{- C_{1} + R_{3} T_{1}} - T_{1} - 2\\right)}{- C_{1} + R_{3} T_{1}} + \\frac{12 C_{1} \\left(- T_{1} - 1\\right)^{3}}{- C_{1} + R_{3} T_{1}} + 2 \\phi \\left(- T_{1} - 1\\right) \\left(\\frac{C_{1}}{- C_{1} + R_{3} T_{1}} + 1\\right) \\left(\\frac{C_{1} \\left(- T_{1} - 1\\right)}{- C_{1} + R_{3} T_{1}} - 1\\right) + 2 \\phi \\left(- T_{1} - 1\\right) \\left(\\frac{C_{1}}{- C_{1} + R_{3} T_{1}} + 1\\right) \\left(\\frac{3 C_{1} \\left(- T_{1} - 1\\right)}{- C_{1} + R_{3} T_{1}} - T_{1} - 3\\right) + 2 \\phi \\left(\\frac{C_{1} \\left(- T_{1} - 1\\right)}{- C_{1} + R_{3} T_{1}} - 1\\right) \\left(\\frac{3 C_{1} \\left(- T_{1} - 1\\right)}{- C_{1} + R_{3} T_{1}} - 2 T_{1} - 3\\right) + \\phi \\left(\\frac{2 C_{1} \\left(- T_{1} - 1\\right)}{- C_{1} + R_{3} T_{1}} - T_{1} - 2\\right)^{2} + 3 \\left(- T_{1} - 1\\right)^{3} - 9 \\left(- T_{1} - 1\\right)^{2}\\right)}{- C_{1} + R_{3} T_{1}} + \\frac{C_{1} \\phi \\left(\\frac{12 C_{1} \\phi \\left(- T_{1} - 1\\right) \\left(\\frac{2 C_{1} \\left(- T_{1} - 1\\right)}{- C_{1} + R_{3} T_{1}} - T_{1} - 2\\right)}{- C_{1} + R_{3} T_{1}} + \\frac{6 C_{1} \\phi \\left(\\frac{C_{1} \\phi \\left(\\frac{4 C_{1} \\left(- T_{1} - 1\\right)}{- C_{1} + R_{3} T_{1}} - 3 T_{1} - 4\\right)}{- C_{1} + R_{3} T_{1}} + \\frac{4 C_{1} \\left(- T_{1} - 1\\right)^{2}}{- C_{1} + R_{3} T_{1}} + 2 T_{1} + \\phi \\left(\\frac{C_{1}}{- C_{1} + R_{3} T_{1}} + 1\\right) \\left(\\frac{C_{1} \\left(- T_{1} - 1\\right)}{- C_{1} + R_{3} T_{1}} - 1\\right) + \\phi \\left(\\frac{C_{1}}{- C_{1} + R_{3} T_{1}} + 1\\right) \\left(\\frac{2 C_{1} \\left(- T_{1} - 1\\right)}{- C_{1} + R_{3} T_{1}} - T_{1} - 2\\right) + \\phi \\left(\\frac{C_{1}}{- C_{1} + R_{3} T_{1}} + 1\\right) \\left(\\frac{3 C_{1} \\left(- T_{1} - 1\\right)}{- C_{1} + R_{3} T_{1}} - 2 T_{1} - 3\\right) + 2 \\left(- T_{1} - 1\\right)^{2} + 2\\right)}{- C_{1} + R_{3} T_{1}} + \\frac{24 C_{1} \\left(- T_{1} - 1\\right)^{3}}{- C_{1} + R_{3} T_{1}} + 4 \\phi \\left(- T_{1} - 1\\right) \\left(\\frac{C_{1}}{- C_{1} + R_{3} T_{1}} + 1\\right) \\left(\\frac{C_{1} \\left(- T_{1} - 1\\right)}{- C_{1} + R_{3} T_{1}} - 1\\right) + 4 \\phi \\left(- T_{1} - 1\\right) \\left(\\frac{C_{1}}{- C_{1} + R_{3} T_{1}} + 1\\right) \\left(\\frac{3 C_{1} \\left(- T_{1} - 1\\right)}{- C_{1} + R_{3} T_{1}} - T_{1} - 3\\right) + 2 \\phi \\left(\\frac{C_{1}}{- C_{1} + R_{3} T_{1}} + 1\\right) \\left(\\frac{C_{1} \\phi \\left(\\frac{3 C_{1} \\left(- T_{1} - 1\\right)}{- C_{1} + R_{3} T_{1}} - 2 T_{1} - 3\\right)}{- C_{1} + R_{3} T_{1}} + \\frac{3 C_{1} \\left(- T_{1} - 1\\right)^{2}}{- C_{1} + R_{3} T_{1}} + 2 T_{1} + \\phi \\left(\\frac{C_{1}}{- C_{1} + R_{3} T_{1}} + 1\\right) \\left(\\frac{C_{1} \\left(- T_{1} - 1\\right)}{- C_{1} + R_{3} T_{1}} - 1\\right) + \\phi \\left(\\frac{C_{1}}{- C_{1} + R_{3} T_{1}} + 1\\right) \\left(\\frac{2 C_{1} \\left(- T_{1} - 1\\right)}{- C_{1} + R_{3} T_{1}} - T_{1} - 2\\right) + \\left(- T_{1} - 1\\right)^{2} + 2\\right) + 4 \\phi \\left(\\frac{C_{1} \\left(- T_{1} - 1\\right)}{- C_{1} + R_{3} T_{1}} - 1\\right) \\left(\\frac{3 C_{1} \\left(- T_{1} - 1\\right)}{- C_{1} + R_{3} T_{1}} - 2 T_{1} - 3\\right) + 2 \\phi \\left(\\frac{C_{1} \\left(- T_{1} - 1\\right)}{- C_{1} + R_{3} T_{1}} - 1\\right) \\left(\\frac{3 C_{1} \\phi \\left(\\frac{C_{1}}{- C_{1} + R_{3} T_{1}} + 1\\right)}{- C_{1} + R_{3} T_{1}} + \\frac{3 C_{1} \\left(- T_{1} - 1\\right)}{- C_{1} + R_{3} T_{1}} - 2 T_{1} + 3 \\phi \\left(\\frac{C_{1}}{- C_{1} + R_{3} T_{1}} + 1\\right)^{2} - 3\\right) + 2 \\phi \\left(\\frac{2 C_{1} \\left(- T_{1} - 1\\right)}{- C_{1} + R_{3} T_{1}} - T_{1} - 2\\right)^{2} + \\phi \\left(\\frac{2 C_{1} \\left(- T_{1} - 1\\right)}{- C_{1} + R_{3} T_{1}} - T_{1} - 2\\right) \\left(\\frac{2 C_{1} \\phi \\left(\\frac{C_{1}}{- C_{1} + R_{3} T_{1}} + 1\\right)}{- C_{1} + R_{3} T_{1}} + \\frac{2 C_{1} \\left(- T_{1} - 1\\right)}{- C_{1} + R_{3} T_{1}} - T_{1} + \\phi \\left(\\frac{C_{1}}{- C_{1} + R_{3} T_{1}} + 1\\right)^{2} - 2\\right) + 6 \\left(- T_{1} - 1\\right)^{3} - 18 \\left(- T_{1} - 1\\right)^{2}\\right)}{- C_{1} + R_{3} T_{1}} + \\frac{C_{1} \\phi \\left(\\frac{12 C_{1} \\phi \\left(- T_{1} - 1\\right) \\left(\\frac{2 C_{1} \\left(- T_{1} - 1\\right)}{- C_{1} + R_{3} T_{1}} - T_{1} - 2\\right)}{- C_{1} + R_{3} T_{1}} + \\frac{6 C_{1} \\phi \\left(\\frac{C_{1} \\phi \\left(\\frac{4 C_{1} \\left(- T_{1} - 1\\right)}{- C_{1} + R_{3} T_{1}} - 3 T_{1} - 4\\right)}{- C_{1} + R_{3} T_{1}} + \\frac{4 C_{1} \\left(- T_{1} - 1\\right)^{2}}{- C_{1} + R_{3} T_{1}} + 2 T_{1} + \\phi \\left(\\frac{C_{1}}{- C_{1} + R_{3} T_{1}} + 1\\right) \\left(\\frac{C_{1} \\left(- T_{1} - 1\\right)}{- C_{1} + R_{3} T_{1}} - 1\\right) + \\phi \\left(\\frac{C_{1}}{- C_{1} + R_{3} T_{1}} + 1\\right) \\left(\\frac{2 C_{1} \\left(- T_{1} - 1\\right)}{- C_{1} + R_{3} T_{1}} - T_{1} - 2\\right) + \\phi \\left(\\frac{C_{1}}{- C_{1} + R_{3} T_{1}} + 1\\right) \\left(\\frac{3 C_{1} \\left(- T_{1} - 1\\right)}{- C_{1} + R_{3} T_{1}} - 2 T_{1} - 3\\right) + 2 \\left(- T_{1} - 1\\right)^{2} + 2\\right)}{- C_{1} + R_{3} T_{1}} + \\frac{2 C_{1} \\phi \\left(\\frac{3 C_{1} \\phi \\left(\\frac{4 C_{1} \\left(- T_{1} - 1\\right)}{- C_{1} + R_{3} T_{1}} - 3 T_{1} - 4\\right)}{- C_{1} + R_{3} T_{1}} + \\frac{3 C_{1} \\phi \\left(\\frac{4 C_{1} \\phi \\left(\\frac{C_{1}}{- C_{1} + R_{3} T_{1}} + 1\\right)}{- C_{1} + R_{3} T_{1}} + \\frac{4 C_{1} \\left(- T_{1} - 1\\right)}{- C_{1} + R_{3} T_{1}} - 3 T_{1} + 6 \\phi \\left(\\frac{C_{1}}{- C_{1} + R_{3} T_{1}} + 1\\right)^{2} - 4\\right)}{- C_{1} + R_{3} T_{1}} + \\frac{12 C_{1} \\left(- T_{1} - 1\\right)^{2}}{- C_{1} + R_{3} T_{1}} + 6 T_{1} + 3 \\phi \\left(\\frac{C_{1}}{- C_{1} + R_{3} T_{1}} + 1\\right) \\left(\\frac{C_{1} \\left(- T_{1} - 1\\right)}{- C_{1} + R_{3} T_{1}} - 1\\right) + 3 \\phi \\left(\\frac{C_{1}}{- C_{1} + R_{3} T_{1}} + 1\\right) \\left(\\frac{2 C_{1} \\left(- T_{1} - 1\\right)}{- C_{1} + R_{3} T_{1}} - T_{1} - 2\\right) + 3 \\phi \\left(\\frac{C_{1}}{- C_{1} + R_{3} T_{1}} + 1\\right) \\left(\\frac{3 C_{1} \\left(- T_{1} - 1\\right)}{- C_{1} + R_{3} T_{1}} - 2 T_{1} - 3\\right) + \\phi \\left(\\frac{C_{1}}{- C_{1} + R_{3} T_{1}} + 1\\right) \\left(\\frac{2 C_{1} \\phi \\left(\\frac{C_{1}}{- C_{1} + R_{3} T_{1}} + 1\\right)}{- C_{1} + R_{3} T_{1}} + \\frac{2 C_{1} \\left(- T_{1} - 1\\right)}{- C_{1} + R_{3} T_{1}} - T_{1} + \\phi \\left(\\frac{C_{1}}{- C_{1} + R_{3} T_{1}} + 1\\right)^{2} - 2\\right) + 2 \\phi \\left(\\frac{C_{1}}{- C_{1} + R_{3} T_{1}} + 1\\right) \\left(\\frac{3 C_{1} \\phi \\left(\\frac{C_{1}}{- C_{1} + R_{3} T_{1}} + 1\\right)}{- C_{1} + R_{3} T_{1}} + \\frac{3 C_{1} \\left(- T_{1} - 1\\right)}{- C_{1} + R_{3} T_{1}} - 2 T_{1} + 3 \\phi \\left(\\frac{C_{1}}{- C_{1} + R_{3} T_{1}} + 1\\right)^{2} - 3\\right) + 6 \\left(- T_{1} - 1\\right)^{2} + 6\\right)}{- C_{1} + R_{3} T_{1}} + \\frac{24 C_{1} \\left(- T_{1} - 1\\right)^{3}}{- C_{1} + R_{3} T_{1}} + 4 \\phi \\left(- T_{1} - 1\\right) \\left(\\frac{C_{1}}{- C_{1} + R_{3} T_{1}} + 1\\right) \\left(\\frac{C_{1} \\left(- T_{1} - 1\\right)}{- C_{1} + R_{3} T_{1}} - 1\\right) + 4 \\phi \\left(- T_{1} - 1\\right) \\left(\\frac{C_{1}}{- C_{1} + R_{3} T_{1}} + 1\\right) \\left(\\frac{3 C_{1} \\left(- T_{1} - 1\\right)}{- C_{1} + R_{3} T_{1}} - T_{1} - 3\\right) + 2 \\phi \\left(\\frac{C_{1}}{- C_{1} + R_{3} T_{1}} + 1\\right) \\left(\\frac{C_{1} \\phi \\left(\\frac{3 C_{1} \\left(- T_{1} - 1\\right)}{- C_{1} + R_{3} T_{1}} - 2 T_{1} - 3\\right)}{- C_{1} + R_{3} T_{1}} + \\frac{3 C_{1} \\left(- T_{1} - 1\\right)^{2}}{- C_{1} + R_{3} T_{1}} + 2 T_{1} + \\phi \\left(\\frac{C_{1}}{- C_{1} + R_{3} T_{1}} + 1\\right) \\left(\\frac{C_{1} \\left(- T_{1} - 1\\right)}{- C_{1} + R_{3} T_{1}} - 1\\right) + \\phi \\left(\\frac{C_{1}}{- C_{1} + R_{3} T_{1}} + 1\\right) \\left(\\frac{2 C_{1} \\left(- T_{1} - 1\\right)}{- C_{1} + R_{3} T_{1}} - T_{1} - 2\\right) + \\left(- T_{1} - 1\\right)^{2} + 2\\right) + \\phi \\left(\\frac{C_{1}}{- C_{1} + R_{3} T_{1}} + 1\\right) \\left(\\frac{2 C_{1} \\phi \\left(\\frac{3 C_{1} \\left(- T_{1} - 1\\right)}{- C_{1} + R_{3} T_{1}} - 2 T_{1} - 3\\right)}{- C_{1} + R_{3} T_{1}} + \\frac{2 C_{1} \\phi \\left(\\frac{3 C_{1} \\phi \\left(\\frac{C_{1}}{- C_{1} + R_{3} T_{1}} + 1\\right)}{- C_{1} + R_{3} T_{1}} + \\frac{3 C_{1} \\left(- T_{1} - 1\\right)}{- C_{1} + R_{3} T_{1}} - 2 T_{1} + 3 \\phi \\left(\\frac{C_{1}}{- C_{1} + R_{3} T_{1}} + 1\\right)^{2} - 3\\right)}{- C_{1} + R_{3} T_{1}} + \\frac{6 C_{1} \\left(- T_{1} - 1\\right)^{2}}{- C_{1} + R_{3} T_{1}} + 4 T_{1} + 2 \\phi \\left(\\frac{C_{1}}{- C_{1} + R_{3} T_{1}} + 1\\right) \\left(\\frac{C_{1} \\left(- T_{1} - 1\\right)}{- C_{1} + R_{3} T_{1}} - 1\\right) + 2 \\phi \\left(\\frac{C_{1}}{- C_{1} + R_{3} T_{1}} + 1\\right) \\left(\\frac{2 C_{1} \\left(- T_{1} - 1\\right)}{- C_{1} + R_{3} T_{1}} - T_{1} - 2\\right) + \\phi \\left(\\frac{C_{1}}{- C_{1} + R_{3} T_{1}} + 1\\right) \\left(\\frac{2 C_{1} \\phi \\left(\\frac{C_{1}}{- C_{1} + R_{3} T_{1}} + 1\\right)}{- C_{1} + R_{3} T_{1}} + \\frac{2 C_{1} \\left(- T_{1} - 1\\right)}{- C_{1} + R_{3} T_{1}} - T_{1} + \\phi \\left(\\frac{C_{1}}{- C_{1} + R_{3} T_{1}} + 1\\right)^{2} - 2\\right) + 2 \\left(- T_{1} - 1\\right)^{2} + 4\\right) + 4 \\phi \\left(\\frac{C_{1} \\left(- T_{1} - 1\\right)}{- C_{1} + R_{3} T_{1}} - 1\\right) \\left(\\frac{3 C_{1} \\left(- T_{1} - 1\\right)}{- C_{1} + R_{3} T_{1}} - 2 T_{1} - 3\\right) + 2 \\phi \\left(\\frac{C_{1} \\left(- T_{1} - 1\\right)}{- C_{1} + R_{3} T_{1}} - 1\\right) \\left(\\frac{3 C_{1} \\phi \\left(\\frac{C_{1}}{- C_{1} + R_{3} T_{1}} + 1\\right)}{- C_{1} + R_{3} T_{1}} + \\frac{3 C_{1} \\left(- T_{1} - 1\\right)}{- C_{1} + R_{3} T_{1}} - 2 T_{1} + 3 \\phi \\left(\\frac{C_{1}}{- C_{1} + R_{3} T_{1}} + 1\\right)^{2} - 3\\right) + 2 \\phi \\left(\\frac{2 C_{1} \\left(- T_{1} - 1\\right)}{- C_{1} + R_{3} T_{1}} - T_{1} - 2\\right)^{2} + \\phi \\left(\\frac{2 C_{1} \\left(- T_{1} - 1\\right)}{- C_{1} + R_{3} T_{1}} - T_{1} - 2\\right) \\left(\\frac{2 C_{1} \\phi \\left(\\frac{C_{1}}{- C_{1} + R_{3} T_{1}} + 1\\right)}{- C_{1} + R_{3} T_{1}} + \\frac{2 C_{1} \\left(- T_{1} - 1\\right)}{- C_{1} + R_{3} T_{1}} - T_{1} + \\phi \\left(\\frac{C_{1}}{- C_{1} + R_{3} T_{1}} + 1\\right)^{2} - 2\\right) + 6 \\left(- T_{1} - 1\\right)^{3} - 18 \\left(- T_{1} - 1\\right)^{2}\\right)}{- C_{1} + R_{3} T_{1}} + \\frac{24 C_{1} \\left(- T_{1} - 1\\right)^{4}}{- C_{1} + R_{3} T_{1}} + 6 \\phi \\left(- T_{1} - 1\\right)^{2} \\left(\\frac{C_{1}}{- C_{1} + R_{3} T_{1}} + 1\\right) \\left(\\frac{C_{1} \\left(- T_{1} - 1\\right)}{- C_{1} + R_{3} T_{1}} - 1\\right) + 6 \\phi \\left(- T_{1} - 1\\right) \\left(\\frac{C_{1} \\left(- T_{1} - 1\\right)}{- C_{1} + R_{3} T_{1}} - 1\\right) \\left(\\frac{2 C_{1} \\left(- T_{1} - 1\\right)}{- C_{1} + R_{3} T_{1}} - T_{1} - 2\\right) + 6 \\phi \\left(- T_{1} - 1\\right) \\left(\\frac{C_{1} \\left(- T_{1} - 1\\right)}{- C_{1} + R_{3} T_{1}} - 1\\right) \\left(\\frac{3 C_{1} \\left(- T_{1} - 1\\right)}{- C_{1} + R_{3} T_{1}} - T_{1} - 3\\right) + 2 \\phi \\left(- T_{1} - 1\\right) \\left(\\frac{C_{1} \\left(- T_{1} - 1\\right)}{- C_{1} + R_{3} T_{1}} - 1\\right) \\left(\\frac{2 C_{1} \\phi \\left(\\frac{C_{1}}{- C_{1} + R_{3} T_{1}} + 1\\right)}{- C_{1} + R_{3} T_{1}} + \\frac{2 C_{1} \\left(- T_{1} - 1\\right)}{- C_{1} + R_{3} T_{1}} - T_{1} + \\phi \\left(\\frac{C_{1}}{- C_{1} + R_{3} T_{1}} + 1\\right)^{2} - 2\\right) + 4 \\phi \\left(\\frac{C_{1} \\left(- T_{1} - 1\\right)}{- C_{1} + R_{3} T_{1}} - 1\\right) \\left(\\frac{C_{1} \\phi \\left(\\frac{3 C_{1} \\left(- T_{1} - 1\\right)}{- C_{1} + R_{3} T_{1}} - 2 T_{1} - 3\\right)}{- C_{1} + R_{3} T_{1}} + \\frac{3 C_{1} \\left(- T_{1} - 1\\right)^{2}}{- C_{1} + R_{3} T_{1}} + 2 T_{1} + \\phi \\left(\\frac{C_{1}}{- C_{1} + R_{3} T_{1}} + 1\\right) \\left(\\frac{C_{1} \\left(- T_{1} - 1\\right)}{- C_{1} + R_{3} T_{1}} - 1\\right) + \\phi \\left(\\frac{C_{1}}{- C_{1} + R_{3} T_{1}} + 1\\right) \\left(\\frac{2 C_{1} \\left(- T_{1} - 1\\right)}{- C_{1} + R_{3} T_{1}} - T_{1} - 2\\right) + \\left(- T_{1} - 1\\right)^{2} + 2\\right) + \\phi \\left(\\frac{C_{1} \\left(- T_{1} - 1\\right)}{- C_{1} + R_{3} T_{1}} - 1\\right) \\left(\\frac{2 C_{1} \\phi \\left(\\frac{3 C_{1} \\left(- T_{1} - 1\\right)}{- C_{1} + R_{3} T_{1}} - 2 T_{1} - 3\\right)}{- C_{1} + R_{3} T_{1}} + \\frac{2 C_{1} \\phi \\left(\\frac{3 C_{1} \\phi \\left(\\frac{C_{1}}{- C_{1} + R_{3} T_{1}} + 1\\right)}{- C_{1} + R_{3} T_{1}} + \\frac{3 C_{1} \\left(- T_{1} - 1\\right)}{- C_{1} + R_{3} T_{1}} - 2 T_{1} + 3 \\phi \\left(\\frac{C_{1}}{- C_{1} + R_{3} T_{1}} + 1\\right)^{2} - 3\\right)}{- C_{1} + R_{3} T_{1}} + \\frac{6 C_{1} \\left(- T_{1} - 1\\right)^{2}}{- C_{1} + R_{3} T_{1}} + 4 T_{1} + 2 \\phi \\left(\\frac{C_{1}}{- C_{1} + R_{3} T_{1}} + 1\\right) \\left(\\frac{C_{1} \\left(- T_{1} - 1\\right)}{- C_{1} + R_{3} T_{1}} - 1\\right) + 2 \\phi \\left(\\frac{C_{1}}{- C_{1} + R_{3} T_{1}} + 1\\right) \\left(\\frac{2 C_{1} \\left(- T_{1} - 1\\right)}{- C_{1} + R_{3} T_{1}} - T_{1} - 2\\right) + \\phi \\left(\\frac{C_{1}}{- C_{1} + R_{3} T_{1}} + 1\\right) \\left(\\frac{2 C_{1} \\phi \\left(\\frac{C_{1}}{- C_{1} + R_{3} T_{1}} + 1\\right)}{- C_{1} + R_{3} T_{1}} + \\frac{2 C_{1} \\left(- T_{1} - 1\\right)}{- C_{1} + R_{3} T_{1}} - T_{1} + \\phi \\left(\\frac{C_{1}}{- C_{1} + R_{3} T_{1}} + 1\\right)^{2} - 2\\right) + 2 \\left(- T_{1} - 1\\right)^{2} + 4\\right) - 24 \\left(- T_{1} - 1\\right)^{3}\\right)}{120 \\left(- C_{1} + R_{3} T_{1}\\right)^{4}} + C_{1} + \\frac{C_{1} \\phi ps}{- C_{1} + R_{3} T_{1}} + O\\left(ps^{6}\\right)$"
      ],
      "text/plain": [
       "Eq(pd(ps), phi*ps**2*(C1*phi*(C1/(-C1 + R3*T1) + 1)/(-C1 + R3*T1) + C1*(-T1 - 1)/(-C1 + R3*T1) - 1)/(2*(-C1 + R3*T1)) + phi*ps**3*(C1*phi*(2*C1*(-T1 - 1)/(-C1 + R3*T1) - T1 - 2)/(-C1 + R3*T1) + C1*phi*(2*C1*phi*(C1/(-C1 + R3*T1) + 1)/(-C1 + R3*T1) + 2*C1*(-T1 - 1)/(-C1 + R3*T1) - T1 + phi*(C1/(-C1 + R3*T1) + 1)**2 - 2)/(-C1 + R3*T1) + 2*C1*(-T1 - 1)**2/(-C1 + R3*T1) + 2*T1 + phi*(C1/(-C1 + R3*T1) + 1)*(C1*(-T1 - 1)/(-C1 + R3*T1) - 1) + 2)/(6*(-C1 + R3*T1)**2) + phi*ps**4*(2*C1*phi*(-T1 - 1)*(3*C1*(-T1 - 1)/(-C1 + R3*T1) - T1 - 3)/(-C1 + R3*T1) + 2*C1*phi*(C1*phi*(3*C1*(-T1 - 1)/(-C1 + R3*T1) - 2*T1 - 3)/(-C1 + R3*T1) + 3*C1*(-T1 - 1)**2/(-C1 + R3*T1) + 2*T1 + phi*(C1/(-C1 + R3*T1) + 1)*(C1*(-T1 - 1)/(-C1 + R3*T1) - 1) + phi*(C1/(-C1 + R3*T1) + 1)*(2*C1*(-T1 - 1)/(-C1 + R3*T1) - T1 - 2) + (-T1 - 1)**2 + 2)/(-C1 + R3*T1) + C1*phi*(2*C1*phi*(3*C1*(-T1 - 1)/(-C1 + R3*T1) - 2*T1 - 3)/(-C1 + R3*T1) + 2*C1*phi*(3*C1*phi*(C1/(-C1 + R3*T1) + 1)/(-C1 + R3*T1) + 3*C1*(-T1 - 1)/(-C1 + R3*T1) - 2*T1 + 3*phi*(C1/(-C1 + R3*T1) + 1)**2 - 3)/(-C1 + R3*T1) + 6*C1*(-T1 - 1)**2/(-C1 + R3*T1) + 4*T1 + 2*phi*(C1/(-C1 + R3*T1) + 1)*(C1*(-T1 - 1)/(-C1 + R3*T1) - 1) + 2*phi*(C1/(-C1 + R3*T1) + 1)*(2*C1*(-T1 - 1)/(-C1 + R3*T1) - T1 - 2) + phi*(C1/(-C1 + R3*T1) + 1)*(2*C1*phi*(C1/(-C1 + R3*T1) + 1)/(-C1 + R3*T1) + 2*C1*(-T1 - 1)/(-C1 + R3*T1) - T1 + phi*(C1/(-C1 + R3*T1) + 1)**2 - 2) + 2*(-T1 - 1)**2 + 4)/(-C1 + R3*T1) + 6*C1*(-T1 - 1)**3/(-C1 + R3*T1) + 2*phi*(-T1 - 1)*(C1/(-C1 + R3*T1) + 1)*(C1*(-T1 - 1)/(-C1 + R3*T1) - 1) + 2*phi*(C1*(-T1 - 1)/(-C1 + R3*T1) - 1)*(2*C1*(-T1 - 1)/(-C1 + R3*T1) - T1 - 2) + phi*(C1*(-T1 - 1)/(-C1 + R3*T1) - 1)*(2*C1*phi*(C1/(-C1 + R3*T1) + 1)/(-C1 + R3*T1) + 2*C1*(-T1 - 1)/(-C1 + R3*T1) - T1 + phi*(C1/(-C1 + R3*T1) + 1)**2 - 2) - 6*(-T1 - 1)**2)/(24*(-C1 + R3*T1)**3) + phi*ps**5*(6*C1*phi*(-T1 - 1)**2*(4*C1*(-T1 - 1)/(-C1 + R3*T1) - T1 - 4)/(-C1 + R3*T1) + 2*C1*phi*(6*C1*phi*(-T1 - 1)*(2*C1*(-T1 - 1)/(-C1 + R3*T1) - T1 - 2)/(-C1 + R3*T1) + 12*C1*(-T1 - 1)**3/(-C1 + R3*T1) + 2*phi*(-T1 - 1)*(C1/(-C1 + R3*T1) + 1)*(C1*(-T1 - 1)/(-C1 + R3*T1) - 1) + 2*phi*(-T1 - 1)*(C1/(-C1 + R3*T1) + 1)*(3*C1*(-T1 - 1)/(-C1 + R3*T1) - T1 - 3) + 2*phi*(C1*(-T1 - 1)/(-C1 + R3*T1) - 1)*(3*C1*(-T1 - 1)/(-C1 + R3*T1) - 2*T1 - 3) + phi*(2*C1*(-T1 - 1)/(-C1 + R3*T1) - T1 - 2)**2 + 3*(-T1 - 1)**3 - 9*(-T1 - 1)**2)/(-C1 + R3*T1) + C1*phi*(12*C1*phi*(-T1 - 1)*(2*C1*(-T1 - 1)/(-C1 + R3*T1) - T1 - 2)/(-C1 + R3*T1) + 6*C1*phi*(C1*phi*(4*C1*(-T1 - 1)/(-C1 + R3*T1) - 3*T1 - 4)/(-C1 + R3*T1) + 4*C1*(-T1 - 1)**2/(-C1 + R3*T1) + 2*T1 + phi*(C1/(-C1 + R3*T1) + 1)*(C1*(-T1 - 1)/(-C1 + R3*T1) - 1) + phi*(C1/(-C1 + R3*T1) + 1)*(2*C1*(-T1 - 1)/(-C1 + R3*T1) - T1 - 2) + phi*(C1/(-C1 + R3*T1) + 1)*(3*C1*(-T1 - 1)/(-C1 + R3*T1) - 2*T1 - 3) + 2*(-T1 - 1)**2 + 2)/(-C1 + R3*T1) + 24*C1*(-T1 - 1)**3/(-C1 + R3*T1) + 4*phi*(-T1 - 1)*(C1/(-C1 + R3*T1) + 1)*(C1*(-T1 - 1)/(-C1 + R3*T1) - 1) + 4*phi*(-T1 - 1)*(C1/(-C1 + R3*T1) + 1)*(3*C1*(-T1 - 1)/(-C1 + R3*T1) - T1 - 3) + 2*phi*(C1/(-C1 + R3*T1) + 1)*(C1*phi*(3*C1*(-T1 - 1)/(-C1 + R3*T1) - 2*T1 - 3)/(-C1 + R3*T1) + 3*C1*(-T1 - 1)**2/(-C1 + R3*T1) + 2*T1 + phi*(C1/(-C1 + R3*T1) + 1)*(C1*(-T1 - 1)/(-C1 + R3*T1) - 1) + phi*(C1/(-C1 + R3*T1) + 1)*(2*C1*(-T1 - 1)/(-C1 + R3*T1) - T1 - 2) + (-T1 - 1)**2 + 2) + 4*phi*(C1*(-T1 - 1)/(-C1 + R3*T1) - 1)*(3*C1*(-T1 - 1)/(-C1 + R3*T1) - 2*T1 - 3) + 2*phi*(C1*(-T1 - 1)/(-C1 + R3*T1) - 1)*(3*C1*phi*(C1/(-C1 + R3*T1) + 1)/(-C1 + R3*T1) + 3*C1*(-T1 - 1)/(-C1 + R3*T1) - 2*T1 + 3*phi*(C1/(-C1 + R3*T1) + 1)**2 - 3) + 2*phi*(2*C1*(-T1 - 1)/(-C1 + R3*T1) - T1 - 2)**2 + phi*(2*C1*(-T1 - 1)/(-C1 + R3*T1) - T1 - 2)*(2*C1*phi*(C1/(-C1 + R3*T1) + 1)/(-C1 + R3*T1) + 2*C1*(-T1 - 1)/(-C1 + R3*T1) - T1 + phi*(C1/(-C1 + R3*T1) + 1)**2 - 2) + 6*(-T1 - 1)**3 - 18*(-T1 - 1)**2)/(-C1 + R3*T1) + C1*phi*(12*C1*phi*(-T1 - 1)*(2*C1*(-T1 - 1)/(-C1 + R3*T1) - T1 - 2)/(-C1 + R3*T1) + 6*C1*phi*(C1*phi*(4*C1*(-T1 - 1)/(-C1 + R3*T1) - 3*T1 - 4)/(-C1 + R3*T1) + 4*C1*(-T1 - 1)**2/(-C1 + R3*T1) + 2*T1 + phi*(C1/(-C1 + R3*T1) + 1)*(C1*(-T1 - 1)/(-C1 + R3*T1) - 1) + phi*(C1/(-C1 + R3*T1) + 1)*(2*C1*(-T1 - 1)/(-C1 + R3*T1) - T1 - 2) + phi*(C1/(-C1 + R3*T1) + 1)*(3*C1*(-T1 - 1)/(-C1 + R3*T1) - 2*T1 - 3) + 2*(-T1 - 1)**2 + 2)/(-C1 + R3*T1) + 2*C1*phi*(3*C1*phi*(4*C1*(-T1 - 1)/(-C1 + R3*T1) - 3*T1 - 4)/(-C1 + R3*T1) + 3*C1*phi*(4*C1*phi*(C1/(-C1 + R3*T1) + 1)/(-C1 + R3*T1) + 4*C1*(-T1 - 1)/(-C1 + R3*T1) - 3*T1 + 6*phi*(C1/(-C1 + R3*T1) + 1)**2 - 4)/(-C1 + R3*T1) + 12*C1*(-T1 - 1)**2/(-C1 + R3*T1) + 6*T1 + 3*phi*(C1/(-C1 + R3*T1) + 1)*(C1*(-T1 - 1)/(-C1 + R3*T1) - 1) + 3*phi*(C1/(-C1 + R3*T1) + 1)*(2*C1*(-T1 - 1)/(-C1 + R3*T1) - T1 - 2) + 3*phi*(C1/(-C1 + R3*T1) + 1)*(3*C1*(-T1 - 1)/(-C1 + R3*T1) - 2*T1 - 3) + phi*(C1/(-C1 + R3*T1) + 1)*(2*C1*phi*(C1/(-C1 + R3*T1) + 1)/(-C1 + R3*T1) + 2*C1*(-T1 - 1)/(-C1 + R3*T1) - T1 + phi*(C1/(-C1 + R3*T1) + 1)**2 - 2) + 2*phi*(C1/(-C1 + R3*T1) + 1)*(3*C1*phi*(C1/(-C1 + R3*T1) + 1)/(-C1 + R3*T1) + 3*C1*(-T1 - 1)/(-C1 + R3*T1) - 2*T1 + 3*phi*(C1/(-C1 + R3*T1) + 1)**2 - 3) + 6*(-T1 - 1)**2 + 6)/(-C1 + R3*T1) + 24*C1*(-T1 - 1)**3/(-C1 + R3*T1) + 4*phi*(-T1 - 1)*(C1/(-C1 + R3*T1) + 1)*(C1*(-T1 - 1)/(-C1 + R3*T1) - 1) + 4*phi*(-T1 - 1)*(C1/(-C1 + R3*T1) + 1)*(3*C1*(-T1 - 1)/(-C1 + R3*T1) - T1 - 3) + 2*phi*(C1/(-C1 + R3*T1) + 1)*(C1*phi*(3*C1*(-T1 - 1)/(-C1 + R3*T1) - 2*T1 - 3)/(-C1 + R3*T1) + 3*C1*(-T1 - 1)**2/(-C1 + R3*T1) + 2*T1 + phi*(C1/(-C1 + R3*T1) + 1)*(C1*(-T1 - 1)/(-C1 + R3*T1) - 1) + phi*(C1/(-C1 + R3*T1) + 1)*(2*C1*(-T1 - 1)/(-C1 + R3*T1) - T1 - 2) + (-T1 - 1)**2 + 2) + phi*(C1/(-C1 + R3*T1) + 1)*(2*C1*phi*(3*C1*(-T1 - 1)/(-C1 + R3*T1) - 2*T1 - 3)/(-C1 + R3*T1) + 2*C1*phi*(3*C1*phi*(C1/(-C1 + R3*T1) + 1)/(-C1 + R3*T1) + 3*C1*(-T1 - 1)/(-C1 + R3*T1) - 2*T1 + 3*phi*(C1/(-C1 + R3*T1) + 1)**2 - 3)/(-C1 + R3*T1) + 6*C1*(-T1 - 1)**2/(-C1 + R3*T1) + 4*T1 + 2*phi*(C1/(-C1 + R3*T1) + 1)*(C1*(-T1 - 1)/(-C1 + R3*T1) - 1) + 2*phi*(C1/(-C1 + R3*T1) + 1)*(2*C1*(-T1 - 1)/(-C1 + R3*T1) - T1 - 2) + phi*(C1/(-C1 + R3*T1) + 1)*(2*C1*phi*(C1/(-C1 + R3*T1) + 1)/(-C1 + R3*T1) + 2*C1*(-T1 - 1)/(-C1 + R3*T1) - T1 + phi*(C1/(-C1 + R3*T1) + 1)**2 - 2) + 2*(-T1 - 1)**2 + 4) + 4*phi*(C1*(-T1 - 1)/(-C1 + R3*T1) - 1)*(3*C1*(-T1 - 1)/(-C1 + R3*T1) - 2*T1 - 3) + 2*phi*(C1*(-T1 - 1)/(-C1 + R3*T1) - 1)*(3*C1*phi*(C1/(-C1 + R3*T1) + 1)/(-C1 + R3*T1) + 3*C1*(-T1 - 1)/(-C1 + R3*T1) - 2*T1 + 3*phi*(C1/(-C1 + R3*T1) + 1)**2 - 3) + 2*phi*(2*C1*(-T1 - 1)/(-C1 + R3*T1) - T1 - 2)**2 + phi*(2*C1*(-T1 - 1)/(-C1 + R3*T1) - T1 - 2)*(2*C1*phi*(C1/(-C1 + R3*T1) + 1)/(-C1 + R3*T1) + 2*C1*(-T1 - 1)/(-C1 + R3*T1) - T1 + phi*(C1/(-C1 + R3*T1) + 1)**2 - 2) + 6*(-T1 - 1)**3 - 18*(-T1 - 1)**2)/(-C1 + R3*T1) + 24*C1*(-T1 - 1)**4/(-C1 + R3*T1) + 6*phi*(-T1 - 1)**2*(C1/(-C1 + R3*T1) + 1)*(C1*(-T1 - 1)/(-C1 + R3*T1) - 1) + 6*phi*(-T1 - 1)*(C1*(-T1 - 1)/(-C1 + R3*T1) - 1)*(2*C1*(-T1 - 1)/(-C1 + R3*T1) - T1 - 2) + 6*phi*(-T1 - 1)*(C1*(-T1 - 1)/(-C1 + R3*T1) - 1)*(3*C1*(-T1 - 1)/(-C1 + R3*T1) - T1 - 3) + 2*phi*(-T1 - 1)*(C1*(-T1 - 1)/(-C1 + R3*T1) - 1)*(2*C1*phi*(C1/(-C1 + R3*T1) + 1)/(-C1 + R3*T1) + 2*C1*(-T1 - 1)/(-C1 + R3*T1) - T1 + phi*(C1/(-C1 + R3*T1) + 1)**2 - 2) + 4*phi*(C1*(-T1 - 1)/(-C1 + R3*T1) - 1)*(C1*phi*(3*C1*(-T1 - 1)/(-C1 + R3*T1) - 2*T1 - 3)/(-C1 + R3*T1) + 3*C1*(-T1 - 1)**2/(-C1 + R3*T1) + 2*T1 + phi*(C1/(-C1 + R3*T1) + 1)*(C1*(-T1 - 1)/(-C1 + R3*T1) - 1) + phi*(C1/(-C1 + R3*T1) + 1)*(2*C1*(-T1 - 1)/(-C1 + R3*T1) - T1 - 2) + (-T1 - 1)**2 + 2) + phi*(C1*(-T1 - 1)/(-C1 + R3*T1) - 1)*(2*C1*phi*(3*C1*(-T1 - 1)/(-C1 + R3*T1) - 2*T1 - 3)/(-C1 + R3*T1) + 2*C1*phi*(3*C1*phi*(C1/(-C1 + R3*T1) + 1)/(-C1 + R3*T1) + 3*C1*(-T1 - 1)/(-C1 + R3*T1) - 2*T1 + 3*phi*(C1/(-C1 + R3*T1) + 1)**2 - 3)/(-C1 + R3*T1) + 6*C1*(-T1 - 1)**2/(-C1 + R3*T1) + 4*T1 + 2*phi*(C1/(-C1 + R3*T1) + 1)*(C1*(-T1 - 1)/(-C1 + R3*T1) - 1) + 2*phi*(C1/(-C1 + R3*T1) + 1)*(2*C1*(-T1 - 1)/(-C1 + R3*T1) - T1 - 2) + phi*(C1/(-C1 + R3*T1) + 1)*(2*C1*phi*(C1/(-C1 + R3*T1) + 1)/(-C1 + R3*T1) + 2*C1*(-T1 - 1)/(-C1 + R3*T1) - T1 + phi*(C1/(-C1 + R3*T1) + 1)**2 - 2) + 2*(-T1 - 1)**2 + 4) - 24*(-T1 - 1)**3)/(120*(-C1 + R3*T1)**4) + C1 + C1*phi*ps/(-C1 + R3*T1) + O(ps**6))"
      ]
     },
     "execution_count": 384,
     "metadata": {},
     "output_type": "execute_result"
    }
   ],
   "source": [
    "solphase"
   ]
  },
  {
   "cell_type": "markdown",
   "metadata": {},
   "source": [
    "In the case in which is the lower chamber feeding the eruption the system becomes\n",
    "\n",
    "\\begin{equation}\n",
    "\\frac{\\Delta P_d}{dt} =\\frac{k_d}{V_d}\\left(\\frac{\\pi a_s^4}{8 mu l_s} (P_s - P_d) - \\frac{\\pi a_s^4}{8 mu l_s} (P_d + P_t)\\right) \n",
    "\\end{equation}\n",
    "\\begin{equation}\n",
    "\\frac{\\Delta P_s}{dt} =-\\frac{k_s}{V_s}\\frac{\\pi a_s^4}{8 mu l_s} (P_s - P_d)\n",
    "\\end{equation}\n",
    "In dimensionless form, scaling by properties of the lower conduit, properties of the upper chamber, and scaling pressures by $P_t$ they can be written \n",
    "\\begin{equation}\n",
    "\\frac{\\Delta P_d}{dt} =(P_s - P_d) - T_1(P_d + R_3)\n",
    "\\end{equation}\n",
    "\\begin{equation}\n",
    "\\frac{\\Delta P_s}{dt} =- \\phi (P_s - P_d)\n",
    "\\end{equation}\n",
    "where \n",
    "\\begin{equation}\n",
    "T_1 = \\frac{a_s l_d}{a_d l_s}\n",
    "\\end{equation}\n",
    "\n",
    "\\begin{equation}\n",
    "\\phi = \\frac{k_d V_s}{k_s V_d }\n",
    "\\end{equation}\n",
    "\n",
    "\\begin{equation}\n",
    "R_3 = \\frac{P_t S}{F_s}\n",
    "\\end{equation}\n",
    "The general solution is obtained below"
   ]
  },
  {
   "cell_type": "code",
   "execution_count": 362,
   "metadata": {},
   "outputs": [],
   "source": [
    "from sympy import *\n",
    "t,T1,phi,R1,R3,R5,n = symbols('t,T1,phi,R1,R3,R5,n',positive = True,real = True)\n",
    "C1,C2,ps0,pd0 = symbols('C1,C2,ps0,pd0')\n",
    "ps,pd  = symbols('ps, pd', cls =Function, function = True)\n",
    "eqps = Eq(diff(ps(t),t), (-1 - T1) * ps(t) + 1 * pd(t) - R3 * T1)\n",
    "eqpd = Eq(diff(pd(t),t), - phi * (pd(t) - ps(t))) \n",
    "sol = dsolve((eqps,eqpd))\n",
    "const = solve((sol[0].subs(t,0).subs(ps(0),ps0),sol[1].subs(t,0).subs(pd(0),pd0)),{C1,C2})\n",
    "psPart = sol[0].rhs.subs(const)\n",
    "pdPart = sol[1].rhs.subs(const)"
   ]
  },
  {
   "cell_type": "code",
   "execution_count": null,
   "metadata": {},
   "outputs": [],
   "source": []
  }
 ],
 "metadata": {
  "kernelspec": {
   "display_name": "Python 3",
   "language": "python",
   "name": "python3"
  },
  "language_info": {
   "codemirror_mode": {
    "name": "ipython",
    "version": 3
   },
   "file_extension": ".py",
   "mimetype": "text/x-python",
   "name": "python",
   "nbconvert_exporter": "python",
   "pygments_lexer": "ipython3",
   "version": "3.7.3"
  }
 },
 "nbformat": 4,
 "nbformat_minor": 2
}
