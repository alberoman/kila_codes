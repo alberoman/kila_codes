{
 "cells": [
  {
   "cell_type": "markdown",
   "metadata": {},
   "source": [
    "#### Piston model with time dependent pressure and displacement\n",
    "During stick we have one first order, linear differential equation:\n",
    "\\begin{equation}\n",
    "\\frac{d\\Delta P_e}{dt} = - \\frac{k \\pi a^4}{8 V\\mu l}P_e - \\frac{k \\pi a^4}{8 V\\mu l}P_l\n",
    "\\end{equation}\n",
    "During slip system of three differential equations\n",
    "\\begin{equation}\n",
    "\\frac{dx}{dt} = v\n",
    "\\end{equation}\n",
    "\n",
    "\\begin{equation}\n",
    "m\\frac{dv}{dt} = - F_d- \\rho g S x  - \\Delta P_e S\n",
    "\\end{equation}\n",
    "\n",
    "\\begin{equation}\n",
    "\\frac{d \\Delta P_e}{dt} = \\frac{kS}{V}v - \\frac{k \\pi a^4}{8 V\\mu l}P_e - \\frac{k \\pi a^4}{8 V\\mu l}P_l \n",
    "\\end{equation}\n",
    "Here $P_l$ is the lithostatic pressure at the inlet of the conduit.\n",
    "The initial conditions for the first stick cycle (velocity and position are zero during the whole cycle):\n",
    "\\begin{equation}\n",
    "\\Delta P_e(0) = P_0\n",
    "\\end{equation}\n",
    "The condition at the first slip cycle are:\n",
    "\\begin{equation}\n",
    "x(t_{slip}) = 0\n",
    "\\end{equation}\n",
    "\\begin{equation}\n",
    "v(t_{slip}) = 0\n",
    "\\end{equation}\n",
    "\\begin{equation}\n",
    "\\Delta P(t_{slip}) = -F_s\n",
    "\\end{equation}\n",
    "At the other stick cycle the initial condition for the pressure is:\n",
    "\\begin{equation}\n",
    "\\Delta P(t_{stick}) = \\Delta P_{v=0}\n",
    "\\end{equation}\n",
    "where  $\\Delta P_{v=0}$ is the elastic pressure when the velocity of the piston come back to zero.\n",
    "The equations are scalded by:\n",
    "\n",
    "\\begin{equation}\n",
    "x^* = \\frac{F_d}{kS^2}V_0\n",
    "\\end{equation}\n",
    "\n",
    "\n",
    "\\begin{equation}\n",
    "t^* = \\bigg(\\frac{mV_0}{kS^2}\\bigg) ^{1/2}\n",
    "\\end{equation}\n",
    "\n",
    "\\begin{equation}\n",
    "p^* = \\frac{F_d}{S}\n",
    "\\end{equation}\n",
    "\n",
    "\n",
    "\\begin{equation}\n",
    "v^* = \\frac{F_d}{S}\\bigg(\\frac{V_0}{km}\\bigg) ^{1/2}\n",
    "\\end{equation}\n",
    "\n",
    "During stick the governing equation becomes:\n",
    "\\begin{equation}\n",
    "\\frac{\\Delta P_e}{dt} = -R_2\\Delta P_e -R_2R_2 \n",
    "\\end{equation}\n",
    "\n",
    "The two governing system of equation than becomes\n",
    "\\begin{equation}\n",
    "\\frac{dx}{dt} = v\n",
    "\\end{equation}\n",
    "\n",
    "\n",
    "\\begin{equation}\n",
    "\\frac{dv}{dt} = -R_1 x - \\Delta P_e - 1\n",
    "\\end{equation}\n",
    "\n",
    "\\begin{equation}\n",
    "\\frac{d\\Delta P_e}{dt} = v - R_2 \\Delta P_e -R_2R_3\n",
    "\\end{equation}\n",
    "\n",
    "The condition at the beginning\n",
    "\n",
    "With \n",
    "\\begin{equation}\n",
    "R_1 = \\frac{\\rho g V_0}{kS}\n",
    "\\end{equation}\n",
    "\n",
    "\\begin{equation}\n",
    "R_2 = \\frac{\\pi a^4}{8 \\mu l S}\\bigg(\\frac{km}{V_0}\\bigg) ^{1/2}\n",
    "\\end{equation}\n",
    "\\begin{equation}\n",
    "R_3 = \\frac{P_l S}{F_d}\n",
    "\\end{equation}\n",
    "\n",
    "\n",
    "\\begin{equation}\n",
    "R_4 = \\frac{P_0}{F_d}\n",
    "\\end{equation}\n",
    "\n",
    "\\begin{equation}\n",
    "R_5 = \\frac{F_s}{F_d}\n",
    "\\end{equation}\n",
    "\n",
    "For the stick time there is an analytical solution, for the first cycle it is:\n",
    "\\begin{equation}\n",
    "\\Delta P_e(t) = (R_3+ R_4) * \\exp(-R_2t) - R_3\n",
    "\\end{equation}\n",
    "and the time needed for slip is:\n",
    "\\begin{equation}\n",
    "t_{slip} = -\\frac{1}{R2}  \\ln[(R_3 - R_5) / (R_3 + R_4)]\n",
    "\\end{equation}\n",
    "Note that we need $R_3 > R_5 > 1$. $R_3> R_5$ is because we need a finite logarithm, while $R5>1$ is because we need stick slip behavior.\n",
    "\n",
    "For the next cycles the solution is\n",
    "\n",
    "\\begin{equation}\n",
    "\\Delta P_e(t) = (P_{stick} + R_3)  \\exp (R_2t_{stick})*.exp(-R_2t) -R3 \n",
    "\\end{equation}\n",
    "\n",
    "and the time required for slip is\n",
    "\\begin{equation}\n",
    "t_{slip} = -\\frac{1}{R2}  \\ln[(R_3 - R_1  x_{stick} - R_5)/((p_{stick} + R_3)\\exp (R_2t_{stick}))]\n",
    "\\end{equation}"
   ]
  },
  {
   "cell_type": "markdown",
   "metadata": {},
   "source": [
    "# We assume now that R2<<0 "
   ]
  },
  {
   "cell_type": "markdown",
   "metadata": {},
   "source": [
    "In this case, the slip distance of the piston at each event is \n",
    "\\begin{equation}\n",
    "\\Delta x = 2 \\frac{1 - R_5}{1+R_1}\n",
    "\\end{equation}\n",
    "The time interval in which slip occur is\n",
    "\\begin{equation\n",
    "\\Delta t_{slip} = \\frac{\\pi}{\\sqrt{1 + R_1 }}\n",
    "\\end{equation}\n",
    "\n",
    "so the total number of event before the eruption stop is \n",
    "\\begin{equation}\n",
    "\\frac{(R_3 - 1)(R_1 + 1)}{2(1 - R_5)R_1}\n",
    "\\end{equation}\n",
    "the time between when the piston stick and when it moves again is \n",
    "\\begin{equation}\n",
    "\\Delta t_{stick} = -\\frac{1}{R_2}\\ln(\\frac{(1 + R_1)(R_3 - 1) -2nR_1(1 - R_5)}{(1 +R_1)(R_3 - 1) - (2(n-1)R_1 -1)(1 - R_5)})\n",
    "\\end{equation}"
   ]
  },
  {
   "cell_type": "markdown",
   "metadata": {},
   "source": [
    "The displacement at cycle n is given by\n",
    "\\begin{equation}\n",
    "x - x_0 =\\frac{(R_5 - 1)}{R1+1}\\cos(\\omega t) + \\frac{1 -R_5}{R_1 + 1} \n",
    "\\end{equation}\n",
    "\n",
    "So that that the pressure at slip during cycle n is given by\n",
    "\\begin{equation}\n",
    "p(t) = \\frac{(1 - R_5)}{R_1+1}[1 - 2R_1(n - 1) - \\cos(\\omega t)] - 1\n",
    "\\end{equation}\n",
    "In fact the pressure at the beginning of each cycle n is \n",
    "\\begin{equation}\n",
    "p_{slip} = -R_1 x(0)_n -1  \n",
    "\\end{equation}\n",
    "so that the pressure at the beginning of stick is\n",
    "\\begin{equation}\n",
    "p_{stick} = 2\\frac{1 -5}{R_1+1}[1 -R_1(n-1)] -1\n",
    "\\end{equation}\n",
    "And the during stick at cycle n is\n",
    "\\begin{equation}\n",
    "\\Delta P_e(t) = (2\\frac{1 -5}{R_1+1}[1 -R_1(n-1)] -1 + R_3)  \\exp (R_2t_{stick})*.exp(-R_2t) -R3 \n",
    "\\end{equation}\n",
    "In the dimensional form\n",
    "\\begin{equation}\n",
    "dx = \\frac{R1}{\\rho g}\\frac{Ps - Pd}{1 + R1}\n",
    "\\end{equation}\n",
    "where $Ps= Fs/S$. The pressure jump is given by\n",
    "\\begin{equation}\n",
    "\\Delta P_{slip} = 2 \\frac{Ps - Pd}{1+R1}\n",
    "\\end{equation}\n",
    "The difference in pressure between two slip event is given by\n",
    "\\begin{equation}\n",
    "\\Delta P_{deficit} = - 2 R1 \\frac{Ps - Pd}{1 + R1} \n",
    "\\end{equation}\n",
    "The time between slip events with R2 << 1 is \n",
    "\\begin{equation}\n",
    "\\Delta t = -\\tau \\log(\\frac{(1 + R1)\\Phi - 2R1n}{(1+R1)\\Phi  -2R1n +2R1 +2})\n",
    "\\end{equation}"
   ]
  },
  {
   "cell_type": "markdown",
   "metadata": {},
   "source": [
    "# Preliminary parameters estimation\n"
   ]
  },
  {
   "cell_type": "code",
   "execution_count": 99,
   "metadata": {},
   "outputs": [
    {
     "data": {
      "text/plain": [
       "<matplotlib.legend.Legend at 0x1295fb550>"
      ]
     },
     "execution_count": 99,
     "metadata": {},
     "output_type": "execute_result"
    },
    {
     "data": {
      "image/png": "[encoded data removed]",
      "text/plain": [
       "<Figure size 1008x504 with 2 Axes>"
      ]
     },
     "metadata": {
      "needs_background": "light"
     },
     "output_type": "display_data"
    }
   ],
   "source": [
    "import numpy as np\n",
    "import matplotlib.pyplot as plt\n",
    "\n",
    "x0 = 0\n",
    "g = 9.8\n",
    "rho = 2700\n",
    "#chamber and elasticity\n",
    "#Piston geometrical parameters\n",
    "Rp = 5e+2\n",
    "hp = 5+2\n",
    "S = 3.14 * Rp**2\n",
    "Vp = S * hp\n",
    "m = rho * Vp\n",
    "#Conduit and mama properties\n",
    "a = 4.\n",
    "mu = 1e+2\n",
    "l = 3e+4\n",
    "#Friction properties\n",
    "c0 =5.0e+6\n",
    "Fs = c0 * S\n",
    "v0 = 3e+9\n",
    "R = 0.3\n",
    "R3 = 1.3\n",
    "k = np.linspace(1e+9,1e+11,1000)\n",
    "R1 = rho * g * v0 /(k*S)\n",
    "R2 = (m * k / v0)**0.5 *(3.14 * a**4 )/(8* mu * l* S) \n",
    "tstar = ((m*v0) / (k* S**2))**0.5\n",
    "xstar = Fs*v0/(k*S**2)\n",
    "tslip = 3.14 / np.sqrt(1+R1) * tstar\n",
    "xslip = 2 * (1- R5)/ (1 + R1) * xstar\n",
    "fig, ax = plt.subplots(nrows = 1, ncols = 2, figsize = (14,7))\n",
    "ax[0].semilogx(k,xslip,'b')\n",
    "R5 = 0.7\n",
    "tstar = ((m*v0) / (k* S**2))**0.5\n",
    "xstar = Fs*v0/(k*S**2)\n",
    "tslip = 3.14 / np.sqrt(1+R1) * tstar\n",
    "xslip = 2 * (1- R5)/ (1 + R1) * xstar\n",
    "ax[0].semilogx(k,xslip,'r')\n",
    "R5 = 0.9\n",
    "tstar = ((m*v0) / (k* S**2))**0.5\n",
    "xstar = Fs*v0/(k*S**2)\n",
    "tslip = 3.14 / np.sqrt(1+R1) * tstar\n",
    "xslip = 2 * (1- R5)/ (1 + R1) * xstar\n",
    "ax[0].semilogx(k,xslip,'g')\n",
    "ax[0].set_xlabel('Bulk mod')\n",
    "ax[0].set_ylabel('dx slip[m]')\n",
    "ax[0].legend(['R5 = 0.3','R5 = 0.7','R5 = 0.9'])\n",
    "R5 = 0.3\n",
    "k = 1e+9\n",
    "v0 = np.linspace(1e+9,1e+11,1000)\n",
    "R1 = rho * g * v0 /(k*S)\n",
    "R2 = (m * k / v0)**0.5 *(3.14 * a**4 )/(8* mu * l* S) \n",
    "tstar = ((m*v0) / (k* S**2))**0.5\n",
    "xstar = Fs*v0/(k*S**2)\n",
    "tslip = 3.14 / np.sqrt(1+R1) * tstar\n",
    "xslip = 2 * (1- R5)/ (1 + R1) * xstar\n",
    "ax[1].semilogx(v0,xslip,'b')\n",
    "\n",
    "R5 = 0.7\n",
    "tstar = ((m*v0) / (k* S**2))**0.5\n",
    "xstar = Fs*v0/(k*S**2)\n",
    "tslip = 3.14 / np.sqrt(1+R1) * tstar\n",
    "xslip = 2 * (1- R5)/ (1 + R1) * xstar\n",
    "ax[1].semilogx(v0,xslip,'r')\n",
    "R5 = 0.9\n",
    "tstar = ((m*v0) / (k* S**2))**0.5\n",
    "xstar = Fs*v0/(k*S**2)\n",
    "tslip = 3.14 / np.sqrt(1+R1) * tstar\n",
    "xslip = 2 * (1- R5)/ (1 + R1) * xstar\n",
    "ax[1].semilogx(v0,xslip,'g')\n",
    "ax[1].set_xlabel('Chamber volumes')\n",
    "ax[1].legend(['R5 = 0.3','R5 = 0.7','R5 = 0.9'])"
   ]
  },
  {
   "cell_type": "markdown",
   "metadata": {},
   "source": [
    "## Number of cycles"
   ]
  },
  {
   "cell_type": "code",
   "execution_count": 94,
   "metadata": {},
   "outputs": [
    {
     "name": "stderr",
     "output_type": "stream",
     "text": [
      "/anaconda3/lib/python3.7/site-packages/ipykernel_launcher.py:12: RuntimeWarning: invalid value encountered in less\n",
      "  if sys.path[0] == '':\n"
     ]
    },
    {
     "data": {
      "text/plain": [
       "Text(0, 0.5, 'Pl [MPa]')"
      ]
     },
     "execution_count": 94,
     "metadata": {},
     "output_type": "execute_result"
    },
    {
     "data": {
      "image/png": "[encoded data removed]",
      "text/plain": [
       "<Figure size 1008x504 with 2 Axes>"
      ]
     },
     "metadata": {
      "needs_background": "light"
     },
     "output_type": "display_data"
    }
   ],
   "source": [
    "##c0 is set to 5 MPa\n",
    "R5 = 0.2\n",
    "k = 2e+9\n",
    "v0 = np.linspace(1e+9,1e+11,1000)\n",
    "R1 = rho * g * v0 /(k*S)\n",
    "Pl = np.linspace(c0 + 1e+6,30*1e+6) \n",
    "R3 =  Pl/c0\n",
    "r1,r3 = np.meshgrid(R1,R3)\n",
    "fig, ax = plt.subplots(nrowsN_cycles = (r3 - 1)*(r1 + 1)/(2*(1 - R5)*r1)\n",
    " = 1, ncols = 1, figsize = (14,7))\n",
    "N_cycles[N_cycles > 100]  = np.nan\n",
    "N_cycles[N_cycles < 20]  = np.nan\n",
    "\n",
    "cont = ax.contourf(v0,Pl/1e+6,N_cycles,30)\n",
    "cont.set_clim([30,70])\n",
    "ax.set_xscale('log')\n",
    "fig.colorbar(cont,ax = ax)\n",
    "ax.set_xlabel('Chamber volume')\n",
    "ax.set_ylabel('Pl [MPa]')"
   ]
  },
  {
   "cell_type": "code",
   "execution_count": 95,
   "metadata": {},
   "outputs": [
    {
     "name": "stderr",
     "output_type": "stream",
     "text": [
      "/anaconda3/lib/python3.7/site-packages/ipykernel_launcher.py:2: RuntimeWarning: invalid value encountered in log\n",
      "  \n",
      "/anaconda3/lib/python3.7/site-packages/ipykernel_launcher.py:4: RuntimeWarning: invalid value encountered in greater\n",
      "  after removing the cwd from sys.path.\n"
     ]
    },
    {
     "data": {
      "text/plain": [
       "Text(0, 0.5, 'Pl [MPa]')"
      ]
     },
     "execution_count": 95,
     "metadata": {},
     "output_type": "execute_result"
    },
    {
     "data": {
      "image/png": "[encoded data removed]",
      "text/plain": [
       "<Figure size 1008x504 with 2 Axes>"
      ]
     },
     "metadata": {
      "needs_background": "light"
     },
     "output_type": "display_data"
    }
   ],
   "source": [
    "### Period of of the first collapse\n",
    "deltaT_stick = -1./R2 * np.log(((1+r1)*(r3 - 1) - 2 * r1 * (1 - R5))/((1+r1)*(r3 - 1) +(1 - R5)))\n",
    "deltaT_stick = deltaT_stick/(3600)\n",
    "deltaT_stick[deltaT_stick > 80]  = np.nan\n",
    "fig, ax = plt.subplots(nrows = 1, ncols = 1, figsize = (14,7))\n",
    "cont = ax.contourf(v0,Pl/1e+6,deltaT_stick,50)\n",
    "cont.set_clim([1,48])\n",
    "ax.set_xscale('log')\n",
    "fig.colorbar(cont,ax = ax)\n",
    "ax.set_xlabel('Chamber volume')\n",
    "ax.set_ylabel('Pl [MPa]')"
   ]
  },
  {
   "cell_type": "markdown",
   "metadata": {},
   "source": [
    "We multiply the eigenvalue by its eigenvector"
   ]
  },
  {
   "cell_type": "code",
   "execution_count": 16,
   "metadata": {},
   "outputs": [
    {
     "data": {
      "text/latex": [
       "$\\displaystyle \\left[\\begin{matrix}\\frac{\\left(- R_{1}^{2} \\cos{\\left(k t \\right)} + 4 R_{1} k \\sin{\\left(k t \\right)} + 4 k^{2} \\cos{\\left(k t \\right)}\\right) e^{- \\frac{R_{1} t}{2}}}{R_{1}^{2} + 4 k^{2}}\\\\\\left(\\frac{R_{1} \\cos{\\left(k t \\right)}}{2} - k \\sin{\\left(k t \\right)}\\right) e^{- \\frac{R_{1} t}{2}}\\\\e^{- \\frac{R_{1} t}{2}} \\cos{\\left(k t \\right)}\\end{matrix}\\right]$"
      ],
      "text/plain": [
       "Matrix([\n",
       "[(-R1**2*cos(k*t) + 4*R1*k*sin(k*t) + 4*k**2*cos(k*t))*exp(-R1*t/2)/(R1**2 + 4*k**2)],\n",
       "[                                          (R1*cos(k*t)/2 - k*sin(k*t))*exp(-R1*t/2)],\n",
       "[                                                              exp(-R1*t/2)*cos(k*t)]])"
      ]
     },
     "execution_count": 16,
     "metadata": {},
     "output_type": "execute_result"
    }
   ],
   "source": [
    "x_re"
   ]
  },
  {
   "cell_type": "code",
   "execution_count": 17,
   "metadata": {},
   "outputs": [
    {
     "data": {
      "text/latex": [
       "$\\displaystyle \\left[\\begin{matrix}\\frac{\\left(- R_{1}^{2} \\sin{\\left(k t \\right)} - 4 R_{1} k \\cos{\\left(k t \\right)} + 4 k^{2} \\sin{\\left(k t \\right)}\\right) e^{- \\frac{R_{1} t}{2}}}{R_{1}^{2} + 4 k^{2}}\\\\\\left(\\frac{R_{1} \\sin{\\left(k t \\right)}}{2} + k \\cos{\\left(k t \\right)}\\right) e^{- \\frac{R_{1} t}{2}}\\\\e^{- \\frac{R_{1} t}{2}} \\sin{\\left(k t \\right)}\\end{matrix}\\right]$"
      ],
      "text/plain": [
       "Matrix([\n",
       "[(-R1**2*sin(k*t) - 4*R1*k*cos(k*t) + 4*k**2*sin(k*t))*exp(-R1*t/2)/(R1**2 + 4*k**2)],\n",
       "[                                          (R1*sin(k*t)/2 + k*cos(k*t))*exp(-R1*t/2)],\n",
       "[                                                              exp(-R1*t/2)*sin(k*t)]])"
      ]
     },
     "execution_count": 17,
     "metadata": {},
     "output_type": "execute_result"
    }
   ],
   "source": [
    "x_im"
   ]
  },
  {
   "cell_type": "markdown",
   "metadata": {},
   "source": [
    "The solution to the homogeneous system is $\\mathbf{x_h} = c_1 Re(\\mathbf x) + c_2 Im(\\mathbf x)$ "
   ]
  },
  {
   "cell_type": "code",
   "execution_count": 18,
   "metadata": {},
   "outputs": [
    {
     "data": {
      "text/latex": [
       "$\\displaystyle \\left[\\begin{matrix}c_{1} + \\frac{c_{2} \\left(- R_{1}^{2} \\cos{\\left(k t \\right)} + 4 R_{1} k \\sin{\\left(k t \\right)} + 4 k^{2} \\cos{\\left(k t \\right)}\\right) e^{- \\frac{R_{1} t}{2}}}{R_{1}^{2} + 4 k^{2}} + \\frac{c_{3} \\left(- R_{1}^{2} \\sin{\\left(k t \\right)} - 4 R_{1} k \\cos{\\left(k t \\right)} + 4 k^{2} \\sin{\\left(k t \\right)}\\right) e^{- \\frac{R_{1} t}{2}}}{R_{1}^{2} + 4 k^{2}}\\\\c_{2} \\left(\\frac{R_{1} \\cos{\\left(k t \\right)}}{2} - k \\sin{\\left(k t \\right)}\\right) e^{- \\frac{R_{1} t}{2}} + c_{3} \\left(\\frac{R_{1} \\sin{\\left(k t \\right)}}{2} + k \\cos{\\left(k t \\right)}\\right) e^{- \\frac{R_{1} t}{2}}\\\\c_{2} e^{- \\frac{R_{1} t}{2}} \\cos{\\left(k t \\right)} + c_{3} e^{- \\frac{R_{1} t}{2}} \\sin{\\left(k t \\right)}\\end{matrix}\\right]$"
      ],
      "text/plain": [
       "Matrix([\n",
       "[c1 + c2*(-R1**2*cos(k*t) + 4*R1*k*sin(k*t) + 4*k**2*cos(k*t))*exp(-R1*t/2)/(R1**2 + 4*k**2) + c3*(-R1**2*sin(k*t) - 4*R1*k*cos(k*t) + 4*k**2*sin(k*t))*exp(-R1*t/2)/(R1**2 + 4*k**2)],\n",
       "[                                                                                         c2*(R1*cos(k*t)/2 - k*sin(k*t))*exp(-R1*t/2) + c3*(R1*sin(k*t)/2 + k*cos(k*t))*exp(-R1*t/2)],\n",
       "[                                                                                                                                 c2*exp(-R1*t/2)*cos(k*t) + c3*exp(-R1*t/2)*sin(k*t)]])"
      ]
     },
     "execution_count": 18,
     "metadata": {},
     "output_type": "execute_result"
    }
   ],
   "source": [
    "c1,c2,c3 = symbols('c1,c2,c3')\n",
    "xh = c2 * x_re + c3 * x_im + c1 * Matrix([[1],[0],[0]])\n",
    "xhv = xh\n",
    "xhv"
   ]
  },
  {
   "cell_type": "markdown",
   "metadata": {},
   "source": [
    "The particular solution of the differential equation. One solution of the homogeneous is a constant. As the term  of the non homogenous equation is also a constant we have to have to find a particular solution of the type $\\mathbf x = \\mathbf a t + \\mathbf d$. By insering this in the original equation one gets \n",
    "\\begin{equation}\n",
    "A\\mathbf a = 0\n",
    "\\end{equation}\n",
    "which leads to $a_2,a_3 = 0$. and $\\mathbf a - A \\mathbf d = \\mathbf g$. With $\\mathbf g = [0,1,0]$ "
   ]
  },
  {
   "cell_type": "code",
   "execution_count": 20,
   "metadata": {},
   "outputs": [
    {
     "data": {
      "text/plain": [
       "{a1: R1, d2: R1, d3: 1}"
      ]
     },
     "execution_count": 20,
     "metadata": {},
     "output_type": "execute_result"
    }
   ],
   "source": [
    "a1,d1,d2,d3 = symbols('a1,d1,d2,d3')\n",
    "d = Matrix([[d1],[d2],[d3]])\n",
    "a = Matrix([[a1],[0],[0]])\n",
    "g = Matrix([[0],[1],[0]])\n",
    "system =  a - A*d - g\n",
    "solution = solve((system[0],system[1],system[2]),a1,d2,d3)\n",
    "solution"
   ]
  },
  {
   "cell_type": "markdown",
   "metadata": {},
   "source": [
    "Check for the solutions"
   ]
  },
  {
   "cell_type": "code",
   "execution_count": 22,
   "metadata": {},
   "outputs": [
    {
     "data": {
      "text/latex": [
       "$\\displaystyle \\left[\\begin{matrix}0\\\\0\\\\0\\end{matrix}\\right]$"
      ],
      "text/plain": [
       "Matrix([\n",
       "[0],\n",
       "[0],\n",
       "[0]])"
      ]
     },
     "execution_count": 22,
     "metadata": {},
     "output_type": "execute_result"
    }
   ],
   "source": [
    "a = Matrix([[solution[a1]],[0],[0]])\n",
    "d = Matrix([[d1],[solution[d2]],[solution[d3]]])\n",
    "a - A*d - g"
   ]
  },
  {
   "cell_type": "markdown",
   "metadata": {},
   "source": [
    "Thus $\\mathbf x = \\mathbf a t + \\mathbf d$ solve the equations if "
   ]
  },
  {
   "cell_type": "markdown",
   "metadata": {},
   "source": [
    "for an arbitrary value of $d_1$. By setting $d_1 = 0$, we obtain the particular solution and we add it to the general solution. "
   ]
  },
  {
   "cell_type": "code",
   "execution_count": 29,
   "metadata": {},
   "outputs": [
    {
     "data": {
      "text/plain": [
       "Matrix([\n",
       "[R1*t],\n",
       "[  R1],\n",
       "[   1]])"
      ]
     },
     "execution_count": 29,
     "metadata": {},
     "output_type": "execute_result"
    }
   ],
   "source": [
    "d[0] = 0\n",
    "xp = a*t + d\n",
    "xp"
   ]
  },
  {
   "cell_type": "code",
   "execution_count": 30,
   "metadata": {},
   "outputs": [
    {
     "data": {
      "text/plain": [
       "Matrix([\n",
       "[R1*t + c1 + c2*(-R1**2*cos(k*t) + 4*R1*k*sin(k*t) + 4*k**2*cos(k*t))*exp(-R1*t/2)/(R1**2 + 4*k**2) + c3*(-R1**2*sin(k*t) - 4*R1*k*cos(k*t) + 4*k**2*sin(k*t))*exp(-R1*t/2)/(R1**2 + 4*k**2)],\n",
       "[                                                                                           R1 + c2*(R1*cos(k*t)/2 - k*sin(k*t))*exp(-R1*t/2) + c3*(R1*sin(k*t)/2 + k*cos(k*t))*exp(-R1*t/2)],\n",
       "[                                                                                                                                    c2*exp(-R1*t/2)*cos(k*t) + c3*exp(-R1*t/2)*sin(k*t) + 1]])"
      ]
     },
     "execution_count": 30,
     "metadata": {},
     "output_type": "execute_result"
    }
   ],
   "source": [
    "x = xh + xp\n",
    "x"
   ]
  },
  {
   "cell_type": "markdown",
   "metadata": {},
   "source": [
    "Subject to initial conditions,\n",
    "\\begin{equation}\n",
    "x(0) = \\frac{(mg - F_s)}{S^2}\\frac{V_0}{k}-\\frac{p0}{S}\\frac{V_0}{k}\n",
    "\\end{equation}\n",
    "\n",
    "\\begin{equation}\n",
    "v(0) = 0\n",
    "\\end{equation}\n",
    "\n",
    "\\begin{equation}\n",
    "p(0) = \\frac{(mg - F_s)}{S}\n",
    "\\end{equation}\n",
    "The scaled version of the last is\n",
    "\\begin{equation}\n",
    "p(0) = R_2\n",
    "\\end{equation}\n",
    "With\n",
    "\\begin{equation}\n",
    "R_2 = \\frac{mg -F_s}{mg - F_d}\n",
    "\\end{equation}\n",
    "and \n",
    "\\begin{equation}\n",
    "x(0) = R_2 - R_3\n",
    "\\end{equation}\n",
    "With\n",
    "\\begin{equation}\n",
    "R_3 = \\frac{p_0 S}{(mg - F_d)}\n",
    "\\end{equation}\n",
    "\n"
   ]
  },
  {
   "cell_type": "code",
   "execution_count": 31,
   "metadata": {},
   "outputs": [
    {
     "data": {
      "text/plain": [
       "{c1: (-R1**2*R3 - 3*R1**2 - 4*R3*k**2 + 4*k**2)/(R1**2 + 4*k**2),\n",
       " c2: R2 - 1,\n",
       " c3: -R1*(R2 + 1)/(2*k)}"
      ]
     },
     "execution_count": 31,
     "metadata": {},
     "output_type": "execute_result"
    }
   ],
   "source": [
    "R2,R3 = symbols('R2,R3')\n",
    "eq1 = x[0]\n",
    "eq2 = x[1]\n",
    "eq3 = x[2]\n",
    "eq1 = eq1.subs(t,0)\n",
    "eq2 = eq2.subs(t,0)\n",
    "eq3 = eq3.subs(t,0)\n",
    "eq1 = eq1 - R2 + R3\n",
    "eq3 = eq3 - R2\n",
    "constant = solve((eq1,eq2,eq3),c1,c2,c3)\n",
    "constant"
   ]
  },
  {
   "cell_type": "code",
   "execution_count": 32,
   "metadata": {},
   "outputs": [],
   "source": [
    "for c in constant.keys():\n",
    "    x = x.subs(c, constant[c])\n",
    "\n"
   ]
  },
  {
   "cell_type": "markdown",
   "metadata": {},
   "source": [
    "Verify that the solution satisfies the original system. Careful we have to substitute R1 with a numerical value consistent with 0<R1<2, which is the range in which this solution is valid!!!! Here we take R1=1"
   ]
  },
  {
   "cell_type": "code",
   "execution_count": 33,
   "metadata": {},
   "outputs": [
    {
     "data": {
      "text/plain": [
       "(Matrix([\n",
       " [-6.93889390390723e-18],\n",
       " [-4.33680868994202e-19],\n",
       " [ 6.93889390390723e-18]]), 9.82265627595170e-18)"
      ]
     },
     "execution_count": 33,
     "metadata": {},
     "output_type": "execute_result"
    }
   ],
   "source": [
    "import numpy as np\n",
    "R1_value = 0.1\n",
    "xverif = x.subs(k,sqrt(4 - R1**2)/2)\n",
    "xverif = xverif.subs(R1,R1_value)\n",
    "der = []\n",
    "for i in range(len(xverif)):\n",
    "    der.append(diff(xverif[i],t))\n",
    "der = Matrix([[der[0]],[der[1]],[der[2]]])\n",
    "M = M.subs(R1,R1_value)\n",
    "verif = simplify(der -  M *xverif -g)\n",
    "verif = verif.subs(t,0)\n",
    "verif = verif.subs(R2,1)\n",
    "verif, (verif[0]**2 + verif[1]**2 + verif[2]**2)**0.5"
   ]
  },
  {
   "cell_type": "markdown",
   "metadata": {},
   "source": [
    "Finally the solution of the system are:"
   ]
  },
  {
   "cell_type": "code",
   "execution_count": 34,
   "metadata": {},
   "outputs": [
    {
     "data": {
      "text/plain": [
       "(R2 - 1)*(-0.998749217771909*sin(0.998749217771909*t) + 0.05*cos(0.998749217771909*t))*exp(-0.05*t) - 0.0500626174321759*(R2 + 1)*(0.05*sin(0.998749217771909*t) + 0.998749217771909*cos(0.998749217771909*t))*exp(-0.05*t) + 0.1"
      ]
     },
     "execution_count": 34,
     "metadata": {},
     "output_type": "execute_result"
    }
   ],
   "source": [
    "xverif[1]"
   ]
  },
  {
   "cell_type": "code",
   "execution_count": 35,
   "metadata": {},
   "outputs": [
    {
     "data": {
      "text/plain": [
       "(R2 - 1)*exp(-0.05*t)*cos(0.998749217771909*t) - 0.0500626174321759*(R2 + 1)*exp(-0.05*t)*sin(0.998749217771909*t) + 1"
      ]
     },
     "execution_count": 35,
     "metadata": {},
     "output_type": "execute_result"
    }
   ],
   "source": [
    "xverif[2]"
   ]
  },
  {
   "cell_type": "code",
   "execution_count": 36,
   "metadata": {},
   "outputs": [
    {
     "data": {
      "text/plain": [
       "R1*t - R1*(R2 + 1)*(-R1**2*sin(k*t) - 4*R1*k*cos(k*t) + 4*k**2*sin(k*t))*exp(-R1*t/2)/(2*k*(R1**2 + 4*k**2)) + (R2 - 1)*(-R1**2*cos(k*t) + 4*R1*k*sin(k*t) + 4*k**2*cos(k*t))*exp(-R1*t/2)/(R1**2 + 4*k**2) + (-R1**2*R3 - 3*R1**2 - 4*R3*k**2 + 4*k**2)/(R1**2 + 4*k**2)"
      ]
     },
     "execution_count": 36,
     "metadata": {},
     "output_type": "execute_result"
    }
   ],
   "source": [
    "x[0]"
   ]
  },
  {
   "cell_type": "code",
   "execution_count": 39,
   "metadata": {},
   "outputs": [
    {
     "data": {
      "text/plain": [
       "R1 - R1*(R2 + 1)*(R1*sin(k*t)/2 + k*cos(k*t))*exp(-R1*t/2)/(2*k) + (R2 - 1)*(R1*cos(k*t)/2 - k*sin(k*t))*exp(-R1*t/2)"
      ]
     },
     "execution_count": 39,
     "metadata": {},
     "output_type": "execute_result"
    }
   ],
   "source": [
    "\n",
    "c"
   ]
  },
  {
   "cell_type": "code",
   "execution_count": 40,
   "metadata": {},
   "outputs": [
    {
     "data": {
      "text/plain": [
       "-R1*(R2 + 1)*exp(-R1*t/2)*sin(k*t)/(2*k) + (R2 - 1)*exp(-R1*t/2)*cos(k*t) + 1"
      ]
     },
     "execution_count": 40,
     "metadata": {},
     "output_type": "execute_result"
    }
   ],
   "source": [
    "x[2]"
   ]
  },
  {
   "cell_type": "code",
   "execution_count": null,
   "metadata": {},
   "outputs": [],
   "source": []
  },
  {
   "cell_type": "code",
   "execution_count": null,
   "metadata": {},
   "outputs": [],
   "source": []
  },
  {
   "cell_type": "code",
   "execution_count": null,
   "metadata": {},
   "outputs": [],
   "source": []
  },
  {
   "cell_type": "code",
   "execution_count": null,
   "metadata": {},
   "outputs": [],
   "source": []
  },
  {
   "cell_type": "code",
   "execution_count": 230,
   "metadata": {},
   "outputs": [
    {
     "ename": "NameError",
     "evalue": "name 'C2' is not defined",
     "output_type": "error",
     "traceback": [
      "\u001b[0;31m---------------------------------------------------------------------------\u001b[0m",
      "\u001b[0;31mNameError\u001b[0m                                 Traceback (most recent call last)",
      "\u001b[0;32m<ipython-input-230-d525b847a6f5>\u001b[0m in \u001b[0;36m<module>\u001b[0;34m\u001b[0m\n\u001b[0;32m----> 1\u001b[0;31m \u001b[0mC2\u001b[0m\u001b[0;34m*\u001b[0m\u001b[0;34m(\u001b[0m\u001b[0;34m-\u001b[0m\u001b[0msqrt\u001b[0m\u001b[0;34m(\u001b[0m\u001b[0;36m3\u001b[0m\u001b[0;34m)\u001b[0m\u001b[0;34m*\u001b[0m\u001b[0msin\u001b[0m\u001b[0;34m(\u001b[0m\u001b[0msqrt\u001b[0m\u001b[0;34m(\u001b[0m\u001b[0;36m3\u001b[0m\u001b[0;34m)\u001b[0m\u001b[0;34m*\u001b[0m\u001b[0mt\u001b[0m\u001b[0;34m/\u001b[0m\u001b[0;36m2\u001b[0m\u001b[0;34m)\u001b[0m\u001b[0;34m/\u001b[0m\u001b[0;36m2\u001b[0m \u001b[0;34m+\u001b[0m \u001b[0mcos\u001b[0m\u001b[0;34m(\u001b[0m\u001b[0msqrt\u001b[0m\u001b[0;34m(\u001b[0m\u001b[0;36m3\u001b[0m\u001b[0;34m)\u001b[0m\u001b[0;34m*\u001b[0m\u001b[0mt\u001b[0m\u001b[0;34m/\u001b[0m\u001b[0;36m2\u001b[0m\u001b[0;34m)\u001b[0m\u001b[0;34m/\u001b[0m\u001b[0;36m2\u001b[0m\u001b[0;34m)\u001b[0m\u001b[0;34m*\u001b[0m\u001b[0mexp\u001b[0m\u001b[0;34m(\u001b[0m\u001b[0;34m-\u001b[0m\u001b[0mt\u001b[0m\u001b[0;34m/\u001b[0m\u001b[0;36m2\u001b[0m\u001b[0;34m)\u001b[0m \u001b[0;34m+\u001b[0m \u001b[0mC3\u001b[0m\u001b[0;34m*\u001b[0m\u001b[0;34m(\u001b[0m\u001b[0msin\u001b[0m\u001b[0;34m(\u001b[0m\u001b[0msqrt\u001b[0m\u001b[0;34m(\u001b[0m\u001b[0;36m3\u001b[0m\u001b[0;34m)\u001b[0m\u001b[0;34m*\u001b[0m\u001b[0mt\u001b[0m\u001b[0;34m/\u001b[0m\u001b[0;36m2\u001b[0m\u001b[0;34m)\u001b[0m\u001b[0;34m/\u001b[0m\u001b[0;36m2\u001b[0m \u001b[0;34m+\u001b[0m \u001b[0msqrt\u001b[0m\u001b[0;34m(\u001b[0m\u001b[0;36m3\u001b[0m\u001b[0;34m)\u001b[0m\u001b[0;34m*\u001b[0m\u001b[0mcos\u001b[0m\u001b[0;34m(\u001b[0m\u001b[0msqrt\u001b[0m\u001b[0;34m(\u001b[0m\u001b[0;36m3\u001b[0m\u001b[0;34m)\u001b[0m\u001b[0;34m*\u001b[0m\u001b[0mt\u001b[0m\u001b[0;34m/\u001b[0m\u001b[0;36m2\u001b[0m\u001b[0;34m)\u001b[0m\u001b[0;34m/\u001b[0m\u001b[0;36m2\u001b[0m\u001b[0;34m)\u001b[0m\u001b[0;34m*\u001b[0m\u001b[0mexp\u001b[0m\u001b[0;34m(\u001b[0m\u001b[0;34m-\u001b[0m\u001b[0mt\u001b[0m\u001b[0;34m/\u001b[0m\u001b[0;36m2\u001b[0m\u001b[0;34m)\u001b[0m\u001b[0;34m\u001b[0m\u001b[0;34m\u001b[0m\u001b[0m\n\u001b[0m",
      "\u001b[0;31mNameError\u001b[0m: name 'C2' is not defined"
     ]
    }
   ],
   "source": []
  },
  {
   "cell_type": "code",
   "execution_count": null,
   "metadata": {},
   "outputs": [],
   "source": []
  }
 ],
 "metadata": {
  "kernelspec": {
   "display_name": "Python 3",
   "language": "python",
   "name": "python3"
  },
  "language_info": {
   "codemirror_mode": {
    "name": "ipython",
    "version": 3
   },
   "file_extension": ".py",
   "mimetype": "text/x-python",
   "name": "python",
   "nbconvert_exporter": "python",
   "pygments_lexer": "ipython3",
   "version": "3.7.3"
  }
 },
 "nbformat": 4,
 "nbformat_minor": 4
}
