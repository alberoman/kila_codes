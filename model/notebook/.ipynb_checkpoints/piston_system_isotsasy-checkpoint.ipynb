{
 "cells": [
  {
   "cell_type": "markdown",
   "metadata": {},
   "source": [
    "#### Piston model with time dependent pressure and displacement\n",
    "During stick we have one first order, linear differential equation:\n",
    "\\begin{equation}\n",
    "\\frac{d\\Delta P_e}{dt} = - \\frac{\\pi a^4}{\\beta 8 V_0\\mu l}(\\Delta P_e + P_t) \n",
    "\\end{equation}\n",
    "During slip system of three differential equations\n",
    "\\begin{equation}\n",
    "\\frac{dx}{dt} = v\n",
    "\\end{equation}\n",
    "\n",
    "\\begin{equation}\n",
    "m\\frac{dv}{dt} = -\\rho g x S_1  - \\Delta P_e S_1 - \\tau_d S_2 \n",
    "\\end{equation}\n",
    "\n",
    "\\begin{equation}\n",
    "\\frac{d \\Delta P_e}{dt} = \\frac{kS_1}{V_0}v - \\frac{k \\pi a^4}{8 V_0\\mu l}(\\Delta P_e + P_t)  \n",
    "\\end{equation}\n",
    "\n",
    "where $t$  is time, $\\Delta P_e$ is the time dependent elastic component of pressure in the chamber, $x$ is the position of the base of the piston and $v$ its velocity. $P_t$ is the topography generated pressure (that is, the pressure difference between the lithostatic at the conduit inlet and the pressure of the magma column feeding the eruption), $\\rho$ is the density of the magma/rocks, $g$ is gravity, $\\beta$ is the effective chamber compressibility, $a$ is the radius of the magmatic conduit feeding the eruption, l its length,\\mu is the magma viscosity ,$\\tau_d$ is the dynamic coefficient of friction, $V_0$ is the magma chamber volume. $S_1$ and $S_2$ are the surfaces of cylinder in contact with the magma (the base) and with the wall-rock (the side) respectively. For the sake of simplicty, we focus on cylinder with aspect ratio close to one, so that we can set $S_1 = S_2 = S$. \n",
    "\n",
    "The conditions when the piston starts to move are \n",
    "\n",
    "\\begin{equation}\n",
    "x(t_{slip}) = x_0\n",
    "\\end{equation}\n",
    "\n",
    "\\begin{equation}\n",
    "v(t_{slip}) = 0\n",
    "\\end{equation}\n",
    "\n",
    "\\begin{equation}\n",
    "\\Delta P(t_{slip}) = -\\tau_s - \\rho g x_0 \n",
    "\\end{equation}\n",
    "In the equations above we have considered that the pressure at the base of the piston due to its weight ($\\rho g h_p$) is exactly balanced by the lithostatic component of the pressure in the underlying magma so that they mutually cancel. This implicitly implies that the  height of the cylinder is equal to the depth of the roof of the magma chamber and that rocks and magmas have the same density. It is easily seen that relaxing this assumption change the equilibrium positions of the piston, so that theit effects can be integrated in an effective coefficient of friction and they does not alter the dynamical aspects of the problem.\n",
    "\n",
    "We define a new variable for for the elastic pressure:\n",
    "\n",
    "\\begin{equation}\n",
    "\\tilde{\\Delta P_e} = \\Delta P_e + \\tau_s\n",
    "\\end{equation}\n",
    "\n",
    "and scale the equations by the quantities:\n",
    "\n",
    "\\begin{equation}\n",
    "x^* = \\frac{F_d}{kS^2}V_0\n",
    "\\end{equation}\n",
    "\n",
    "\n",
    "\\begin{equation}\n",
    "t^* = \\bigg(\\frac{mV_0}{kS^2}\\bigg) ^{1/2}\n",
    "\\end{equation}\n",
    "\n",
    "\\begin{equation}\n",
    "p^* = \\frac{F_d}{S}\n",
    "\\end{equation}\n",
    "\n",
    "\n",
    "\\begin{equation}\n",
    "v^* = \\frac{F_d}{S}\\bigg(\\frac{V_0}{km}\\bigg) ^{1/2}\n",
    "\\end{equation}\n",
    "\n",
    "The dimensionless equation to be solved during stick is:\n",
    "\\begin{equation}\n",
    "\\frac{\\Delta P_e}{dt} = -R_2\\Delta P_e -R_2R_3 \n",
    "\\end{equation}\n",
    "\n",
    "During slip\n",
    "\\begin{equation}\n",
    "\\frac{dx}{dt} = v\n",
    "\\end{equation}\n",
    "\n",
    "\n",
    "\\begin{equation}\n",
    "\\frac{dv}{dt} = -R_1 x - \\Delta P_e + 1\n",
    "\\end{equation}\n",
    "\n",
    "\\begin{equation}\n",
    "\\frac{d\\Delta P_e}{dt} = v - R_2 \\Delta P_e -R_2R_3\n",
    "\\end{equation}\n",
    "\n",
    "The initial conditions for the slip phase are then\n",
    "\\begin{equation}\n",
    "x(0) = x_0\n",
    "\\end{equation}\n",
    "\n",
    "\\begin{equation}\n",
    "v(0) = 0\n",
    "\\end{equation}\n",
    "\n",
    "\\begin{equation}\n",
    "\\Delta P(0) =  - R_1 x_0 \n",
    "\\end{equation}\n",
    "\n",
    "With \n",
    "\\begin{equation}\n",
    "\\Psi = \\frac{\\beta \\rho g V_0}{S}\n",
    "\\end{equation}\n",
    "\n",
    "\\begin{equation}\n",
    "R_2 = \\frac{\\pi a^4}{8 \\mu l S}\\bigg(\\frac{m}{\\beta V_0}\\bigg) ^{1/2}\n",
    "\\end{equation}\n",
    "\\begin{equation}\n",
    "\\Phi = \\frac{p_t - \\taus_s}{\\taus - \\taud_d}\n",
    "\\end{equation}\n",
    "For magmatic plumbing systems $R_2 << 1$ so that in the the second equation we can neglect this term. In this case we can transform the system of equations in a second order linear differential equation\n",
    "\\begin{equation}\n",
    "\\frac{d^2 x}{dt^2} + (\\Psi + 1) x = x(0) -\\Delta P_e(0) + 1  \n",
    "\\end{equation}\n",
    "The solution is \n",
    "\\begin{equation}\n",
    "x(t) = \\frac{1}{\\Psi + 1}(1 - \\cos\\omega t) + x0\n",
    "\\end{equation}\n",
    "where $\\omega = \\sqrt{1 + \\Psi}$. The slip phase ends when $v = 0$ because at this point the coefficient of friction jumps back to its static value. Thus we require\n",
    "\\begin{equation}\n",
    "v(t) = \\frac{1}{\\Psi + 1}\\sin\\omega t = 0\n",
    "\\end{equation}\n",
    "this occurs at t_c = - 1/ \\omega so that the travelled by the piston during each slip event is\n",
    "\\begin{equation}\n",
    "\\Delta x = x_c - x_0 = \\frac{1}{1 \\Psi}\n",
    "\\end{equation}\n",
    "Similarly, the pressure increase due to slip is\n",
    "\\begin{equation}\n",
    "\\Delta_P_{slip} =  x_c - x_0 = \\frac{1}{1 \\Psi}\n",
    "\\end{equation}\n",
    "\n",
    "For the stick time there is an analytical solution, for the first cycle it is:\n",
    "\\begin{equation}\n",
    "\\Delta P_e(t) = (R_3+ R_4) * \\exp(-R_2t) - R_3\n",
    "\\end{equation}\n",
    "and the time needed for slip is:\n",
    "\\begin{equation}\n",
    "t_{slip} = -\\frac{1}{R2}  \\ln[(R_3 - R_5) / (R_3 + R_4)]\n",
    "\\end{equation}\n",
    "Note that we need $R_3 > R_5 > 1$. $R_3> R_5$ is because we need a finite logarithm, while $R5>1$ is because we need stick slip behavior.\n",
    "\n",
    "For the next cycles the solution is\n",
    "\n",
    "\\begin{equation}\n",
    "\\Delta P_e(t) = (P_{stick} + R_3)  \\exp (R_2t_{stick})*.exp(-R_2t) -R3 \n",
    "\\end{equation}\n",
    "\n",
    "and the time required for slip is\n",
    "\\begin{equation}\n",
    "t_{slip} = -\\frac{1}{R2}  \\ln[(R_3 - R_1  x_{stick} - R_5)/((p_{stick} + R_3)\\exp (R_2t_{stick}))]\n",
    "\\end{equation}"
   ]
  },
  {
   "cell_type": "markdown",
   "metadata": {},
   "source": [
    "# We assume now that R2<<0 "
   ]
  },
  {
   "cell_type": "markdown",
   "metadata": {},
   "source": [
    "In this case, the slip distance of the piston at each event is \n",
    "\\begin{equation}\n",
    "\\Delta x = 2 \\frac{1 - R_5}{1+R_1}\n",
    "\\end{equation}\n",
    "The time interval in which slip occur is\n",
    "\\begin{equation\n",
    "\\Delta t_{slip} = \\frac{\\pi}{\\sqrt{1 + R_1 }}\n",
    "\\end{equation}\n",
    "\n",
    "so the total number of event before the eruption stop is \n",
    "\\begin{equation}\n",
    "\\frac{(R_3 - 1)(R_1 + 1)}{2(1 - R_5)R_1}\n",
    "\\end{equation}\n",
    "the time between when the piston stick and when it moves again is \n",
    "\\begin{equation}\n",
    "\\Delta t_{stick} = -\\frac{1}{R_2}\\ln(\\frac{(1 + R_1)(R_3 - 1) -2nR_1(1 - R_5)}{(1 +R_1)(R_3 - 1) - (2(n-1)R_1 -1)(1 - R_5)})\n",
    "\\end{equation}"
   ]
  },
  {
   "cell_type": "markdown",
   "metadata": {},
   "source": [
    "The displacement at cycle n is given by\n",
    "\\begin{equation}\n",
    "x - x_0 =\\frac{(R_5 - 1)}{R1+1}\\cos(\\omega t) + \\frac{1 -R_5}{R_1 + 1} \n",
    "\\end{equation}\n",
    "\n",
    "So that that the pressure at slip during cycle n is given by\n",
    "\\begin{equation}\n",
    "p(t) = \\frac{(1 - R_5)}{R_1+1}[1 - 2R_1(n - 1) - \\cos(\\omega t)] - 1\n",
    "\\end{equation}\n",
    "In fact the pressure at the beginning of each cycle n is \n",
    "\\begin{equation}\n",
    "p_{slip} = -R_1 x(0)_n -1  \n",
    "\\end{equation}\n",
    "so that the pressure at the beginning of stick is\n",
    "\\begin{equation}\n",
    "p_{stick} = 2\\frac{1 -5}{R_1+1}[1 -R_1(n-1)] -1\n",
    "\\end{equation}\n",
    "And the during stick at cycle n is\n",
    "\\begin{equation}\n",
    "\\Delta P_e(t) = (2\\frac{1 -5}{R_1+1}[1 -R_1(n-1)] -1 + R_3)  \\exp (R_2t_{stick})*.exp(-R_2t) -R3 \n",
    "\\end{equation}\n",
    "In the dimensional form\n",
    "\\begin{equation}\n",
    "dx = 2 \\frac{R1}{\\rho g}\\frac{Ps - Pd}{1 + R1}\n",
    "\\end{equation}\n",
    "where $Ps= Fs/S$. The pressure jump is given by\n",
    "\\begin{equation}\n",
    "\\Delta P_{slip} = 2 \\frac{Ps - Pd}{1+R1}\n",
    "\\end{equation}\n",
    "The difference in pressure between two slip event is given by\n",
    "\\begin{equation}\n",
    "\\Delta P_{deficit} = - 2 R1 \\frac{Ps - Pd}{1 + R1} \n",
    "\\end{equation}\n",
    "The time between slip events with R2 << 1 is \n",
    "\\begin{equation}\n",
    "\\Delta t = -\\tau \\log(\\frac{(1 + R1)\\Phi - 2R1n}{(1+R1)\\Phi  -2R1n +2R1 +2})\n",
    "\\end{equation}\n",
    "with $\\phi = \\frac{Pl - Ps}{Ps - Pd}$\n",
    "so that the total number of slip event is\n",
    "\\begin{equation}\n",
    "n = ceil(\\frac{1 + R1}{2R1}\\Phi)\n",
    "\\end{equation}\n",
    "And the piston is at  position \n",
    "\\begin{equation}\n",
    "x = \\frac{(Pl - Ps)}{\\rho g} \n",
    "\\end{equation}"
   ]
  },
  {
   "cell_type": "markdown",
   "metadata": {},
   "source": [
    "In the dimensional form\n",
    "\\begin{equation}\n",
    "dx = 2 \\frac{\\Psi}{\\rho g}\\frac{P_s- P_d}{1 + \\Psi}\n",
    "\\end{equation}\n",
    "where $Ps= Fs/S$. The pressure jump is given by\n",
    "\\begin{equation}\n",
    "\\Delta P_{slip} = 2 \\frac{P_s- P_d}{1+\\Psi}\n",
    "\\end{equation}\n",
    "The difference in pressure between two slip event is given by\n",
    "\\begin{equation}\n",
    "\\Delta P_{deficit} = - 2 \\Psi \\frac{P_s- P_d}{1 + \\Psi} \n",
    "\\end{equation}\n",
    "The time between slip events with R2 << 1 is \n",
    "\\begin{equation}\n",
    "\\Delta t = -\\tau \\log(\\frac{(1 + \\Psi)\\Phi - 2\\Ps}{(1+\\Ps)\\Phi  -2\\Psin +2\\Psi +2})\n",
    "\\end{equation}\n",
    "with $\\phi = \\frac{P_l - Ps}{P_s- P_d}$\n",
    "so that the total number of slip event is\n",
    "\\begin{equation}\n",
    "n = ceil(\\frac{1 + \\Psi}{2\\Psi}\\Phi)\n",
    "\\end{equation}\n",
    "And the piston is at  position \n",
    "\\begin{equation}\n",
    "x = \\frac{(P_l - Ps)}{\\rho g} \n",
    "\\end{equation}"
   ]
  },
  {
   "cell_type": "markdown",
   "metadata": {},
   "source": [
    "Better expression for dimensional results\n",
    "\\begin{equation}\n",
    "dx = 2 V_0  \\frac{(\\tau_s - \\tau_d)}{kS +\\rho g V_0 }\n",
    "\\end{equation}"
   ]
  },
  {
   "cell_type": "markdown",
   "metadata": {},
   "source": [
    "# Preliminary parameters estimation\n"
   ]
  },
  {
   "cell_type": "code",
   "execution_count": 8,
   "metadata": {},
   "outputs": [
    {
     "data": {
      "text/plain": [
       "<matplotlib.legend.Legend at 0x113de5b38>"
      ]
     },
     "execution_count": 8,
     "metadata": {},
     "output_type": "execute_result"
    }
   ],
   "source": [
    "import numpy as np\n",
    "import matplotlib.pyplot as plt\n",
    "\n",
    "x0 = 0\n",
    "g = 9.8\n",
    "rho = 2700\n",
    "#chamber and elasticity\n",
    "#Piston geometrical parameters\n",
    "Rp = 5e+2\n",
    "hp = 5+2\n",
    "S = 3.14 * Rp**2\n",
    "Vp = S * hp\n",
    "m = rho * Vp\n",
    "#Conduit and mama properties\n",
    "a = 4.\n",
    "mu = 1e+2\n",
    "l = 3e+4\n",
    "#Friction properties\n",
    "c0 =5.0e+6\n",
    "Fs = c0 * S\n",
    "v0 = 3e+9\n",
    "R = 0.3\n",
    "R3 = 1.3\n",
    "k = np.linspace(1e+9,1e+11,1000)\n",
    "R1 = rho * g * v0 /(k*S)\n",
    "R2 = (m * k / v0)**0.5 *(3.14 * a**4 )/(8* mu * l* S) \n",
    "tstar = ((m*v0) / (k* S**2))**0.5\n",
    "xstar = Fs*v0/(k*S**2)\n",
    "tslip = 3.14 / np.sqrt(1+R1) * tstar\n",
    "xslip = 2 * (1- R5)/ (1 + R1) * xstar\n",
    "fig, ax = plt.subplots(nrows = 1, ncols = 2, figsize = (14,7))\n",
    "ax[0].semilogx(k,xslip,'b')\n",
    "R5 = 0.7\n",
    "tstar = ((m*v0) / (k* S**2))**0.5\n",
    "xstar = Fs*v0/(k*S**2)\n",
    "tslip = 3.14 / np.sqrt(1+R1) * tstar\n",
    "xslip = 2 * (1- R5)/ (1 + R1) * xstar\n",
    "ax[0].semilogx(k,xslip,'r')\n",
    "R5 = 0.9\n",
    "tstar = ((m*v0) / (k* S**2))**0.5\n",
    "xstar = Fs*v0/(k*S**2)\n",
    "tslip = 3.14 / np.sqrt(1+R1) * tstar\n",
    "xslip = 2 * (1- R5)/ (1 + R1) * xstar\n",
    "ax[0].semilogx(k,xslip,'g')\n",
    "ax[0].set_xlabel('Bulk mod')\n",
    "ax[0].set_ylabel('dx slip[m]')\n",
    "ax[0].legend(['R5 = 0.3','R5 = 0.7','R5 = 0.9'])\n",
    "R5 = 0.3\n",
    "k = 1e+9\n",
    "v0 = np.linspace(1e+9,1e+11,1000)\n",
    "R1 = rho * g * v0 /(k*S)\n",
    "R2 = (m * k / v0)**0.5 *(3.14 * a**4 )/(8* mu * l* S) \n",
    "tstar = ((m*v0) / (k* S**2))**0.5\n",
    "xstar = Fs*v0/(k*S**2)\n",
    "tslip = 3.14 / np.sqrt(1+R1) * tstar\n",
    "xslip = 2 * (1- R5)/ (1 + R1) * xstar\n",
    "ax[1].semilogx(v0,xslip,'b')\n",
    "\n",
    "R5 = 0.7\n",
    "tstar = ((m*v0) / (k* S**2))**0.5\n",
    "xstar = Fs*v0/(k*S**2)\n",
    "tslip = 3.14 / np.sqrt(1+R1) * tstar\n",
    "xslip = 2 * (1- R5)/ (1 + R1) * xstar\n",
    "ax[1].semilogx(v0,xslip,'r')\n",
    "R5 = 0.9\n",
    "tstar = ((m*v0) / (k* S**2))**0.5\n",
    "xstar = Fs*v0/(k*S**2)\n",
    "tslip = 3.14 / np.sqrt(1+R1) * tstar\n",
    "xslip = 2 * (1- R5)/ (1 + R1) * xstar\n",
    "ax[1].semilogx(v0,xslip,'g')\n",
    "ax[1].set_xlabel('Chamber volumes')\n",
    "ax[1].legend(['R5 = 0.3','R5 = 0.7','R5 = 0.9'])"
   ]
  },
  {
   "cell_type": "markdown",
   "metadata": {},
   "source": [
    "## Number of cycles"
   ]
  },
  {
   "cell_type": "code",
   "execution_count": 9,
   "metadata": {},
   "outputs": [
    {
     "ename": "NameError",
     "evalue": "name 'r3' is not defined",
     "output_type": "error",
     "traceback": [
      "\u001b[0;31m---------------------------------------------------------------------------\u001b[0m",
      "\u001b[0;31mNameError\u001b[0m                                 Traceback (most recent call last)",
      "\u001b[0;32m<ipython-input-9-03ee490bb2d3>\u001b[0m in \u001b[0;36m<module>\u001b[0;34m\u001b[0m\n\u001b[1;32m      6\u001b[0m \u001b[0mPl\u001b[0m \u001b[0;34m=\u001b[0m \u001b[0mnp\u001b[0m\u001b[0;34m.\u001b[0m\u001b[0mlinspace\u001b[0m\u001b[0;34m(\u001b[0m\u001b[0mc0\u001b[0m \u001b[0;34m+\u001b[0m \u001b[0;36m1e+6\u001b[0m\u001b[0;34m,\u001b[0m\u001b[0;36m30\u001b[0m\u001b[0;34m*\u001b[0m\u001b[0;36m1e+6\u001b[0m\u001b[0;34m)\u001b[0m\u001b[0;34m\u001b[0m\u001b[0;34m\u001b[0m\u001b[0m\n\u001b[1;32m      7\u001b[0m \u001b[0mR3\u001b[0m \u001b[0;34m=\u001b[0m  \u001b[0mPl\u001b[0m\u001b[0;34m/\u001b[0m\u001b[0mc0\u001b[0m\u001b[0;34m\u001b[0m\u001b[0;34m\u001b[0m\u001b[0m\n\u001b[0;32m----> 8\u001b[0;31m \u001b[0mN_cycles\u001b[0m \u001b[0;34m=\u001b[0m \u001b[0;34m(\u001b[0m\u001b[0mr3\u001b[0m \u001b[0;34m-\u001b[0m \u001b[0;36m1\u001b[0m\u001b[0;34m)\u001b[0m\u001b[0;34m*\u001b[0m\u001b[0;34m(\u001b[0m\u001b[0mr1\u001b[0m \u001b[0;34m+\u001b[0m \u001b[0;36m1\u001b[0m\u001b[0;34m)\u001b[0m\u001b[0;34m/\u001b[0m\u001b[0;34m(\u001b[0m\u001b[0;36m2\u001b[0m\u001b[0;34m*\u001b[0m\u001b[0;34m(\u001b[0m\u001b[0;36m1\u001b[0m \u001b[0;34m-\u001b[0m \u001b[0mR5\u001b[0m\u001b[0;34m)\u001b[0m\u001b[0;34m*\u001b[0m\u001b[0mr1\u001b[0m\u001b[0;34m)\u001b[0m\u001b[0;34m\u001b[0m\u001b[0;34m\u001b[0m\u001b[0m\n\u001b[0m\u001b[1;32m      9\u001b[0m \u001b[0mr1\u001b[0m\u001b[0;34m,\u001b[0m\u001b[0mr3\u001b[0m \u001b[0;34m=\u001b[0m \u001b[0mnp\u001b[0m\u001b[0;34m.\u001b[0m\u001b[0mmeshgrid\u001b[0m\u001b[0;34m(\u001b[0m\u001b[0mR1\u001b[0m\u001b[0;34m,\u001b[0m\u001b[0mR3\u001b[0m\u001b[0;34m)\u001b[0m\u001b[0;34m\u001b[0m\u001b[0;34m\u001b[0m\u001b[0m\n\u001b[1;32m     10\u001b[0m \u001b[0mfig\u001b[0m\u001b[0;34m,\u001b[0m \u001b[0max\u001b[0m \u001b[0;34m=\u001b[0m \u001b[0mplt\u001b[0m\u001b[0;34m.\u001b[0m\u001b[0msubplots\u001b[0m\u001b[0;34m(\u001b[0m\u001b[0mnrows\u001b[0m \u001b[0;34m=\u001b[0m \u001b[0;36m1\u001b[0m\u001b[0;34m,\u001b[0m \u001b[0mncols\u001b[0m \u001b[0;34m=\u001b[0m \u001b[0;36m1\u001b[0m\u001b[0;34m,\u001b[0m \u001b[0mfigsize\u001b[0m \u001b[0;34m=\u001b[0m \u001b[0;34m(\u001b[0m\u001b[0;36m14\u001b[0m\u001b[0;34m,\u001b[0m\u001b[0;36m7\u001b[0m\u001b[0;34m)\u001b[0m\u001b[0;34m)\u001b[0m\u001b[0;34m\u001b[0m\u001b[0;34m\u001b[0m\u001b[0m\n",
      "\u001b[0;31mNameError\u001b[0m: name 'r3' is not defined"
     ]
    }
   ],
   "source": [
    "##c0 is set to 5 MPa\n",
    "R5 = 0.2\n",
    "k = 2e+9\n",
    "v0 = np.linspace(1e+9,1e+11,1000)\n",
    "R1 = rho * g * v0 /(k*S)\n",
    "Pl = np.linspace(c0 + 1e+6,30*1e+6) \n",
    "R3 =  Pl/c0\n",
    "N_cycles = (r3 - 1)*(r1 + 1)/(2*(1 - R5)*r1)\n",
    "r1,r3 = np.meshgrid(R1,R3)\n",
    "fig, ax = plt.subplots(nrows = 1, ncols = 1, figsize = (14,7))\n",
    "N_cycles[N_cycles > 100]  = np.nan\n",
    "N_cycles[N_cycles < 20]  = np.nan\n",
    "\n",
    "cont = ax.contourf(v0,Pl/1e+6,N_cycles,30)\n",
    "cont.set_clim([30,70])\n",
    "ax.set_xscale('log')\n",
    "fig.colorbar(cont,ax = ax)\n",
    "ax.set_xlabel('Chamber volume')\n",
    "ax.set_ylabel('Pl [MPa]')"
   ]
  },
  {
   "cell_type": "code",
   "execution_count": 10,
   "metadata": {},
   "outputs": [
    {
     "ename": "NameError",
     "evalue": "name 'r1' is not defined",
     "output_type": "error",
     "traceback": [
      "\u001b[0;31m---------------------------------------------------------------------------\u001b[0m",
      "\u001b[0;31mNameError\u001b[0m                                 Traceback (most recent call last)",
      "\u001b[0;32m<ipython-input-10-dccfd8b0f86f>\u001b[0m in \u001b[0;36m<module>\u001b[0;34m\u001b[0m\n\u001b[1;32m      1\u001b[0m \u001b[0;31m### Period of of the first collapse\u001b[0m\u001b[0;34m\u001b[0m\u001b[0;34m\u001b[0m\u001b[0;34m\u001b[0m\u001b[0m\n\u001b[0;32m----> 2\u001b[0;31m \u001b[0mdeltaT_stick\u001b[0m \u001b[0;34m=\u001b[0m \u001b[0;34m-\u001b[0m\u001b[0;36m1.\u001b[0m\u001b[0;34m/\u001b[0m\u001b[0mR2\u001b[0m \u001b[0;34m*\u001b[0m \u001b[0mnp\u001b[0m\u001b[0;34m.\u001b[0m\u001b[0mlog\u001b[0m\u001b[0;34m(\u001b[0m\u001b[0;34m(\u001b[0m\u001b[0;34m(\u001b[0m\u001b[0;36m1\u001b[0m\u001b[0;34m+\u001b[0m\u001b[0mr1\u001b[0m\u001b[0;34m)\u001b[0m\u001b[0;34m*\u001b[0m\u001b[0;34m(\u001b[0m\u001b[0mr3\u001b[0m \u001b[0;34m-\u001b[0m \u001b[0;36m1\u001b[0m\u001b[0;34m)\u001b[0m \u001b[0;34m-\u001b[0m \u001b[0;36m2\u001b[0m \u001b[0;34m*\u001b[0m \u001b[0mr1\u001b[0m \u001b[0;34m*\u001b[0m \u001b[0;34m(\u001b[0m\u001b[0;36m1\u001b[0m \u001b[0;34m-\u001b[0m \u001b[0mR5\u001b[0m\u001b[0;34m)\u001b[0m\u001b[0;34m)\u001b[0m\u001b[0;34m/\u001b[0m\u001b[0;34m(\u001b[0m\u001b[0;34m(\u001b[0m\u001b[0;36m1\u001b[0m\u001b[0;34m+\u001b[0m\u001b[0mr1\u001b[0m\u001b[0;34m)\u001b[0m\u001b[0;34m*\u001b[0m\u001b[0;34m(\u001b[0m\u001b[0mr3\u001b[0m \u001b[0;34m-\u001b[0m \u001b[0;36m1\u001b[0m\u001b[0;34m)\u001b[0m \u001b[0;34m+\u001b[0m\u001b[0;34m(\u001b[0m\u001b[0;36m1\u001b[0m \u001b[0;34m-\u001b[0m \u001b[0mR5\u001b[0m\u001b[0;34m)\u001b[0m\u001b[0;34m)\u001b[0m\u001b[0;34m)\u001b[0m\u001b[0;34m\u001b[0m\u001b[0;34m\u001b[0m\u001b[0m\n\u001b[0m\u001b[1;32m      3\u001b[0m \u001b[0mdeltaT_stick\u001b[0m \u001b[0;34m=\u001b[0m \u001b[0mdeltaT_stick\u001b[0m\u001b[0;34m/\u001b[0m\u001b[0;34m(\u001b[0m\u001b[0;36m3600\u001b[0m\u001b[0;34m)\u001b[0m\u001b[0;34m\u001b[0m\u001b[0;34m\u001b[0m\u001b[0m\n\u001b[1;32m      4\u001b[0m \u001b[0mdeltaT_stick\u001b[0m\u001b[0;34m[\u001b[0m\u001b[0mdeltaT_stick\u001b[0m \u001b[0;34m>\u001b[0m \u001b[0;36m80\u001b[0m\u001b[0;34m]\u001b[0m  \u001b[0;34m=\u001b[0m \u001b[0mnp\u001b[0m\u001b[0;34m.\u001b[0m\u001b[0mnan\u001b[0m\u001b[0;34m\u001b[0m\u001b[0;34m\u001b[0m\u001b[0m\n\u001b[1;32m      5\u001b[0m \u001b[0mfig\u001b[0m\u001b[0;34m,\u001b[0m \u001b[0max\u001b[0m \u001b[0;34m=\u001b[0m \u001b[0mplt\u001b[0m\u001b[0;34m.\u001b[0m\u001b[0msubplots\u001b[0m\u001b[0;34m(\u001b[0m\u001b[0mnrows\u001b[0m \u001b[0;34m=\u001b[0m \u001b[0;36m1\u001b[0m\u001b[0;34m,\u001b[0m \u001b[0mncols\u001b[0m \u001b[0;34m=\u001b[0m \u001b[0;36m1\u001b[0m\u001b[0;34m,\u001b[0m \u001b[0mfigsize\u001b[0m \u001b[0;34m=\u001b[0m \u001b[0;34m(\u001b[0m\u001b[0;36m14\u001b[0m\u001b[0;34m,\u001b[0m\u001b[0;36m7\u001b[0m\u001b[0;34m)\u001b[0m\u001b[0;34m)\u001b[0m\u001b[0;34m\u001b[0m\u001b[0;34m\u001b[0m\u001b[0m\n",
      "\u001b[0;31mNameError\u001b[0m: name 'r1' is not defined"
     ]
    }
   ],
   "source": [
    "### Period of of the first collapse\n",
    "deltaT_stick = -1./R2 * np.log(((1+r1)*(r3 - 1) - 2 * r1 * (1 - R5))/((1+r1)*(r3 - 1) +(1 - R5)))\n",
    "deltaT_stick = deltaT_stick/(3600)\n",
    "deltaT_stick[deltaT_stick > 80]  = np.nan\n",
    "fig, ax = plt.subplots(nrows = 1, ncols = 1, figsize = (14,7))\n",
    "cont = ax.contourf(v0,Pl/1e+6,deltaT_stick,50)\n",
    "cont.set_clim([1,48])\n",
    "ax.set_xscale('log')\n",
    "fig.colorbar(cont,ax = ax)\n",
    "ax.set_xlabel('Chamber volume')\n",
    "ax.set_ylabel('Pl [MPa]')"
   ]
  },
  {
   "cell_type": "markdown",
   "metadata": {},
   "source": [
    "We multiply the eigenvalue by its eigenvector"
   ]
  },
  {
   "cell_type": "code",
   "execution_count": 11,
   "metadata": {},
   "outputs": [
    {
     "ename": "NameError",
     "evalue": "name 'x_re' is not defined",
     "output_type": "error",
     "traceback": [
      "\u001b[0;31m---------------------------------------------------------------------------\u001b[0m",
      "\u001b[0;31mNameError\u001b[0m                                 Traceback (most recent call last)",
      "\u001b[0;32m<ipython-input-11-440060ddb34a>\u001b[0m in \u001b[0;36m<module>\u001b[0;34m\u001b[0m\n\u001b[0;32m----> 1\u001b[0;31m \u001b[0mx_re\u001b[0m\u001b[0;34m\u001b[0m\u001b[0;34m\u001b[0m\u001b[0m\n\u001b[0m",
      "\u001b[0;31mNameError\u001b[0m: name 'x_re' is not defined"
     ]
    }
   ],
   "source": [
    "x_re"
   ]
  },
  {
   "cell_type": "code",
   "execution_count": 6,
   "metadata": {},
   "outputs": [
    {
     "ename": "NameError",
     "evalue": "name 'x_im' is not defined",
     "output_type": "error",
     "traceback": [
      "\u001b[0;31m---------------------------------------------------------------------------\u001b[0m",
      "\u001b[0;31mNameError\u001b[0m                                 Traceback (most recent call last)",
      "\u001b[0;32m<ipython-input-6-b3d805309525>\u001b[0m in \u001b[0;36m<module>\u001b[0;34m\u001b[0m\n\u001b[0;32m----> 1\u001b[0;31m \u001b[0mx_im\u001b[0m\u001b[0;34m\u001b[0m\u001b[0;34m\u001b[0m\u001b[0m\n\u001b[0m",
      "\u001b[0;31mNameError\u001b[0m: name 'x_im' is not defined"
     ]
    }
   ],
   "source": [
    "x_im"
   ]
  },
  {
   "cell_type": "markdown",
   "metadata": {},
   "source": [
    "The solution to the homogeneous system is $\\mathbf{x_h} = c_1 Re(\\mathbf x) + c_2 Im(\\mathbf x)$ "
   ]
  },
  {
   "cell_type": "code",
   "execution_count": 18,
   "metadata": {},
   "outputs": [
    {
     "data": {
      "text/latex": [
       "$\\displaystyle \\left[\\begin{matrix}c_{1} + \\frac{c_{2} \\left(- R_{1}^{2} \\cos{\\left(k t \\right)} + 4 R_{1} k \\sin{\\left(k t \\right)} + 4 k^{2} \\cos{\\left(k t \\right)}\\right) e^{- \\frac{R_{1} t}{2}}}{R_{1}^{2} + 4 k^{2}} + \\frac{c_{3} \\left(- R_{1}^{2} \\sin{\\left(k t \\right)} - 4 R_{1} k \\cos{\\left(k t \\right)} + 4 k^{2} \\sin{\\left(k t \\right)}\\right) e^{- \\frac{R_{1} t}{2}}}{R_{1}^{2} + 4 k^{2}}\\\\c_{2} \\left(\\frac{R_{1} \\cos{\\left(k t \\right)}}{2} - k \\sin{\\left(k t \\right)}\\right) e^{- \\frac{R_{1} t}{2}} + c_{3} \\left(\\frac{R_{1} \\sin{\\left(k t \\right)}}{2} + k \\cos{\\left(k t \\right)}\\right) e^{- \\frac{R_{1} t}{2}}\\\\c_{2} e^{- \\frac{R_{1} t}{2}} \\cos{\\left(k t \\right)} + c_{3} e^{- \\frac{R_{1} t}{2}} \\sin{\\left(k t \\right)}\\end{matrix}\\right]$"
      ],
      "text/plain": [
       "Matrix([\n",
       "[c1 + c2*(-R1**2*cos(k*t) + 4*R1*k*sin(k*t) + 4*k**2*cos(k*t))*exp(-R1*t/2)/(R1**2 + 4*k**2) + c3*(-R1**2*sin(k*t) - 4*R1*k*cos(k*t) + 4*k**2*sin(k*t))*exp(-R1*t/2)/(R1**2 + 4*k**2)],\n",
       "[                                                                                         c2*(R1*cos(k*t)/2 - k*sin(k*t))*exp(-R1*t/2) + c3*(R1*sin(k*t)/2 + k*cos(k*t))*exp(-R1*t/2)],\n",
       "[                                                                                                                                 c2*exp(-R1*t/2)*cos(k*t) + c3*exp(-R1*t/2)*sin(k*t)]])"
      ]
     },
     "execution_count": 18,
     "metadata": {},
     "output_type": "execute_result"
    }
   ],
   "source": [
    "c1,c2,c3 = symbols('c1,c2,c3')\n",
    "xh = c2 * x_re + c3 * x_im + c1 * Matrix([[1],[0],[0]])\n",
    "xhv = xh\n",
    "xhv"
   ]
  },
  {
   "cell_type": "markdown",
   "metadata": {},
   "source": [
    "The particular solution of the differential equation. One solution of the homogeneous is a constant. As the term  of the non homogenous equation is also a constant we have to have to find a particular solution of the type $\\mathbf x = \\mathbf a t + \\mathbf d$. By insering this in the original equation one gets \n",
    "\\begin{equation}\n",
    "A\\mathbf a = 0\n",
    "\\end{equation}\n",
    "which leads to $a_2,a_3 = 0$. and $\\mathbf a - A \\mathbf d = \\mathbf g$. With $\\mathbf g = [0,1,0]$ "
   ]
  },
  {
   "cell_type": "code",
   "execution_count": 20,
   "metadata": {},
   "outputs": [
    {
     "data": {
      "text/plain": [
       "{a1: R1, d2: R1, d3: 1}"
      ]
     },
     "execution_count": 20,
     "metadata": {},
     "output_type": "execute_result"
    }
   ],
   "source": [
    "a1,d1,d2,d3 = symbols('a1,d1,d2,d3')\n",
    "d = Matrix([[d1],[d2],[d3]])\n",
    "a = Matrix([[a1],[0],[0]])\n",
    "g = Matrix([[0],[1],[0]])\n",
    "system =  a - A*d - g\n",
    "solution = solve((system[0],system[1],system[2]),a1,d2,d3)\n",
    "solution"
   ]
  },
  {
   "cell_type": "markdown",
   "metadata": {},
   "source": [
    "Check for the solutions"
   ]
  },
  {
   "cell_type": "code",
   "execution_count": 22,
   "metadata": {},
   "outputs": [
    {
     "data": {
      "text/latex": [
       "$\\displaystyle \\left[\\begin{matrix}0\\\\0\\\\0\\end{matrix}\\right]$"
      ],
      "text/plain": [
       "Matrix([\n",
       "[0],\n",
       "[0],\n",
       "[0]])"
      ]
     },
     "execution_count": 22,
     "metadata": {},
     "output_type": "execute_result"
    }
   ],
   "source": [
    "a = Matrix([[solution[a1]],[0],[0]])\n",
    "d = Matrix([[d1],[solution[d2]],[solution[d3]]])\n",
    "a - A*d - g"
   ]
  },
  {
   "cell_type": "markdown",
   "metadata": {},
   "source": [
    "Thus $\\mathbf x = \\mathbf a t + \\mathbf d$ solve the equations if "
   ]
  },
  {
   "cell_type": "markdown",
   "metadata": {},
   "source": [
    "for an arbitrary value of $d_1$. By setting $d_1 = 0$, we obtain the particular solution and we add it to the general solution. "
   ]
  },
  {
   "cell_type": "code",
   "execution_count": 29,
   "metadata": {},
   "outputs": [
    {
     "data": {
      "text/plain": [
       "Matrix([\n",
       "[R1*t],\n",
       "[  R1],\n",
       "[   1]])"
      ]
     },
     "execution_count": 29,
     "metadata": {},
     "output_type": "execute_result"
    }
   ],
   "source": [
    "d[0] = 0\n",
    "xp = a*t + d\n",
    "xp"
   ]
  },
  {
   "cell_type": "code",
   "execution_count": 30,
   "metadata": {},
   "outputs": [
    {
     "data": {
      "text/plain": [
       "Matrix([\n",
       "[R1*t + c1 + c2*(-R1**2*cos(k*t) + 4*R1*k*sin(k*t) + 4*k**2*cos(k*t))*exp(-R1*t/2)/(R1**2 + 4*k**2) + c3*(-R1**2*sin(k*t) - 4*R1*k*cos(k*t) + 4*k**2*sin(k*t))*exp(-R1*t/2)/(R1**2 + 4*k**2)],\n",
       "[                                                                                           R1 + c2*(R1*cos(k*t)/2 - k*sin(k*t))*exp(-R1*t/2) + c3*(R1*sin(k*t)/2 + k*cos(k*t))*exp(-R1*t/2)],\n",
       "[                                                                                                                                    c2*exp(-R1*t/2)*cos(k*t) + c3*exp(-R1*t/2)*sin(k*t) + 1]])"
      ]
     },
     "execution_count": 30,
     "metadata": {},
     "output_type": "execute_result"
    }
   ],
   "source": [
    "x = xh + xp\n",
    "x"
   ]
  },
  {
   "cell_type": "markdown",
   "metadata": {},
   "source": [
    "Subject to initial conditions,\n",
    "\\begin{equation}\n",
    "x(0) = \\frac{(mg - F_s)}{S^2}\\frac{V_0}{k}-\\frac{p0}{S}\\frac{V_0}{k}\n",
    "\\end{equation}\n",
    "\n",
    "\\begin{equation}\n",
    "v(0) = 0\n",
    "\\end{equation}\n",
    "\n",
    "\\begin{equation}\n",
    "p(0) = \\frac{(mg - F_s)}{S}\n",
    "\\end{equation}\n",
    "The scaled version of the last is\n",
    "\\begin{equation}\n",
    "p(0) = R_2\n",
    "\\end{equation}\n",
    "With\n",
    "\\begin{equation}\n",
    "R_2 = \\frac{mg -F_s}{mg - F_d}\n",
    "\\end{equation}\n",
    "and \n",
    "\\begin{equation}\n",
    "x(0) = R_2 - R_3\n",
    "\\end{equation}\n",
    "With\n",
    "\\begin{equation}\n",
    "R_3 = \\frac{p_0 S}{(mg - F_d)}\n",
    "\\end{equation}\n",
    "\n"
   ]
  },
  {
   "cell_type": "code",
   "execution_count": 31,
   "metadata": {},
   "outputs": [
    {
     "data": {
      "text/plain": [
       "{c1: (-R1**2*R3 - 3*R1**2 - 4*R3*k**2 + 4*k**2)/(R1**2 + 4*k**2),\n",
       " c2: R2 - 1,\n",
       " c3: -R1*(R2 + 1)/(2*k)}"
      ]
     },
     "execution_count": 31,
     "metadata": {},
     "output_type": "execute_result"
    }
   ],
   "source": [
    "R2,R3 = symbols('R2,R3')\n",
    "eq1 = x[0]\n",
    "eq2 = x[1]\n",
    "eq3 = x[2]\n",
    "eq1 = eq1.subs(t,0)\n",
    "eq2 = eq2.subs(t,0)\n",
    "eq3 = eq3.subs(t,0)\n",
    "eq1 = eq1 - R2 + R3\n",
    "eq3 = eq3 - R2\n",
    "constant = solve((eq1,eq2,eq3),c1,c2,c3)\n",
    "constant"
   ]
  },
  {
   "cell_type": "code",
   "execution_count": 32,
   "metadata": {},
   "outputs": [],
   "source": [
    "for c in constant.keys():\n",
    "    x = x.subs(c, constant[c])\n",
    "\n"
   ]
  },
  {
   "cell_type": "markdown",
   "metadata": {},
   "source": [
    "Verify that the solution satisfies the original system. Careful we have to substitute R1 with a numerical value consistent with 0<R1<2, which is the range in which this solution is valid!!!! Here we take R1=1"
   ]
  },
  {
   "cell_type": "code",
   "execution_count": 33,
   "metadata": {},
   "outputs": [
    {
     "data": {
      "text/plain": [
       "(Matrix([\n",
       " [-6.93889390390723e-18],\n",
       " [-4.33680868994202e-19],\n",
       " [ 6.93889390390723e-18]]), 9.82265627595170e-18)"
      ]
     },
     "execution_count": 33,
     "metadata": {},
     "output_type": "execute_result"
    }
   ],
   "source": [
    "import numpy as np\n",
    "R1_value = 0.1\n",
    "xverif = x.subs(k,sqrt(4 - R1**2)/2)\n",
    "xverif = xverif.subs(R1,R1_value)\n",
    "der = []\n",
    "for i in range(len(xverif)):\n",
    "    der.append(diff(xverif[i],t))\n",
    "der = Matrix([[der[0]],[der[1]],[der[2]]])\n",
    "M = M.subs(R1,R1_value)\n",
    "verif = simplify(der -  M *xverif -g)\n",
    "verif = verif.subs(t,0)\n",
    "verif = verif.subs(R2,1)\n",
    "verif, (verif[0]**2 + verif[1]**2 + verif[2]**2)**0.5"
   ]
  },
  {
   "cell_type": "markdown",
   "metadata": {},
   "source": [
    "Finally the solution of the system are:"
   ]
  },
  {
   "cell_type": "code",
   "execution_count": 34,
   "metadata": {},
   "outputs": [
    {
     "data": {
      "text/plain": [
       "(R2 - 1)*(-0.998749217771909*sin(0.998749217771909*t) + 0.05*cos(0.998749217771909*t))*exp(-0.05*t) - 0.0500626174321759*(R2 + 1)*(0.05*sin(0.998749217771909*t) + 0.998749217771909*cos(0.998749217771909*t))*exp(-0.05*t) + 0.1"
      ]
     },
     "execution_count": 34,
     "metadata": {},
     "output_type": "execute_result"
    }
   ],
   "source": [
    "xverif[1]"
   ]
  },
  {
   "cell_type": "code",
   "execution_count": 35,
   "metadata": {},
   "outputs": [
    {
     "data": {
      "text/plain": [
       "(R2 - 1)*exp(-0.05*t)*cos(0.998749217771909*t) - 0.0500626174321759*(R2 + 1)*exp(-0.05*t)*sin(0.998749217771909*t) + 1"
      ]
     },
     "execution_count": 35,
     "metadata": {},
     "output_type": "execute_result"
    }
   ],
   "source": [
    "xverif[2]"
   ]
  },
  {
   "cell_type": "code",
   "execution_count": 36,
   "metadata": {},
   "outputs": [
    {
     "data": {
      "text/plain": [
       "R1*t - R1*(R2 + 1)*(-R1**2*sin(k*t) - 4*R1*k*cos(k*t) + 4*k**2*sin(k*t))*exp(-R1*t/2)/(2*k*(R1**2 + 4*k**2)) + (R2 - 1)*(-R1**2*cos(k*t) + 4*R1*k*sin(k*t) + 4*k**2*cos(k*t))*exp(-R1*t/2)/(R1**2 + 4*k**2) + (-R1**2*R3 - 3*R1**2 - 4*R3*k**2 + 4*k**2)/(R1**2 + 4*k**2)"
      ]
     },
     "execution_count": 36,
     "metadata": {},
     "output_type": "execute_result"
    }
   ],
   "source": [
    "x[0]"
   ]
  },
  {
   "cell_type": "code",
   "execution_count": 39,
   "metadata": {},
   "outputs": [
    {
     "data": {
      "text/plain": [
       "R1 - R1*(R2 + 1)*(R1*sin(k*t)/2 + k*cos(k*t))*exp(-R1*t/2)/(2*k) + (R2 - 1)*(R1*cos(k*t)/2 - k*sin(k*t))*exp(-R1*t/2)"
      ]
     },
     "execution_count": 39,
     "metadata": {},
     "output_type": "execute_result"
    }
   ],
   "source": [
    "\n",
    "c"
   ]
  },
  {
   "cell_type": "code",
   "execution_count": 40,
   "metadata": {},
   "outputs": [
    {
     "data": {
      "text/plain": [
       "-R1*(R2 + 1)*exp(-R1*t/2)*sin(k*t)/(2*k) + (R2 - 1)*exp(-R1*t/2)*cos(k*t) + 1"
      ]
     },
     "execution_count": 40,
     "metadata": {},
     "output_type": "execute_result"
    }
   ],
   "source": [
    "x[2]"
   ]
  },
  {
   "cell_type": "code",
   "execution_count": null,
   "metadata": {},
   "outputs": [],
   "source": []
  },
  {
   "cell_type": "code",
   "execution_count": null,
   "metadata": {},
   "outputs": [],
   "source": []
  },
  {
   "cell_type": "code",
   "execution_count": null,
   "metadata": {},
   "outputs": [],
   "source": []
  },
  {
   "cell_type": "code",
   "execution_count": null,
   "metadata": {},
   "outputs": [],
   "source": []
  },
  {
   "cell_type": "code",
   "execution_count": 230,
   "metadata": {},
   "outputs": [
    {
     "ename": "NameError",
     "evalue": "name 'C2' is not defined",
     "output_type": "error",
     "traceback": [
      "\u001b[0;31m---------------------------------------------------------------------------\u001b[0m",
      "\u001b[0;31mNameError\u001b[0m                                 Traceback (most recent call last)",
      "\u001b[0;32m<ipython-input-230-d525b847a6f5>\u001b[0m in \u001b[0;36m<module>\u001b[0;34m\u001b[0m\n\u001b[0;32m----> 1\u001b[0;31m \u001b[0mC2\u001b[0m\u001b[0;34m*\u001b[0m\u001b[0;34m(\u001b[0m\u001b[0;34m-\u001b[0m\u001b[0msqrt\u001b[0m\u001b[0;34m(\u001b[0m\u001b[0;36m3\u001b[0m\u001b[0;34m)\u001b[0m\u001b[0;34m*\u001b[0m\u001b[0msin\u001b[0m\u001b[0;34m(\u001b[0m\u001b[0msqrt\u001b[0m\u001b[0;34m(\u001b[0m\u001b[0;36m3\u001b[0m\u001b[0;34m)\u001b[0m\u001b[0;34m*\u001b[0m\u001b[0mt\u001b[0m\u001b[0;34m/\u001b[0m\u001b[0;36m2\u001b[0m\u001b[0;34m)\u001b[0m\u001b[0;34m/\u001b[0m\u001b[0;36m2\u001b[0m \u001b[0;34m+\u001b[0m \u001b[0mcos\u001b[0m\u001b[0;34m(\u001b[0m\u001b[0msqrt\u001b[0m\u001b[0;34m(\u001b[0m\u001b[0;36m3\u001b[0m\u001b[0;34m)\u001b[0m\u001b[0;34m*\u001b[0m\u001b[0mt\u001b[0m\u001b[0;34m/\u001b[0m\u001b[0;36m2\u001b[0m\u001b[0;34m)\u001b[0m\u001b[0;34m/\u001b[0m\u001b[0;36m2\u001b[0m\u001b[0;34m)\u001b[0m\u001b[0;34m*\u001b[0m\u001b[0mexp\u001b[0m\u001b[0;34m(\u001b[0m\u001b[0;34m-\u001b[0m\u001b[0mt\u001b[0m\u001b[0;34m/\u001b[0m\u001b[0;36m2\u001b[0m\u001b[0;34m)\u001b[0m \u001b[0;34m+\u001b[0m \u001b[0mC3\u001b[0m\u001b[0;34m*\u001b[0m\u001b[0;34m(\u001b[0m\u001b[0msin\u001b[0m\u001b[0;34m(\u001b[0m\u001b[0msqrt\u001b[0m\u001b[0;34m(\u001b[0m\u001b[0;36m3\u001b[0m\u001b[0;34m)\u001b[0m\u001b[0;34m*\u001b[0m\u001b[0mt\u001b[0m\u001b[0;34m/\u001b[0m\u001b[0;36m2\u001b[0m\u001b[0;34m)\u001b[0m\u001b[0;34m/\u001b[0m\u001b[0;36m2\u001b[0m \u001b[0;34m+\u001b[0m \u001b[0msqrt\u001b[0m\u001b[0;34m(\u001b[0m\u001b[0;36m3\u001b[0m\u001b[0;34m)\u001b[0m\u001b[0;34m*\u001b[0m\u001b[0mcos\u001b[0m\u001b[0;34m(\u001b[0m\u001b[0msqrt\u001b[0m\u001b[0;34m(\u001b[0m\u001b[0;36m3\u001b[0m\u001b[0;34m)\u001b[0m\u001b[0;34m*\u001b[0m\u001b[0mt\u001b[0m\u001b[0;34m/\u001b[0m\u001b[0;36m2\u001b[0m\u001b[0;34m)\u001b[0m\u001b[0;34m/\u001b[0m\u001b[0;36m2\u001b[0m\u001b[0;34m)\u001b[0m\u001b[0;34m*\u001b[0m\u001b[0mexp\u001b[0m\u001b[0;34m(\u001b[0m\u001b[0;34m-\u001b[0m\u001b[0mt\u001b[0m\u001b[0;34m/\u001b[0m\u001b[0;36m2\u001b[0m\u001b[0;34m)\u001b[0m\u001b[0;34m\u001b[0m\u001b[0;34m\u001b[0m\u001b[0m\n\u001b[0m",
      "\u001b[0;31mNameError\u001b[0m: name 'C2' is not defined"
     ]
    }
   ],
   "source": []
  },
  {
   "cell_type": "code",
   "execution_count": null,
   "metadata": {},
   "outputs": [],
   "source": [
    "impor"
   ]
  }
 ],
 "metadata": {
  "kernelspec": {
   "display_name": "Python 3",
   "language": "python",
   "name": "python3"
  },
  "language_info": {
   "codemirror_mode": {
    "name": "ipython",
    "version": 3
   },
   "file_extension": ".py",
   "mimetype": "text/x-python",
   "name": "python",
   "nbconvert_exporter": "python",
   "pygments_lexer": "ipython3",
   "version": "3.7.3"
  }
 },
 "nbformat": 4,
 "nbformat_minor": 4
}
