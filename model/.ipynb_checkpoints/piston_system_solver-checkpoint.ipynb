{
 "cells": [
  {
   "cell_type": "code",
   "execution_count": 2,
   "metadata": {},
   "outputs": [],
   "source": [
    "from sympy import *\n",
    "#!/usr/bin/env python3\n",
    "# -*- coding: utf-8 -*-\n",
    "\"\"\"\n",
    "Created on Wed Feb 27 18:19:13 2019\n",
    "\n",
    "@author: aroman]\n",
    "\"\"\"\n",
    "from sympy import *\n",
    "t = symbols('t', positive =True,real = True)\n",
    "R1_value = 0.1\n",
    "x = Function('x') \n",
    "v = Function('v')\n",
    "p = Function('p')\n",
    "eq1 = Eq(Derivative(x(t),t),v(t))\n",
    "eq2 = Eq(Derivative(v(t),t),- p(t))\n",
    "eq3 = Eq(Derivative(p(t),t),v(t) - R1_value * p(t))\n",
    "solution = dsolve((eq1,eq2,eq3))\n"
   ]
  },
  {
   "cell_type": "markdown",
   "metadata": {},
   "source": [
    "We look for periodic solutions, so we look for complex roots of the characteristic equation and set $R_1^2 - 4 < 0$ in both the eigenvector and eigen value"
   ]
  },
  {
   "cell_type": "markdown",
   "metadata": {},
   "source": [
    "Expand the eigenvalue using the Euler relation. Then  use the substitution $k = \\sqrt(4 - R_1^2)/2 $ for both eigenvalue and eigenvector. "
   ]
  },
  {
   "cell_type": "markdown",
   "metadata": {},
   "source": [
    "We multiply the eigenvalue by its eigenvector"
   ]
  },
  {
   "cell_type": "code",
   "execution_count": null,
   "metadata": {},
   "outputs": [],
   "source": []
  },
  {
   "cell_type": "code",
   "execution_count": 3,
   "metadata": {},
   "outputs": [
    {
     "data": {
      "text/plain": [
       "Matrix([\n",
       "[1.0*C1 + C2*(0.0998749217771909*sin(0.998749217771909*t) + 0.995*cos(0.998749217771909*t))*exp(-0.05*t) + C3*(0.995*sin(0.998749217771909*t) - 0.0998749217771909*cos(0.998749217771909*t))*exp(-0.05*t)],\n",
       "[            C2*(-0.998749217771909*sin(0.998749217771909*t) + 0.05*cos(0.998749217771909*t))*exp(-0.05*t) + C3*(0.05*sin(0.998749217771909*t) + 0.998749217771909*cos(0.998749217771909*t))*exp(-0.05*t)],\n",
       "[                                                                                                             1.0*C2*exp(-0.05*t)*cos(0.998749217771909*t) + 1.0*C3*exp(-0.05*t)*sin(0.998749217771909*t)]])"
      ]
     },
     "execution_count": 3,
     "metadata": {},
     "output_type": "execute_result"
    }
   ],
   "source": [
    "xh = Matrix([[solution[0].rhs],[solution[1].rhs],[solution[2].rhs]])\n",
    "xh"
   ]
  },
  {
   "cell_type": "markdown",
   "metadata": {},
   "source": [
    "The solution to the homogeneous system is $\\mathbf{x_h} = c_1 Re(\\mathbf x) + c_2 Im(\\mathbf x)$ "
   ]
  },
  {
   "cell_type": "code",
   "execution_count": 4,
   "metadata": {},
   "outputs": [
    {
     "data": {
      "text/plain": [
       "Matrix([\n",
       "[(-4.85722573273506e-17*C2*sin(0.998749217771909*t) - 1.38777878078145e-17*C3*sin(0.998749217771909*t) + 4.85722573273506e-17*C3*cos(0.998749217771909*t))*exp(-0.05*t)],\n",
       "[                                                     -(5.3776427755281e-17*C2*cos(0.998749217771909*t) + 5.3776427755281e-17*C3*sin(0.998749217771909*t))*exp(-0.05*t)],\n",
       "[                                                                                                                                                                     0]])"
      ]
     },
     "execution_count": 4,
     "metadata": {},
     "output_type": "execute_result"
    }
   ],
   "source": [
    "M =  Matrix([[0,1,0],[0,0,-1],[0,1,-R1_value]])\n",
    "der = []\n",
    "for i in range(len(xh)):\n",
    "    der.append(diff(xh[i],t))\n",
    "der = Matrix([[der[0]],[der[1]],[der[2]]])\n",
    "simplify(der - M*xh)"
   ]
  },
  {
   "cell_type": "markdown",
   "metadata": {},
   "source": [
    "The particular solution of the differential equation. One solution of the homogeneous is a constant. As the term  of the non homogenous equation is also a constant we have to have to find a particular solution of the type $\\mathbf x = \\mathbf a t + \\mathbf d$. By insering this in the original equation one gets \n",
    "\\begin{equation}\n",
    "A\\mathbf a = 0\n",
    "\\end{equation}\n",
    "which leads to $a_2,a_3 = 0$. and $\\mathbf a - A \\mathbf d = \\mathbf g$. With $\\mathbf g = [0,1,0]$ "
   ]
  },
  {
   "cell_type": "code",
   "execution_count": 5,
   "metadata": {},
   "outputs": [
    {
     "data": {
      "text/plain": [
       "{a1: 0.100000000000000, d2: 0.100000000000000, d3: 1.00000000000000}"
      ]
     },
     "execution_count": 5,
     "metadata": {},
     "output_type": "execute_result"
    }
   ],
   "source": [
    "a1,d1,d2,d3 = symbols('a1,d1,d2,d3')\n",
    "d = Matrix([[d1],[d2],[d3]])\n",
    "a = Matrix([[a1],[0],[0]])\n",
    "g = Matrix([[0],[1],[0]])\n",
    "system =  a - M*d - g\n",
    "solution = solve((system[0],system[1],system[2]),a1,d2,d3)\n",
    "solution"
   ]
  },
  {
   "cell_type": "markdown",
   "metadata": {},
   "source": [
    "Check for the solutions"
   ]
  },
  {
   "cell_type": "code",
   "execution_count": 6,
   "metadata": {},
   "outputs": [
    {
     "data": {
      "text/plain": [
       "Matrix([\n",
       "[0],\n",
       "[0],\n",
       "[0]])"
      ]
     },
     "execution_count": 6,
     "metadata": {},
     "output_type": "execute_result"
    }
   ],
   "source": [
    "a = Matrix([[solution[a1]],[0],[0]])\n",
    "d = Matrix([[d1],[solution[d2]],[solution[d3]]])\n",
    "a - M*d - g"
   ]
  },
  {
   "cell_type": "markdown",
   "metadata": {},
   "source": [
    "Thus $\\mathbf x = \\mathbf a t + \\mathbf d$ solve the equations if "
   ]
  },
  {
   "cell_type": "markdown",
   "metadata": {},
   "source": [
    "for an arbitrary value of $d_1$. By setting $d_1 = 0$, we obtain the particular solution and we add it to the general solution. "
   ]
  },
  {
   "cell_type": "code",
   "execution_count": 7,
   "metadata": {
    "collapsed": true,
    "jupyter": {
     "outputs_hidden": true
    }
   },
   "outputs": [
    {
     "data": {
      "text/plain": [
       "Matrix([\n",
       "[0.1*t],\n",
       "[  0.1],\n",
       "[  1.0]])"
      ]
     },
     "execution_count": 7,
     "metadata": {},
     "output_type": "execute_result"
    }
   ],
   "source": [
    "d[0] = 0\n",
    "xp = a*t + d\n",
    "xp"
   ]
  },
  {
   "cell_type": "code",
   "execution_count": 8,
   "metadata": {},
   "outputs": [
    {
     "data": {
      "text/plain": [
       "Matrix([\n",
       "[1.0*C1 + C2*(0.0998749217771909*sin(0.998749217771909*t) + 0.995*cos(0.998749217771909*t))*exp(-0.05*t) + C3*(0.995*sin(0.998749217771909*t) - 0.0998749217771909*cos(0.998749217771909*t))*exp(-0.05*t)],\n",
       "[            C2*(-0.998749217771909*sin(0.998749217771909*t) + 0.05*cos(0.998749217771909*t))*exp(-0.05*t) + C3*(0.05*sin(0.998749217771909*t) + 0.998749217771909*cos(0.998749217771909*t))*exp(-0.05*t)],\n",
       "[                                                                                                             1.0*C2*exp(-0.05*t)*cos(0.998749217771909*t) + 1.0*C3*exp(-0.05*t)*sin(0.998749217771909*t)]])"
      ]
     },
     "execution_count": 8,
     "metadata": {},
     "output_type": "execute_result"
    }
   ],
   "source": [
    "x = xh + xp\n",
    "xh"
   ]
  },
  {
   "cell_type": "markdown",
   "metadata": {},
   "source": [
    "Subject to initial conditions,\n",
    "\\begin{equation}\n",
    "x(0) = \\frac{(mg - F_s)}{S^2}\\frac{V_0}{k}-\\frac{p0}{S}\\frac{V_0}{k}\n",
    "\\end{equation}\n",
    "\n",
    "\\begin{equation}\n",
    "v(0) = 0\n",
    "\\end{equation}\n",
    "\n",
    "\\begin{equation}\n",
    "p(0) = \\frac{(mg - F_s)}{S}\n",
    "\\end{equation}\n",
    "The scaled version of the last is\n",
    "\\begin{equation}\n",
    "p(0) = R_2\n",
    "\\end{equation}\n",
    "With\n",
    "\\begin{equation}\n",
    "R_2 = \\frac{mg -F_s}{mg - F_d}\n",
    "\\end{equation}\n",
    "and \n",
    "\\begin{equation}\n",
    "x(0) = R_2 - R_3\n",
    "\\end{equation}\n",
    "With\n",
    "\\begin{equation}\n",
    "R_3 = \\frac{p_0 S}{(mg - F_d)}\n",
    "\\end{equation}\n",
    "\n"
   ]
  },
  {
   "cell_type": "code",
   "execution_count": 9,
   "metadata": {},
   "outputs": [
    {
     "data": {
      "text/plain": [
       "{C1: -R3 + 0.99, C2: R2 - 1.0, C3: -0.0500626174321759*R2 - 0.0500626174321759}"
      ]
     },
     "execution_count": 9,
     "metadata": {},
     "output_type": "execute_result"
    }
   ],
   "source": [
    "C1,C2,C3 = symbols('C1,C2,C3')\n",
    "R2,R3 = symbols('R2,R3')\n",
    "eq1 = x[0]\n",
    "eq2 = x[1]\n",
    "eq3 = x[2]\n",
    "eq1 = eq1.subs(t,0)\n",
    "eq2 = eq2.subs(t,0)\n",
    "eq3 = eq3.subs(t,0)\n",
    "eq1 = eq1 - R2 + R3\n",
    "eq3 = eq3 - R2\n",
    "constant = solve((eq1,eq2,eq3),C1,C2,C3)\n",
    "constant"
   ]
  },
  {
   "cell_type": "code",
   "execution_count": 10,
   "metadata": {
    "collapsed": true,
    "jupyter": {
     "outputs_hidden": true
    }
   },
   "outputs": [
    {
     "data": {
      "text/plain": [
       "1.0*(-0.0500626174321759*R2 - 0.0500626174321759)*exp(-0.05*t)*sin(0.998749217771909*t) + 1.0*(R2 - 1.0)*exp(-0.05*t)*cos(0.998749217771909*t) + 1.0"
      ]
     },
     "execution_count": 10,
     "metadata": {},
     "output_type": "execute_result"
    }
   ],
   "source": [
    "init_printing(pretty_print=False)\n",
    "\n",
    "for c in constant.keys():\n",
    "    x = x.subs(c, constant[c])\n",
    "\n",
    "\n",
    "x[2]"
   ]
  },
  {
   "cell_type": "code",
   "execution_count": 11,
   "metadata": {},
   "outputs": [
    {
     "ename": "NameError",
     "evalue": "name 'k' is not defined",
     "output_type": "error",
     "traceback": [
      "\u001b[0;31m---------------------------------------------------------------------------\u001b[0m",
      "\u001b[0;31mNameError\u001b[0m                                 Traceback (most recent call last)",
      "\u001b[0;32m<ipython-input-11-dc2d75e9154a>\u001b[0m in \u001b[0;36m<module>\u001b[0;34m\u001b[0m\n\u001b[1;32m      1\u001b[0m \u001b[0;32mimport\u001b[0m \u001b[0mnumpy\u001b[0m \u001b[0;32mas\u001b[0m \u001b[0mnp\u001b[0m\u001b[0;34m\u001b[0m\u001b[0;34m\u001b[0m\u001b[0m\n\u001b[0;32m----> 2\u001b[0;31m \u001b[0mxverif\u001b[0m \u001b[0;34m=\u001b[0m \u001b[0mx\u001b[0m\u001b[0;34m.\u001b[0m\u001b[0msubs\u001b[0m\u001b[0;34m(\u001b[0m\u001b[0mk\u001b[0m\u001b[0;34m,\u001b[0m\u001b[0msqrt\u001b[0m\u001b[0;34m(\u001b[0m\u001b[0;36m4\u001b[0m \u001b[0;34m-\u001b[0m \u001b[0mR1\u001b[0m\u001b[0;34m**\u001b[0m\u001b[0;36m2\u001b[0m\u001b[0;34m)\u001b[0m\u001b[0;34m)\u001b[0m\u001b[0;34m\u001b[0m\u001b[0;34m\u001b[0m\u001b[0m\n\u001b[0m\u001b[1;32m      3\u001b[0m \u001b[0mxverif\u001b[0m \u001b[0;34m=\u001b[0m \u001b[0mxverif\u001b[0m\u001b[0;34m.\u001b[0m\u001b[0msubs\u001b[0m\u001b[0;34m(\u001b[0m\u001b[0mR1\u001b[0m\u001b[0;34m,\u001b[0m\u001b[0mR1_value\u001b[0m\u001b[0;34m)\u001b[0m\u001b[0;34m\u001b[0m\u001b[0;34m\u001b[0m\u001b[0m\n\u001b[1;32m      4\u001b[0m \u001b[0mder\u001b[0m \u001b[0;34m=\u001b[0m \u001b[0;34m[\u001b[0m\u001b[0;34m]\u001b[0m\u001b[0;34m\u001b[0m\u001b[0;34m\u001b[0m\u001b[0m\n\u001b[1;32m      5\u001b[0m \u001b[0;32mfor\u001b[0m \u001b[0mi\u001b[0m \u001b[0;32min\u001b[0m \u001b[0mrange\u001b[0m\u001b[0;34m(\u001b[0m\u001b[0mlen\u001b[0m\u001b[0;34m(\u001b[0m\u001b[0mxverif\u001b[0m\u001b[0;34m)\u001b[0m\u001b[0;34m)\u001b[0m\u001b[0;34m:\u001b[0m\u001b[0;34m\u001b[0m\u001b[0;34m\u001b[0m\u001b[0m\n",
      "\u001b[0;31mNameError\u001b[0m: name 'k' is not defined"
     ]
    }
   ],
   "source": [
    "import numpy as np\n",
    "xverif = x.subs(k,sqrt(4 - R1**2))\n",
    "xverif = xverif.subs(R1,R1_value)\n",
    "der = []\n",
    "for i in range(len(xverif)):\n",
    "    der.append(diff(xverif[i],t))\n",
    "der = Matrix([[der[0]],[der[1]],[der[2]]])\n",
    "M = M.subs(R1,R1_value)\n",
    "verif = simplify(der -  M *xverif -g)\n",
    "verif = verif.subs(t,0)\n",
    "verif = verif.subs(R2,1)\n",
    "verif, (verif[0]**2 + verif[1]**2 + verif[2]**2)**0.5"
   ]
  },
  {
   "cell_type": "code",
   "execution_count": 12,
   "metadata": {},
   "outputs": [
    {
     "ename": "NameError",
     "evalue": "name 'xverif' is not defined",
     "output_type": "error",
     "traceback": [
      "\u001b[0;31m---------------------------------------------------------------------------\u001b[0m",
      "\u001b[0;31mNameError\u001b[0m                                 Traceback (most recent call last)",
      "\u001b[0;32m<ipython-input-12-f8d05aa03a47>\u001b[0m in \u001b[0;36m<module>\u001b[0;34m\u001b[0m\n\u001b[0;32m----> 1\u001b[0;31m \u001b[0mxverif\u001b[0m\u001b[0;34m[\u001b[0m\u001b[0;36m2\u001b[0m\u001b[0;34m]\u001b[0m\u001b[0;34m\u001b[0m\u001b[0;34m\u001b[0m\u001b[0m\n\u001b[0m",
      "\u001b[0;31mNameError\u001b[0m: name 'xverif' is not defined"
     ]
    }
   ],
   "source": [
    "xverif[2]"
   ]
  },
  {
   "cell_type": "code",
   "execution_count": null,
   "metadata": {},
   "outputs": [],
   "source": []
  },
  {
   "cell_type": "code",
   "execution_count": null,
   "metadata": {},
   "outputs": [],
   "source": []
  },
  {
   "cell_type": "code",
   "execution_count": 305,
   "metadata": {},
   "outputs": [
    {
     "ename": "NameError",
     "evalue": "name 'o' is not defined",
     "output_type": "error",
     "traceback": [
      "\u001b[0;31m---------------------------------------------------------------------------\u001b[0m",
      "\u001b[0;31mNameError\u001b[0m                                 Traceback (most recent call last)",
      "\u001b[0;32m<ipython-input-305-aa0a18d9cd83>\u001b[0m in \u001b[0;36m<module>\u001b[0;34m\u001b[0m\n\u001b[0;32m----> 1\u001b[0;31m \u001b[0mo\u001b[0m\u001b[0;34m\u001b[0m\u001b[0;34m\u001b[0m\u001b[0m\n\u001b[0m",
      "\u001b[0;31mNameError\u001b[0m: name 'o' is not defined"
     ]
    }
   ],
   "source": [
    "o"
   ]
  },
  {
   "cell_type": "code",
   "execution_count": null,
   "metadata": {},
   "outputs": [],
   "source": []
  },
  {
   "cell_type": "code",
   "execution_count": null,
   "metadata": {},
   "outputs": [],
   "source": []
  },
  {
   "cell_type": "code",
   "execution_count": 255,
   "metadata": {},
   "outputs": [
    {
     "data": {
      "text/plain": [
       "-1.0*R3 + 1.9*t + (-3.04243492229665*R2 - 3.04243492229665)*(-0.805*sin(0.31224989991992*t) - 0.593274809847848*cos(0.31224989991992*t))*exp(-0.95*t) + (R2 - 1.0)*(0.593274809847848*sin(0.31224989991992*t) - 0.805*cos(0.31224989991992*t))*exp(-0.95*t) - 2.61"
      ]
     },
     "execution_count": 255,
     "metadata": {},
     "output_type": "execute_result"
    }
   ],
   "source": [
    "x[0]"
   ]
  },
  {
   "cell_type": "code",
   "execution_count": 256,
   "metadata": {},
   "outputs": [
    {
     "data": {
      "text/plain": [
       "(-3.04243492229665*R2 - 3.04243492229665)*(0.95*sin(0.31224989991992*t) + 0.31224989991992*cos(0.31224989991992*t))*exp(-0.95*t) + (R2 - 1.0)*(-0.31224989991992*sin(0.31224989991992*t) + 0.95*cos(0.31224989991992*t))*exp(-0.95*t) + 1.9"
      ]
     },
     "execution_count": 256,
     "metadata": {},
     "output_type": "execute_result"
    }
   ],
   "source": [
    "x[1]"
   ]
  },
  {
   "cell_type": "code",
   "execution_count": 322,
   "metadata": {},
   "outputs": [
    {
     "data": {
      "text/plain": [
       "1.0*C2*exp(-0.05*t)*cos(0.998749217771909*t) + 1.0*C3*exp(-0.05*t)*sin(0.998749217771909*t) + 1.0"
      ]
     },
     "execution_count": 322,
     "metadata": {},
     "output_type": "execute_result"
    }
   ],
   "source": [
    "x[2]"
   ]
  },
  {
   "cell_type": "code",
   "execution_count": 321,
   "metadata": {},
   "outputs": [
    {
     "data": {
      "text/plain": [
       "0.005006261743217589"
      ]
     },
     "execution_count": 321,
     "metadata": {},
     "output_type": "execute_result"
    }
   ],
   "source": [
    "1e-2/np.sqrt(3.99)"
   ]
  },
  {
   "cell_type": "code",
   "execution_count": null,
   "metadata": {},
   "outputs": [],
   "source": []
  },
  {
   "cell_type": "code",
   "execution_count": null,
   "metadata": {},
   "outputs": [],
   "source": []
  },
  {
   "cell_type": "code",
   "execution_count": null,
   "metadata": {},
   "outputs": [],
   "source": []
  }
 ],
 "metadata": {
  "kernelspec": {
   "display_name": "Python 3",
   "language": "python",
   "name": "python3"
  },
  "language_info": {
   "codemirror_mode": {
    "name": "ipython",
    "version": 3
   },
   "file_extension": ".py",
   "mimetype": "text/x-python",
   "name": "python",
   "nbconvert_exporter": "python",
   "pygments_lexer": "ipython3",
   "version": "3.7.3"
  }
 },
 "nbformat": 4,
 "nbformat_minor": 4
}
