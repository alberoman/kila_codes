{
 "cells": [
  {
   "cell_type": "markdown",
   "metadata": {},
   "source": [
    "# Piston model with time dependent pressure and displacement\n",
    "System of three differential equations\n",
    "\\begin{equation}\n",
    "\\frac{dx}{dt} = v\n",
    "\\end{equation}\n",
    "\n",
    "\\begin{equation}\n",
    "m\\frac{dv}{dt} = mg - F_d- pS\n",
    "\\end{equation}\n",
    "\n",
    "\\begin{equation}\n",
    "\\frac{dp}{dt} = \\frac{kS}{V}v - \\frac{k \\pi a^4}{8 V\\mu l}p\n",
    "\\end{equation}\n",
    "The equations are scalded by:\n",
    "\n",
    "\\begin{equation}\n",
    "x^* = \\frac{(mg - F_d)}{kS^2}V_0\n",
    "\\end{equation}\n",
    "\n",
    "\n",
    "\\begin{equation}\n",
    "t^* = \\bigg(\\frac{mV_0}{kS^2}\\bigg) ^{1/2}\n",
    "\\end{equation}\n",
    "\n",
    "\\begin{equation}\n",
    "p^* = \\frac{(mg - F_d)}{S}\n",
    "\\end{equation}\n",
    "\n",
    "\n",
    "\\begin{equation}\n",
    "v^* = \\frac{(mg - F_d)}{S}\\bigg(\\frac{V_0}{km}\\bigg) ^{1/2}\n",
    "\\end{equation}\n",
    "\n",
    "\n",
    "\n",
    "The two governing system of equation than becomes\n",
    "\\begin{equation}\n",
    "\\frac{dx}{dt} = v\n",
    "\\end{equation}\n",
    "\n",
    "\n",
    "\\begin{equation}\n",
    "\\frac{dv}{dt} = 1 - p\n",
    "\\end{equation}\n",
    "\n",
    "\\begin{equation}\n",
    "\\frac{dp}{dt} = v - R_1 p\n",
    "\\end{equation}\n",
    "\n",
    "With $R_1$ being \n",
    "\\begin{equation}\n",
    "R_1 = \\frac{\\pi a^3}{8 \\mu l S}\\bigg(\\frac{km}{V_0}\\bigg) ^{1/2}\n",
    "\\end{equation}\n"
   ]
  },
  {
   "cell_type": "code",
   "execution_count": 167,
   "metadata": {},
   "outputs": [
    {
     "data": {
      "text/plain": [
       "[(0, 1, [Matrix([\n",
       "[1],\n",
       "[0],\n",
       "[0]])]), (-R1/2 - sqrt(R1 - 2)*sqrt(R1 + 2)/2, 1, [Matrix([\n",
       "[-(R1/2 - sqrt(R1 - 2)*sqrt(R1 + 2)/2)/(R1/2 + sqrt(R1 - 2)*sqrt(R1 + 2)/2)],\n",
       "[                                        R1/2 - sqrt(R1 - 2)*sqrt(R1 + 2)/2],\n",
       "[                                                                         1]])]), (-R1/2 + sqrt(R1 - 2)*sqrt(R1 + 2)/2, 1, [Matrix([\n",
       "[-(R1/2 + sqrt(R1 - 2)*sqrt(R1 + 2)/2)/(R1/2 - sqrt(R1 - 2)*sqrt(R1 + 2)/2)],\n",
       "[                                        R1/2 + sqrt(R1 - 2)*sqrt(R1 + 2)/2],\n",
       "[                                                                         1]])])]"
      ]
     },
     "execution_count": 167,
     "metadata": {},
     "output_type": "execute_result"
    }
   ],
   "source": [
    "from sympy import *\n",
    "#!/usr/bin/env python3\n",
    "# -*- coding: utf-8 -*-\n",
    "\"\"\"\n",
    "Created on Wed Feb 27 18:19:13 2019\n",
    "\n",
    "@author: aroman]\n",
    "\"\"\"\n",
    "from sympy import *\n",
    "R1 = symbols('R1', positive =True,real = True)\n",
    "\n",
    "M =  Matrix([[0,1,0],[0,0,-1],[0,1,-R1]])\n",
    "values = M.eigenvals()\n",
    "vectors = M.eigenvects()\n",
    "values = values.keys()\n",
    "val1 = vectors[2][0]\n",
    "vect1 = vectors[2][2] \n",
    "val2 = vectors[0][0]\n",
    "vect2 = vectors[0][2]\n",
    "vectors"
   ]
  },
  {
   "cell_type": "markdown",
   "metadata": {},
   "source": [
    "We look for periodic solutions, so we look for complex roots of the characteristic equation and set $R_1^2 - 4 < 0$ in both the eigenvector and eigen value"
   ]
  },
  {
   "cell_type": "code",
   "execution_count": 145,
   "metadata": {
    "collapsed": true
   },
   "outputs": [],
   "source": [
    "val = -R1/2 - sqrt(4 - R1**2)/2 * I\n",
    "vect = Matrix([\n",
    "   [-(R1/2 - sqrt(4 - R1**2)/2 * I)/(R1/2 + sqrt(4 - R1**2)/2 * I)],\n",
    "   [                                        R1/2 - sqrt(4 - R1**2)/2 * I],\n",
    "   [                                                                         1]])\n"
   ]
  },
  {
   "cell_type": "markdown",
   "metadata": {},
   "source": [
    "Expand the eigenvalue using the Euler relation. Then  use the substitution $k = \\sqrt(4 - R_1^2)/2 $ for both eigenvalue and eigenvector. "
   ]
  },
  {
   "cell_type": "code",
   "execution_count": 146,
   "metadata": {
    "collapsed": true
   },
   "outputs": [
    {
     "data": {
      "text/plain": [
       "Matrix([\n",
       "[(-R1/2 + I*k)*(-I*sin(k*t) + cos(k*t))*exp(-R1*t/2)/(R1/2 + I*k)],\n",
       "[              (R1/2 - I*k)*(-I*sin(k*t) + cos(k*t))*exp(-R1*t/2)],\n",
       "[                           (-I*sin(k*t) + cos(k*t))*exp(-R1*t/2)]])"
      ]
     },
     "execution_count": 146,
     "metadata": {},
     "output_type": "execute_result"
    }
   ],
   "source": [
    "k,t= symbols('k,t', real =True) \n",
    "val = exp( - R1/2) * (cos(sqrt(4 - R1**2)/2) - I*sin(sqrt(4 - R1**2)/2))\n",
    "val = val.subs(sqrt(4 - R1**2)/2,k*t)\n",
    "val = val.subs(-R1/2, -R1/2*t)\n",
    "vect = vect.subs(sqrt(4 - R1**2)/2,k)\n",
    "mult = val  * vect\n",
    "x_re = re(expand(mult))\n",
    "x_re = simplify(x_re)\n",
    "x_im = im(mult)\n",
    "x_im = simplify(x_im)\n",
    "mult"
   ]
  },
  {
   "cell_type": "markdown",
   "metadata": {},
   "source": [
    "We multiply the eigenvalue by its eigenvector"
   ]
  },
  {
   "cell_type": "code",
   "execution_count": 147,
   "metadata": {},
   "outputs": [
    {
     "data": {
      "text/plain": [
       "Matrix([\n",
       "[(-R1/2 + I*k)*(-I*sin(k*t) + cos(k*t))*exp(-R1*t/2)/(R1/2 + I*k)],\n",
       "[              (R1/2 - I*k)*(-I*sin(k*t) + cos(k*t))*exp(-R1*t/2)],\n",
       "[                           (-I*sin(k*t) + cos(k*t))*exp(-R1*t/2)]])"
      ]
     },
     "execution_count": 147,
     "metadata": {},
     "output_type": "execute_result"
    }
   ],
   "source": [
    "mult"
   ]
  },
  {
   "cell_type": "code",
   "execution_count": 148,
   "metadata": {},
   "outputs": [
    {
     "data": {
      "text/plain": [
       "Matrix([\n",
       "[(-R1**2*cos(k*t) + 4*R1*k*sin(k*t) + 4*k**2*cos(k*t))*exp(-R1*t/2)/(R1**2 + 4*k**2)],\n",
       "[                                          (R1*cos(k*t)/2 - k*sin(k*t))*exp(-R1*t/2)],\n",
       "[                                                              exp(-R1*t/2)*cos(k*t)]])"
      ]
     },
     "execution_count": 148,
     "metadata": {},
     "output_type": "execute_result"
    }
   ],
   "source": [
    "simplify(x_re)"
   ]
  },
  {
   "cell_type": "code",
   "execution_count": 149,
   "metadata": {},
   "outputs": [
    {
     "data": {
      "text/plain": [
       "Matrix([\n",
       "[(R1**2*sin(k*t) + 4*R1*k*cos(k*t) - 4*k**2*sin(k*t))*exp(-R1*t/2)/(R1**2 + 4*k**2)],\n",
       "[                                        -(R1*sin(k*t)/2 + k*cos(k*t))*exp(-R1*t/2)],\n",
       "[                                                            -exp(-R1*t/2)*sin(k*t)]])"
      ]
     },
     "execution_count": 149,
     "metadata": {},
     "output_type": "execute_result"
    }
   ],
   "source": [
    "x_im"
   ]
  },
  {
   "cell_type": "markdown",
   "metadata": {},
   "source": [
    "The solution to the homogeneous system is $\\mathbf{x_h} = c_1 Re(\\mathbf x) + c_2 Im(\\mathbf x)$ "
   ]
  },
  {
   "cell_type": "code",
   "execution_count": 150,
   "metadata": {},
   "outputs": [
    {
     "data": {
      "text/plain": [
       "Matrix([\n",
       "[c2*(R1**2*sin(k*t) + 4*R1*k*cos(k*t) - 4*k**2*sin(k*t))*exp(-R1*t/2)/(R1**2 + 4*k**2) + c3],\n",
       "[                                             -c2*(R1*sin(k*t)/2 + k*cos(k*t))*exp(-R1*t/2)],\n",
       "[                                                                 -c2*exp(-R1*t/2)*sin(k*t)]])"
      ]
     },
     "execution_count": 150,
     "metadata": {},
     "output_type": "execute_result"
    }
   ],
   "source": [
    "c1,c2,c3 = symbols('c1,c2,c3')\n",
    "xh = c2 * x_im + c3 * vect2[0]\n",
    "xh"
   ]
  },
  {
   "cell_type": "markdown",
   "metadata": {},
   "source": [
    "The particular solution of the differential equation. One solution of the homogeneous is a constant. As the term  of the non homogenous equation is also a constant we have to have to find a particular solution of the type $\\mathbf x = \\mathbf a t + \\mathbf d$. By insering this in the original equation one gets \n",
    "\\begin{equation}\n",
    "A\\mathbf a = 0\n",
    "\\end{equation}\n",
    "which leads to $a_2,a_3 = 0$. and $\\mathbf a - A \\mathbf d = \\mathbf g$. With $\\mathbf g = [0,1,0]$ "
   ]
  },
  {
   "cell_type": "code",
   "execution_count": 151,
   "metadata": {},
   "outputs": [
    {
     "data": {
      "text/plain": [
       "{a1: R1, d2: R1, d3: 1}"
      ]
     },
     "execution_count": 151,
     "metadata": {},
     "output_type": "execute_result"
    }
   ],
   "source": [
    "a1,d1,d2,d3 = symbols('a1,d1,d2,d3')\n",
    "d = Matrix([[d1],[d2],[d3]])\n",
    "a = Matrix([[a1],[0],[0]])\n",
    "g = Matrix([[0],[1],[0]])\n",
    "system =  a - M*d - g\n",
    "solution = solve((system[0],system[1],system[2]),a1,d2,d3)\n",
    "solution"
   ]
  },
  {
   "cell_type": "markdown",
   "metadata": {},
   "source": [
    "Check for the solutions"
   ]
  },
  {
   "cell_type": "code",
   "execution_count": 152,
   "metadata": {},
   "outputs": [
    {
     "data": {
      "text/plain": [
       "Matrix([\n",
       "[0],\n",
       "[0],\n",
       "[0]])"
      ]
     },
     "execution_count": 152,
     "metadata": {},
     "output_type": "execute_result"
    }
   ],
   "source": [
    "a = Matrix([[solution[a1]],[0],[0]])\n",
    "d = Matrix([[d1],[solution[d2]],[solution[d3]]])\n",
    "a - M*d - g"
   ]
  },
  {
   "cell_type": "markdown",
   "metadata": {},
   "source": [
    "Thus $\\mathbf x = \\mathbf a t + \\mathbf d$ solve the equations if "
   ]
  },
  {
   "cell_type": "markdown",
   "metadata": {},
   "source": [
    "for an arbitrary value of $d_1$. By setting $d_1 = 0$, we obtain the particular solution and we add it to the general solution. "
   ]
  },
  {
   "cell_type": "code",
   "execution_count": 153,
   "metadata": {
    "collapsed": true
   },
   "outputs": [],
   "source": [
    "d[0] = 0\n",
    "xp = a*t + d"
   ]
  },
  {
   "cell_type": "code",
   "execution_count": 154,
   "metadata": {},
   "outputs": [
    {
     "data": {
      "text/plain": [
       "Matrix([\n",
       "[R1*t + c2*(R1**2*sin(k*t) + 4*R1*k*cos(k*t) - 4*k**2*sin(k*t))*exp(-R1*t/2)/(R1**2 + 4*k**2) + c3],\n",
       "[                                                R1 - c2*(R1*sin(k*t)/2 + k*cos(k*t))*exp(-R1*t/2)],\n",
       "[                                                                    -c2*exp(-R1*t/2)*sin(k*t) + 1]])"
      ]
     },
     "execution_count": 154,
     "metadata": {},
     "output_type": "execute_result"
    }
   ],
   "source": [
    "x = xh + xp\n",
    "x"
   ]
  },
  {
   "cell_type": "markdown",
   "metadata": {},
   "source": [
    "Subject to initial conditions,\n",
    "\\begin{equation}\n",
    "x(0) = \\frac{(mg - F_s)}{S^2}\\frac{V_0}{k}-\\frac{p0}{S}\\frac{V_0}{k}\n",
    "\\end{equation}\n",
    "\n",
    "\\begin{equation}\n",
    "v(0) = 0\n",
    "\\end{equation}\n",
    "\n",
    "\\begin{equation}\n",
    "p(0) = \\frac{(mg - F_s)}{S}\n",
    "\\end{equation}\n",
    "The scaled version of the last is\n",
    "\\begin{equation}\n",
    "p(0) = R_2\n",
    "\\end{equation}\n",
    "With\n",
    "\\begin{equation}\n",
    "R_2 = \\frac{mg -F_s}{mg - F_d}\n",
    "\\end{equation}\n",
    "and \n",
    "\\begin{equation}\n",
    "x(0) = R_2 - R_3\n",
    "\\end{equation}\n",
    "With\n",
    "\\begin{equation}\n",
    "R_3 = \\frac{p_0 S}{(mg - F_d)}\n",
    "\\end{equation}\n",
    "\n"
   ]
  },
  {
   "cell_type": "code",
   "execution_count": 155,
   "metadata": {},
   "outputs": [
    {
     "data": {
      "text/plain": [
       "{c2: R1/k, c3: (-R1**2*(-R2 + R3 + 4) + 4*R2*k**2 - 4*R3*k**2)/(R1**2 + 4*k**2)}"
      ]
     },
     "execution_count": 155,
     "metadata": {},
     "output_type": "execute_result"
    }
   ],
   "source": [
    "R2,R3 = symbols('R2,R3')\n",
    "eq1 = x[0]\n",
    "eq2 = x[1]\n",
    "eq3 = x[2]\n",
    "eq1 = eq1.subs(t,0)\n",
    "eq2 = eq2.subs(t,0)\n",
    "eq3 = eq3.subs(t,0)\n",
    "eq1 = eq1 - R2 + R3\n",
    "eq3 = eq3 - R2\n",
    "constant = solve((eq1,eq2,eq3),c1,c2,c3)\n",
    "constant"
   ]
  },
  {
   "cell_type": "code",
   "execution_count": 156,
   "metadata": {
    "collapsed": true
   },
   "outputs": [
    {
     "data": {
      "text/plain": [
       "-R1*exp(-R1*t/2)*sin(k*t)/k + 1"
      ]
     },
     "execution_count": 156,
     "metadata": {},
     "output_type": "execute_result"
    }
   ],
   "source": [
    "init_printing(pretty_print=False)\n",
    "\n",
    "for c in constant.keys():\n",
    "    x = x.subs(c, constant[c])\n",
    "\n",
    "x[1]\n",
    "x[2]"
   ]
  },
  {
   "cell_type": "code",
   "execution_count": 157,
   "metadata": {},
   "outputs": [
    {
     "data": {
      "text/plain": [
       "c2*(R1**2 + 4*k**2 + 4)*exp(-R1*t/2)*sin(k*t)/4"
      ]
     },
     "execution_count": 157,
     "metadata": {},
     "output_type": "execute_result"
    }
   ],
   "source": [
    "x = xh \n",
    "verif_vel = diff(x[1],t) - x[2]\n",
    "verif_press = diff(x[2],t) - x[1] + R1*x[2] \n",
    "simplify(verif_press)\n",
    "simplify(verif_vel)\n"
   ]
  },
  {
   "cell_type": "code",
   "execution_count": 158,
   "metadata": {},
   "outputs": [
    {
     "data": {
      "text/plain": [
       "Matrix([\n",
       "[                                              0],\n",
       "[c2*(R1**2 + 4*k**2 - 4)*exp(-R1*t/2)*sin(k*t)/4],\n",
       "[                                              0]])"
      ]
     },
     "execution_count": 158,
     "metadata": {},
     "output_type": "execute_result"
    }
   ],
   "source": [
    "der = []\n",
    "for i in range(len(x)):\n",
    "    der.append(diff(x[i],t))\n",
    "der = Matrix([[der[0]],[der[1]],[der[2]]])\n",
    "simplify(der -  M *x)"
   ]
  },
  {
   "cell_type": "code",
   "execution_count": 159,
   "metadata": {},
   "outputs": [
    {
     "data": {
      "text/plain": [
       "Matrix([\n",
       "[0, 1,   0],\n",
       "[0, 0,  -1],\n",
       "[0, 1, -R1]])"
      ]
     },
     "execution_count": 159,
     "metadata": {},
     "output_type": "execute_result"
    }
   ],
   "source": [
    "M"
   ]
  },
  {
   "cell_type": "code",
   "execution_count": 160,
   "metadata": {},
   "outputs": [
    {
     "data": {
      "text/plain": [
       "Matrix([\n",
       "[-R1*c2*(R1**2*sin(k*t) + 4*R1*k*cos(k*t) - 4*k**2*sin(k*t))*exp(-R1*t/2)/(2*(R1**2 + 4*k**2)) + c2*(R1**2*k*cos(k*t) - 4*R1*k**2*sin(k*t) - 4*k**3*cos(k*t))*exp(-R1*t/2)/(R1**2 + 4*k**2)],\n",
       "[                                                                                     R1*c2*(R1*sin(k*t)/2 + k*cos(k*t))*exp(-R1*t/2)/2 - c2*(R1*k*cos(k*t)/2 - k**2*sin(k*t))*exp(-R1*t/2)],\n",
       "[                                                                                                                                R1*c2*exp(-R1*t/2)*sin(k*t)/2 - c2*k*exp(-R1*t/2)*cos(k*t)]])"
      ]
     },
     "execution_count": 160,
     "metadata": {},
     "output_type": "execute_result"
    }
   ],
   "source": [
    "der"
   ]
  },
  {
   "cell_type": "code",
   "execution_count": 163,
   "metadata": {},
   "outputs": [
    {
     "data": {
      "text/plain": [
       "Matrix([\n",
       "[-R1*c2*omega*(R1**2*sin(k*t) + 4*R1*k*cos(k*t) - 4*k**2*sin(k*t))/(2*(R1**2 + 4*k**2)) + c2*omega*(R1**2*k*cos(k*t) - 4*R1*k**2*sin(k*t) - 4*k**3*cos(k*t))/(R1**2 + 4*k**2)],\n",
       "[                                                                                     R1*c2*omega*(R1*sin(k*t)/2 + k*cos(k*t))/2 - c2*omega*(R1*k*cos(k*t)/2 - k**2*sin(k*t))],\n",
       "[                                                                                                                                R1*c2*omega*sin(k*t)/2 - c2*k*omega*cos(k*t)]])"
      ]
     },
     "execution_count": 163,
     "metadata": {},
     "output_type": "execute_result"
    }
   ],
   "source": [
    "omega = symbols('omega')\n",
    "der.subs(exp(-R1*t/2),omega)"
   ]
  },
  {
   "cell_type": "code",
   "execution_count": null,
   "metadata": {},
   "outputs": [],
   "source": []
  },
  {
   "cell_type": "code",
   "execution_count": null,
   "metadata": {},
   "outputs": [],
   "source": []
  }
 ],
 "metadata": {
  "kernelspec": {
   "display_name": "Python 3",
   "language": "python",
   "name": "python3"
  },
  "language_info": {
   "codemirror_mode": {
    "name": "ipython",
    "version": 3
   },
   "file_extension": ".py",
   "mimetype": "text/x-python",
   "name": "python",
   "nbconvert_exporter": "python",
   "pygments_lexer": "ipython3",
   "version": "3.6.8"
  }
 },
 "nbformat": 4,
 "nbformat_minor": 2
}
