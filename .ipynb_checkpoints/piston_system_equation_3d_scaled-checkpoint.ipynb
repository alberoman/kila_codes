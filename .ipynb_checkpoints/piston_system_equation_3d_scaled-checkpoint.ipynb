{
 "cells": [
  {
   "cell_type": "markdown",
   "metadata": {},
   "source": [
    "# Piston model with time dependent pressure and displacement\n",
    "System of three differential equations\n",
    "\\begin{equation}\n",
    "\\frac{dx}{dt} = v\n",
    "\\end{equation}\n",
    "\n",
    "\\begin{equation}\n",
    "m\\frac{dv}{dt} = mg - F_d- pS\n",
    "\\end{equation}\n",
    "\n",
    "\\begin{equation}\n",
    "\\frac{dp}{dt} = \\frac{kS}{V}v - \\frac{k \\pi a^4}{8 V\\mu l}p\n",
    "\\end{equation}\n",
    "The equations are scalded by:\n",
    "\n",
    "\\begin{equation}\n",
    "x^* = \\frac{(mg - F_d)}{kS^2}V_0\n",
    "\\end{equation}\n",
    "\n",
    "\n",
    "\\begin{equation}\n",
    "t^* = \\bigg(\\frac{mV_0}{kS^2}\\bigg) ^{1/2}\n",
    "\\end{equation}\n",
    "\n",
    "\\begin{equation}\n",
    "p^* = \\frac{(mg - F_d)}{S}\n",
    "\\end{equation}\n",
    "\n",
    "\n",
    "\\begin{equation}\n",
    "v^* = \\frac{(mg - F_d)}{S}\\bigg(\\frac{V_0}{km}\\bigg) ^{1/2}\n",
    "\\end{equation}\n",
    "\n",
    "\n",
    "\n",
    "The two governing system of equation than becomes\n",
    "\\begin{equation}\n",
    "\\frac{dx}{dt} = v\n",
    "\\end{equation}\n",
    "\n",
    "\n",
    "\\begin{equation}\n",
    "\\frac{dv}{dt} = 1 - p\n",
    "\\end{equation}\n",
    "\n",
    "\\begin{equation}\n",
    "\\frac{dp}{dt} = v - R_1 p\n",
    "\\end{equation}\n",
    "\n",
    "With $R_1$ being \n",
    "\\begin{equation}\n",
    "R_1 = \\frac{\\pi a^3}{8 \\mu l S}\\bigg(\\frac{km}{V_0}\\bigg) ^{1/2}\n",
    "\\end{equation}\n"
   ]
  },
  {
   "cell_type": "code",
   "execution_count": 102,
   "metadata": {},
   "outputs": [
    {
     "data": {
      "text/latex": [
       "$$\\left [ \\left ( 0, \\quad 1, \\quad \\left [ \\left[\\begin{matrix}1\\\\0\\\\0\\end{matrix}\\right]\\right ]\\right ), \\quad \\left ( - \\frac{R_{1}}{2} - \\frac{\\sqrt{R_{1} - 2} \\sqrt{R_{1} + 2}}{2}, \\quad 1, \\quad \\left [ \\left[\\begin{matrix}- \\frac{\\frac{R_{1}}{2} - \\frac{\\sqrt{R_{1} - 2} \\sqrt{R_{1} + 2}}{2}}{\\frac{R_{1}}{2} + \\frac{\\sqrt{R_{1} - 2} \\sqrt{R_{1} + 2}}{2}}\\\\\\frac{R_{1}}{2} - \\frac{\\sqrt{R_{1} - 2} \\sqrt{R_{1} + 2}}{2}\\\\1\\end{matrix}\\right]\\right ]\\right ), \\quad \\left ( - \\frac{R_{1}}{2} + \\frac{\\sqrt{R_{1} - 2} \\sqrt{R_{1} + 2}}{2}, \\quad 1, \\quad \\left [ \\left[\\begin{matrix}- \\frac{\\frac{R_{1}}{2} + \\frac{\\sqrt{R_{1} - 2} \\sqrt{R_{1} + 2}}{2}}{\\frac{R_{1}}{2} - \\frac{\\sqrt{R_{1} - 2} \\sqrt{R_{1} + 2}}{2}}\\\\\\frac{R_{1}}{2} + \\frac{\\sqrt{R_{1} - 2} \\sqrt{R_{1} + 2}}{2}\\\\1\\end{matrix}\\right]\\right ]\\right )\\right ]$$"
      ],
      "text/plain": [
       "⎡               ⎛                                 ⎡⎡ ⎛       ________   ______\n",
       "⎢               ⎜                                 ⎢⎢ ⎜R₁   ╲╱ R₁ - 2 ⋅╲╱ R₁ + \n",
       "⎢               ⎜                                 ⎢⎢-⎜── - ───────────────────\n",
       "⎢               ⎜                                 ⎢⎢ ⎝2              2        \n",
       "⎢               ⎜                                 ⎢⎢──────────────────────────\n",
       "⎢               ⎜                                 ⎢⎢         ________   ______\n",
       "⎢⎛      ⎡⎡1⎤⎤⎞  ⎜         ________   ________     ⎢⎢  R₁   ╲╱ R₁ - 2 ⋅╲╱ R₁ + \n",
       "⎢⎜      ⎢⎢ ⎥⎥⎟  ⎜  R₁   ╲╱ R₁ - 2 ⋅╲╱ R₁ + 2      ⎢⎢  ── + ───────────────────\n",
       "⎢⎜0, 1, ⎢⎢0⎥⎥⎟, ⎜- ── - ─────────────────────, 1, ⎢⎢  2              2        \n",
       "⎢⎜      ⎢⎢ ⎥⎥⎟  ⎜  2              2               ⎢⎢                          \n",
       "⎢⎝      ⎣⎣0⎦⎦⎠  ⎜                                 ⎢⎢         ________   ______\n",
       "⎢               ⎜                                 ⎢⎢  R₁   ╲╱ R₁ - 2 ⋅╲╱ R₁ + \n",
       "⎢               ⎜                                 ⎢⎢  ── - ───────────────────\n",
       "⎢               ⎜                                 ⎢⎢  2              2        \n",
       "⎢               ⎜                                 ⎢⎢                          \n",
       "⎣               ⎝                                 ⎣⎣              1           \n",
       "\n",
       "__⎞ ⎤⎤⎞  ⎛                                 ⎡⎡ ⎛       ________   ________⎞ ⎤⎤⎞\n",
       "2 ⎟ ⎥⎥⎟  ⎜                                 ⎢⎢ ⎜R₁   ╲╱ R₁ - 2 ⋅╲╱ R₁ + 2 ⎟ ⎥⎥⎟\n",
       "──⎟ ⎥⎥⎟  ⎜                                 ⎢⎢-⎜── + ─────────────────────⎟ ⎥⎥⎟\n",
       "  ⎠ ⎥⎥⎟  ⎜                                 ⎢⎢ ⎝2              2          ⎠ ⎥⎥⎟\n",
       "────⎥⎥⎟  ⎜                                 ⎢⎢──────────────────────────────⎥⎥⎟\n",
       "__  ⎥⎥⎟  ⎜                                 ⎢⎢         ________   ________  ⎥⎥⎟\n",
       "2   ⎥⎥⎟  ⎜         ________   ________     ⎢⎢  R₁   ╲╱ R₁ - 2 ⋅╲╱ R₁ + 2   ⎥⎥⎟\n",
       "──  ⎥⎥⎟  ⎜  R₁   ╲╱ R₁ - 2 ⋅╲╱ R₁ + 2      ⎢⎢  ── - ─────────────────────  ⎥⎥⎟\n",
       "    ⎥⎥⎟, ⎜- ── + ─────────────────────, 1, ⎢⎢  2              2            ⎥⎥⎟\n",
       "    ⎥⎥⎟  ⎜  2              2               ⎢⎢                              ⎥⎥⎟\n",
       "__  ⎥⎥⎟  ⎜                                 ⎢⎢         ________   ________  ⎥⎥⎟\n",
       "2   ⎥⎥⎟  ⎜                                 ⎢⎢  R₁   ╲╱ R₁ - 2 ⋅╲╱ R₁ + 2   ⎥⎥⎟\n",
       "──  ⎥⎥⎟  ⎜                                 ⎢⎢  ── + ─────────────────────  ⎥⎥⎟\n",
       "    ⎥⎥⎟  ⎜                                 ⎢⎢  2              2            ⎥⎥⎟\n",
       "    ⎥⎥⎟  ⎜                                 ⎢⎢                              ⎥⎥⎟\n",
       "    ⎦⎦⎠  ⎝                                 ⎣⎣              1               ⎦⎦⎠\n",
       "\n",
       "⎤\n",
       "⎥\n",
       "⎥\n",
       "⎥\n",
       "⎥\n",
       "⎥\n",
       "⎥\n",
       "⎥\n",
       "⎥\n",
       "⎥\n",
       "⎥\n",
       "⎥\n",
       "⎥\n",
       "⎥\n",
       "⎥\n",
       "⎦"
      ]
     },
     "execution_count": 102,
     "metadata": {},
     "output_type": "execute_result"
    }
   ],
   "source": [
    "from sympy import *\n",
    "#!/usr/bin/env python3\n",
    "# -*- coding: utf-8 -*-\n",
    "\"\"\"\n",
    "Created on Wed Feb 27 18:19:13 2019\n",
    "\n",
    "@author: aroman]\n",
    "\"\"\"\n",
    "from sympy import *\n",
    "R1 = symbols('R1', positive =True,real = True)\n",
    "\n",
    "M =  Matrix([[0,1,0],[0,0,-1],[0,1,-R1]])\n",
    "values = M.eigenvals()\n",
    "vectors = M.eigenvects()\n",
    "values = values.keys()\n",
    "val1 = vectors[2][0]\n",
    "vect1 = vectors[2][2] \n",
    "val2 = vectors[0][0]\n",
    "vect2 = vectors[0][2]\n",
    "vectors"
   ]
  },
  {
   "cell_type": "markdown",
   "metadata": {},
   "source": [
    "We look for periodic solutions, so we look for complex roots of the characteristic equation and set $R_1^2 - 4 < 0$ in both the eigenvector and eigen value"
   ]
  },
  {
   "cell_type": "code",
   "execution_count": 103,
   "metadata": {
    "collapsed": true
   },
   "outputs": [],
   "source": [
    "val = -R1/2 - sqrt(4 - R1**2)/2 * I\n",
    "vect = Matrix([\n",
    "   [-(R1/2 - sqrt(4 - R1**2)/2 * I)/(R1/2 + sqrt(4 - R1**2)/2 * I)],\n",
    "   [                                        R1/2 - sqrt(4 - R1**2)/2 * I],\n",
    "   [                                                                         1]])\n"
   ]
  },
  {
   "cell_type": "markdown",
   "metadata": {},
   "source": [
    "Expand the eigenvalue using the Euler relation. Then  use the substitution $k = \\sqrt(4 - R_1^2)/2 $ for both eigenvalue and eigenvector. "
   ]
  },
  {
   "cell_type": "code",
   "execution_count": 104,
   "metadata": {
    "collapsed": true
   },
   "outputs": [],
   "source": [
    "k,t= symbols('k,t', real =True) \n",
    "val = exp( - R1/2) * (cos(sqrt(4 - R1**2)/2) + I*sin(sqrt(4 - R1**2)/2))\n",
    "val = val.subs(sqrt(4 - R1**2)/2,k*t)\n",
    "val = val.subs(-R1/2, -R1/2*t)\n",
    "vect = vect.subs(sqrt(4 - R1**2)/2,k)\n",
    "mult = val  * vect\n",
    "x_re = re(expand(mult))\n",
    "x_re = simplify(x_re)\n",
    "x_im = im(mult)\n",
    "x_im = simplify(x_im)"
   ]
  },
  {
   "cell_type": "markdown",
   "metadata": {},
   "source": [
    "We multiply the eigenvalue by its eigenvector"
   ]
  },
  {
   "cell_type": "code",
   "execution_count": 105,
   "metadata": {},
   "outputs": [
    {
     "data": {
      "text/latex": [
       "$$\\left[\\begin{matrix}\\frac{\\left(- \\frac{R_{1}}{2} + i k\\right) \\left(i \\sin{\\left (k t \\right )} + \\cos{\\left (k t \\right )}\\right) e^{- \\frac{R_{1} t}{2}}}{\\frac{R_{1}}{2} + i k}\\\\\\left(\\frac{R_{1}}{2} - i k\\right) \\left(i \\sin{\\left (k t \\right )} + \\cos{\\left (k t \\right )}\\right) e^{- \\frac{R_{1} t}{2}}\\\\\\left(i \\sin{\\left (k t \\right )} + \\cos{\\left (k t \\right )}\\right) e^{- \\frac{R_{1} t}{2}}\\end{matrix}\\right]$$"
      ],
      "text/plain": [
       "⎡                                      -R₁⋅t ⎤\n",
       "⎢                                      ──────⎥\n",
       "⎢⎛  R₁      ⎞                            2   ⎥\n",
       "⎢⎜- ── + ⅈ⋅k⎟⋅(ⅈ⋅sin(k⋅t) + cos(k⋅t))⋅ℯ      ⎥\n",
       "⎢⎝  2       ⎠                                ⎥\n",
       "⎢────────────────────────────────────────────⎥\n",
       "⎢                  R₁                        ⎥\n",
       "⎢                  ── + ⅈ⋅k                  ⎥\n",
       "⎢                  2                         ⎥\n",
       "⎢                                            ⎥\n",
       "⎢                                     -R₁⋅t  ⎥\n",
       "⎢                                     ────── ⎥\n",
       "⎢ ⎛R₁      ⎞                            2    ⎥\n",
       "⎢ ⎜── - ⅈ⋅k⎟⋅(ⅈ⋅sin(k⋅t) + cos(k⋅t))⋅ℯ       ⎥\n",
       "⎢ ⎝2       ⎠                                 ⎥\n",
       "⎢                                            ⎥\n",
       "⎢                               -R₁⋅t        ⎥\n",
       "⎢                               ──────       ⎥\n",
       "⎢                                 2          ⎥\n",
       "⎣      (ⅈ⋅sin(k⋅t) + cos(k⋅t))⋅ℯ             ⎦"
      ]
     },
     "execution_count": 105,
     "metadata": {},
     "output_type": "execute_result"
    }
   ],
   "source": [
    "mult"
   ]
  },
  {
   "cell_type": "code",
   "execution_count": 106,
   "metadata": {},
   "outputs": [
    {
     "data": {
      "text/latex": [
       "$$\\left[\\begin{matrix}\\frac{\\left(- R_{1}^{2} \\cos{\\left (k t \\right )} - 4 R_{1} k \\sin{\\left (k t \\right )} + 4 k^{2} \\cos{\\left (k t \\right )}\\right) e^{- \\frac{R_{1} t}{2}}}{R_{1}^{2} + 4 k^{2}}\\\\\\left(\\frac{R_{1} \\cos{\\left (k t \\right )}}{2} + k \\sin{\\left (k t \\right )}\\right) e^{- \\frac{R_{1} t}{2}}\\\\e^{- \\frac{R_{1} t}{2}} \\cos{\\left (k t \\right )}\\end{matrix}\\right]$$"
      ],
      "text/plain": [
       "⎡                                                    -R₁⋅t ⎤\n",
       "⎢                                                    ──────⎥\n",
       "⎢⎛    2                                 2         ⎞    2   ⎥\n",
       "⎢⎝- R₁ ⋅cos(k⋅t) - 4⋅R₁⋅k⋅sin(k⋅t) + 4⋅k ⋅cos(k⋅t)⎠⋅ℯ      ⎥\n",
       "⎢──────────────────────────────────────────────────────────⎥\n",
       "⎢                          2      2                        ⎥\n",
       "⎢                        R₁  + 4⋅k                         ⎥\n",
       "⎢                                                          ⎥\n",
       "⎢                                        -R₁⋅t             ⎥\n",
       "⎢                                        ──────            ⎥\n",
       "⎢            ⎛R₁⋅cos(k⋅t)             ⎞    2               ⎥\n",
       "⎢            ⎜─────────── + k⋅sin(k⋅t)⎟⋅ℯ                  ⎥\n",
       "⎢            ⎝     2                  ⎠                    ⎥\n",
       "⎢                                                          ⎥\n",
       "⎢                      -R₁⋅t                               ⎥\n",
       "⎢                      ──────                              ⎥\n",
       "⎢                        2                                 ⎥\n",
       "⎣                     ℯ      ⋅cos(k⋅t)                     ⎦"
      ]
     },
     "execution_count": 106,
     "metadata": {},
     "output_type": "execute_result"
    }
   ],
   "source": [
    "simplify(x_re)"
   ]
  },
  {
   "cell_type": "code",
   "execution_count": 107,
   "metadata": {},
   "outputs": [
    {
     "data": {
      "text/latex": [
       "$$\\left[\\begin{matrix}\\frac{\\left(- R_{1}^{2} \\sin{\\left (k t \\right )} + 4 R_{1} k \\cos{\\left (k t \\right )} + 4 k^{2} \\sin{\\left (k t \\right )}\\right) e^{- \\frac{R_{1} t}{2}}}{R_{1}^{2} + 4 k^{2}}\\\\\\left(\\frac{R_{1} \\sin{\\left (k t \\right )}}{2} - k \\cos{\\left (k t \\right )}\\right) e^{- \\frac{R_{1} t}{2}}\\\\e^{- \\frac{R_{1} t}{2}} \\sin{\\left (k t \\right )}\\end{matrix}\\right]$$"
      ],
      "text/plain": [
       "⎡                                                    -R₁⋅t ⎤\n",
       "⎢                                                    ──────⎥\n",
       "⎢⎛    2                                 2         ⎞    2   ⎥\n",
       "⎢⎝- R₁ ⋅sin(k⋅t) + 4⋅R₁⋅k⋅cos(k⋅t) + 4⋅k ⋅sin(k⋅t)⎠⋅ℯ      ⎥\n",
       "⎢──────────────────────────────────────────────────────────⎥\n",
       "⎢                          2      2                        ⎥\n",
       "⎢                        R₁  + 4⋅k                         ⎥\n",
       "⎢                                                          ⎥\n",
       "⎢                                        -R₁⋅t             ⎥\n",
       "⎢                                        ──────            ⎥\n",
       "⎢            ⎛R₁⋅sin(k⋅t)             ⎞    2               ⎥\n",
       "⎢            ⎜─────────── - k⋅cos(k⋅t)⎟⋅ℯ                  ⎥\n",
       "⎢            ⎝     2                  ⎠                    ⎥\n",
       "⎢                                                          ⎥\n",
       "⎢                      -R₁⋅t                               ⎥\n",
       "⎢                      ──────                              ⎥\n",
       "⎢                        2                                 ⎥\n",
       "⎣                     ℯ      ⋅sin(k⋅t)                     ⎦"
      ]
     },
     "execution_count": 107,
     "metadata": {},
     "output_type": "execute_result"
    }
   ],
   "source": [
    "x_im"
   ]
  },
  {
   "cell_type": "markdown",
   "metadata": {},
   "source": [
    "The solution to the homogeneous system is $\\mathbf{x_h} = c_1 Re(\\mathbf x) + c_2 Im(\\mathbf x)$ "
   ]
  },
  {
   "cell_type": "code",
   "execution_count": 108,
   "metadata": {},
   "outputs": [
    {
     "data": {
      "text/latex": [
       "$$\\left[\\begin{matrix}\\frac{c_{1} \\left(- R_{1}^{2} \\cos{\\left (k t \\right )} - 4 R_{1} k \\sin{\\left (k t \\right )} + 4 k^{2} \\cos{\\left (k t \\right )}\\right) e^{- \\frac{R_{1} t}{2}}}{R_{1}^{2} + 4 k^{2}} + \\frac{c_{2} \\left(- R_{1}^{2} \\sin{\\left (k t \\right )} + 4 R_{1} k \\cos{\\left (k t \\right )} + 4 k^{2} \\sin{\\left (k t \\right )}\\right) e^{- \\frac{R_{1} t}{2}}}{R_{1}^{2} + 4 k^{2}} + c_{3}\\\\c_{1} \\left(\\frac{R_{1} \\cos{\\left (k t \\right )}}{2} + k \\sin{\\left (k t \\right )}\\right) e^{- \\frac{R_{1} t}{2}} + c_{2} \\left(\\frac{R_{1} \\sin{\\left (k t \\right )}}{2} - k \\cos{\\left (k t \\right )}\\right) e^{- \\frac{R_{1} t}{2}}\\\\c_{1} e^{- \\frac{R_{1} t}{2}} \\cos{\\left (k t \\right )} + c_{2} e^{- \\frac{R_{1} t}{2}} \\sin{\\left (k t \\right )}\\end{matrix}\\right]$$"
      ],
      "text/plain": [
       "⎡                                                       -R₁⋅t                 \n",
       "⎢                                                       ──────                \n",
       "⎢   ⎛    2                                 2         ⎞    2         ⎛    2    \n",
       "⎢c₁⋅⎝- R₁ ⋅cos(k⋅t) - 4⋅R₁⋅k⋅sin(k⋅t) + 4⋅k ⋅cos(k⋅t)⎠⋅ℯ         c₂⋅⎝- R₁ ⋅sin\n",
       "⎢───────────────────────────────────────────────────────────── + ─────────────\n",
       "⎢                            2      2                                         \n",
       "⎢                          R₁  + 4⋅k                                          \n",
       "⎢                                                                             \n",
       "⎢                                                         -R₁⋅t               \n",
       "⎢                                                         ──────              \n",
       "⎢                             ⎛R₁⋅cos(k⋅t)             ⎞    2         ⎛R₁⋅sin(\n",
       "⎢                          c₁⋅⎜─────────── + k⋅sin(k⋅t)⎟⋅ℯ       + c₂⋅⎜───────\n",
       "⎢                             ⎝     2                  ⎠              ⎝     2 \n",
       "⎢                                                                             \n",
       "⎢                                                -R₁⋅t                 -R₁⋅t  \n",
       "⎢                                                ──────                ────── \n",
       "⎢                                                  2                     2    \n",
       "⎣                                            c₁⋅ℯ      ⋅cos(k⋅t) + c₂⋅ℯ      ⋅\n",
       "\n",
       "                                          -R₁⋅t      ⎤\n",
       "                                          ──────     ⎥\n",
       "                             2         ⎞    2        ⎥\n",
       "(k⋅t) + 4⋅R₁⋅k⋅cos(k⋅t) + 4⋅k ⋅sin(k⋅t)⎠⋅ℯ           ⎥\n",
       "──────────────────────────────────────────────── + c₃⎥\n",
       "               2      2                              ⎥\n",
       "             R₁  + 4⋅k                               ⎥\n",
       "                                                     ⎥\n",
       "                    -R₁⋅t                            ⎥\n",
       "                    ──────                           ⎥\n",
       "k⋅t)             ⎞    2                              ⎥\n",
       "──── - k⋅cos(k⋅t)⎟⋅ℯ                                 ⎥\n",
       "                 ⎠                                   ⎥\n",
       "                                                     ⎥\n",
       "                                                     ⎥\n",
       "                                                     ⎥\n",
       "                                                     ⎥\n",
       "sin(k⋅t)                                             ⎦"
      ]
     },
     "execution_count": 108,
     "metadata": {},
     "output_type": "execute_result"
    }
   ],
   "source": [
    "c1,c2,c3 = symbols('c1,c2,c3')\n",
    "xh = c1 * x_re + c2 * x_im + c3 * vect2[0]\n",
    "xh"
   ]
  },
  {
   "cell_type": "markdown",
   "metadata": {},
   "source": [
    "The particular solution of the differential equation. One solution of the homogeneous is a constant. As the term  of the non homogenous equation is also a constant we have to have to find a particular solution of the type $\\mathbf x = \\mathbf a t + \\mathbf d$. By insering this in the original equation one gets \n",
    "\\begin{equation}\n",
    "A\\mathbf a = 0\n",
    "\\end{equation}\n",
    "which leads to $a_2,a_3 = 0$. and $\\mathbf a - A \\mathbf d = \\mathbf g$. With $\\mathbf g = [0,1,0]$ "
   ]
  },
  {
   "cell_type": "code",
   "execution_count": 120,
   "metadata": {},
   "outputs": [
    {
     "data": {
      "image/png": "[encoded data removed]",
      "text/latex": [
       "$$\\left \\{ a_{1} : R_{1}, \\quad d_{2} : R_{1}, \\quad d_{3} : 1\\right \\}$$"
      ],
      "text/plain": [
       "{a₁: R₁, d₂: R₁, d₃: 1}"
      ]
     },
     "execution_count": 120,
     "metadata": {},
     "output_type": "execute_result"
    }
   ],
   "source": [
    "a1,d1,d2,d3 = symbols('a1,d1,d2,d3')\n",
    "d = Matrix([[d1],[d2],[d3]])\n",
    "a = Matrix([[a1],[0],[0]])\n",
    "g = Matrix([[0],[1],[0]])\n",
    "system =  a - M*d - g\n",
    "solution = solve((system[0],system[1],system[2]),a1,d2,d3)\n",
    "solution"
   ]
  },
  {
   "cell_type": "markdown",
   "metadata": {},
   "source": [
    "Check for the solutions"
   ]
  },
  {
   "cell_type": "code",
   "execution_count": 121,
   "metadata": {},
   "outputs": [
    {
     "data": {
      "text/latex": [
       "$$\\left ( \\left[\\begin{matrix}0\\\\0\\\\0\\end{matrix}\\right], \\quad \\left[\\begin{matrix}R_{1}\\\\0\\\\0\\end{matrix}\\right], \\quad \\left[\\begin{matrix}d_{1}\\\\R_{1}\\\\1\\end{matrix}\\right]\\right )$$"
      ],
      "text/plain": [
       "⎛⎡0⎤  ⎡R₁⎤  ⎡d₁⎤⎞\n",
       "⎜⎢ ⎥  ⎢  ⎥  ⎢  ⎥⎟\n",
       "⎜⎢0⎥, ⎢0 ⎥, ⎢R₁⎥⎟\n",
       "⎜⎢ ⎥  ⎢  ⎥  ⎢  ⎥⎟\n",
       "⎝⎣0⎦  ⎣0 ⎦  ⎣1 ⎦⎠"
      ]
     },
     "execution_count": 121,
     "metadata": {},
     "output_type": "execute_result"
    }
   ],
   "source": [
    "a = Matrix([[solution[a1]],[0],[0]])\n",
    "d = Matrix([[d1],[solution[d2]],[solution[d3]]])\n",
    "a - A*a - A*d - g,a,d"
   ]
  },
  {
   "cell_type": "markdown",
   "metadata": {},
   "source": [
    "Thus $\\mathbf x = \\mathbf a t + \\mathbf d$ solve the equations if "
   ]
  },
  {
   "cell_type": "markdown",
   "metadata": {},
   "source": [
    "for an arbitrary value of $d_1$. By setting $d_1 = 0$, we obtain the particular solution and we add it to the general solution. "
   ]
  },
  {
   "cell_type": "code",
   "execution_count": 122,
   "metadata": {
    "collapsed": true
   },
   "outputs": [],
   "source": [
    "d[0] = 0\n",
    "xp = a*t + d"
   ]
  },
  {
   "cell_type": "code",
   "execution_count": 123,
   "metadata": {},
   "outputs": [
    {
     "data": {
      "text/latex": [
       "$$\\left[\\begin{matrix}R_{1} t + \\frac{c_{1} \\left(- R_{1}^{2} \\cos{\\left (k t \\right )} - 4 R_{1} k \\sin{\\left (k t \\right )} + 4 k^{2} \\cos{\\left (k t \\right )}\\right) e^{- \\frac{R_{1} t}{2}}}{R_{1}^{2} + 4 k^{2}} + \\frac{c_{2} \\left(- R_{1}^{2} \\sin{\\left (k t \\right )} + 4 R_{1} k \\cos{\\left (k t \\right )} + 4 k^{2} \\sin{\\left (k t \\right )}\\right) e^{- \\frac{R_{1} t}{2}}}{R_{1}^{2} + 4 k^{2}} + c_{3}\\\\R_{1} + c_{1} \\left(\\frac{R_{1} \\cos{\\left (k t \\right )}}{2} + k \\sin{\\left (k t \\right )}\\right) e^{- \\frac{R_{1} t}{2}} + c_{2} \\left(\\frac{R_{1} \\sin{\\left (k t \\right )}}{2} - k \\cos{\\left (k t \\right )}\\right) e^{- \\frac{R_{1} t}{2}}\\\\c_{1} e^{- \\frac{R_{1} t}{2}} \\cos{\\left (k t \\right )} + c_{2} e^{- \\frac{R_{1} t}{2}} \\sin{\\left (k t \\right )} + 1\\end{matrix}\\right]$$"
      ],
      "text/plain": [
       "⎡                                                              -R₁⋅t          \n",
       "⎢                                                              ──────         \n",
       "⎢          ⎛    2                                 2         ⎞    2         ⎛  \n",
       "⎢       c₁⋅⎝- R₁ ⋅cos(k⋅t) - 4⋅R₁⋅k⋅sin(k⋅t) + 4⋅k ⋅cos(k⋅t)⎠⋅ℯ         c₂⋅⎝- \n",
       "⎢R₁⋅t + ───────────────────────────────────────────────────────────── + ──────\n",
       "⎢                                   2      2                                  \n",
       "⎢                                 R₁  + 4⋅k                                   \n",
       "⎢                                                                             \n",
       "⎢                                                               -R₁⋅t         \n",
       "⎢                                                               ──────        \n",
       "⎢                                   ⎛R₁⋅cos(k⋅t)             ⎞    2         ⎛R\n",
       "⎢                           R₁ + c₁⋅⎜─────────── + k⋅sin(k⋅t)⎟⋅ℯ       + c₂⋅⎜─\n",
       "⎢                                   ⎝     2                  ⎠              ⎝ \n",
       "⎢                                                                             \n",
       "⎢                                                  -R₁⋅t                 -R₁⋅t\n",
       "⎢                                                  ──────                ─────\n",
       "⎢                                                    2                     2  \n",
       "⎣                                              c₁⋅ℯ      ⋅cos(k⋅t) + c₂⋅ℯ     \n",
       "\n",
       "                                                 -R₁⋅t      ⎤\n",
       "                                                 ──────     ⎥\n",
       "  2                                 2         ⎞    2        ⎥\n",
       "R₁ ⋅sin(k⋅t) + 4⋅R₁⋅k⋅cos(k⋅t) + 4⋅k ⋅sin(k⋅t)⎠⋅ℯ           ⎥\n",
       "─────────────────────────────────────────────────────── + c₃⎥\n",
       "                      2      2                              ⎥\n",
       "                    R₁  + 4⋅k                               ⎥\n",
       "                                                            ⎥\n",
       "                          -R₁⋅t                             ⎥\n",
       "                          ──────                            ⎥\n",
       "₁⋅sin(k⋅t)             ⎞    2                               ⎥\n",
       "────────── - k⋅cos(k⋅t)⎟⋅ℯ                                  ⎥\n",
       "    2                  ⎠                                    ⎥\n",
       "                                                            ⎥\n",
       "                                                            ⎥\n",
       "─                                                           ⎥\n",
       "                                                            ⎥\n",
       " ⋅sin(k⋅t) + 1                                              ⎦"
      ]
     },
     "execution_count": 123,
     "metadata": {},
     "output_type": "execute_result"
    }
   ],
   "source": [
    "x = xh + xp\n",
    "x"
   ]
  },
  {
   "cell_type": "markdown",
   "metadata": {},
   "source": [
    "Subject to initial conditions,\n",
    "\\begin{equation}\n",
    "x(0) = \\frac{(mg - F_s)}{S^2}\\frac{V_0}{k}-\\frac{p0}{S}\\frac{V_0}{k}\n",
    "\\end{equation}\n",
    "\n",
    "\\begin{equation}\n",
    "v(0) = 0\n",
    "\\end{equation}\n",
    "\n",
    "\\begin{equation}\n",
    "p(0) = \\frac{(mg - F_s)}{S}\n",
    "\\end{equation}\n",
    "The scaled version of the last is\n",
    "\\begin{equation}\n",
    "p(0) = R_2\n",
    "\\end{equation}\n",
    "With\n",
    "\\begin{equation}\n",
    "R_2 = \\frac{mg -F_s}{mg - F_d}\n",
    "\\end{equation}\n",
    "and \n",
    "\\begin{equation}\n",
    "x(0) = R_2 - R_3\n",
    "\\end{equation}\n",
    "With\n",
    "\\begin{equation}\n",
    "R_3 = \\frac{p_0 S}{(mg - F_d)}\n",
    "\\end{equation}\n",
    "\n"
   ]
  },
  {
   "cell_type": "code",
   "execution_count": 115,
   "metadata": {},
   "outputs": [
    {
     "data": {
      "image/png": "[encoded data removed]",
      "text/latex": [
       "$$\\left \\{ c_{1} : R_{2} - 1, \\quad c_{2} : \\frac{R_{1} \\left(R_{2} + 1\\right)}{2 k}, \\quad c_{3} : \\frac{- R_{1}^{2} R_{3} - 3 R_{1}^{2} - 4 R_{3} k^{2} + 4 k^{2}}{R_{1}^{2} + 4 k^{2}}\\right \\}$$"
      ],
      "text/plain": [
       "⎧                                     2          2         2      2⎫\n",
       "⎪                R₁⋅(R₂ + 1)      - R₁ ⋅R₃ - 3⋅R₁  - 4⋅R₃⋅k  + 4⋅k ⎪\n",
       "⎨c₁: R₂ - 1, c₂: ───────────, c₃: ─────────────────────────────────⎬\n",
       "⎪                    2⋅k                        2      2           ⎪\n",
       "⎩                                             R₁  + 4⋅k            ⎭"
      ]
     },
     "execution_count": 115,
     "metadata": {},
     "output_type": "execute_result"
    }
   ],
   "source": [
    "R2,R3 = symbols('R2,R3')\n",
    "eq1 = x[0]\n",
    "eq2 = x[1]\n",
    "eq3 = x[2]\n",
    "eq1 = eq1.subs(t,0)\n",
    "eq2 = eq2.subs(t,0)\n",
    "eq3 = eq3.subs(t,0)\n",
    "eq1 = eq1 - R2 + R3\n",
    "eq3 = eq3 - R2\n",
    "constant = solve((eq1,eq2,eq3),c1,c2,c3)\n",
    "constant"
   ]
  },
  {
   "cell_type": "code",
   "execution_count": 116,
   "metadata": {
    "collapsed": true
   },
   "outputs": [
    {
     "data": {
      "image/png": "[encoded data removed]",
      "text/latex": [
       "$$R_{1} + \\frac{R_{1} \\left(R_{2} + 1\\right) \\left(\\frac{R_{1} \\sin{\\left (k t \\right )}}{2} - k \\cos{\\left (k t \\right )}\\right) e^{- \\frac{R_{1} t}{2}}}{2 k} + \\left(R_{2} - 1\\right) \\left(\\frac{R_{1} \\cos{\\left (k t \\right )}}{2} + k \\sin{\\left (k t \\right )}\\right) e^{- \\frac{R_{1} t}{2}}$$"
      ],
      "text/plain": [
       "                                             -R₁⋅t                            \n",
       "                                             ──────                           \n",
       "                 ⎛R₁⋅sin(k⋅t)             ⎞    2                              \n",
       "     R₁⋅(R₂ + 1)⋅⎜─────────── - k⋅cos(k⋅t)⎟⋅ℯ                                 \n",
       "                 ⎝     2                  ⎠                    ⎛R₁⋅cos(k⋅t)   \n",
       "R₁ + ────────────────────────────────────────────── + (R₂ - 1)⋅⎜─────────── + \n",
       "                          2⋅k                                  ⎝     2        \n",
       "\n",
       "                   \n",
       "                   \n",
       "             -R₁⋅t \n",
       "             ──────\n",
       "          ⎞    2   \n",
       "k⋅sin(k⋅t)⎟⋅ℯ      \n",
       "          ⎠        "
      ]
     },
     "execution_count": 116,
     "metadata": {},
     "output_type": "execute_result"
    }
   ],
   "source": [
    "for c in constant.keys():\n",
    "    x = x.subs(c, constant[c])\n",
    "\n",
    "x[1]"
   ]
  },
  {
   "cell_type": "code",
   "execution_count": 119,
   "metadata": {},
   "outputs": [
    {
     "data": {
      "image/png": "[encoded data removed]",
      "text/latex": [
       "$$- \\frac{R_{1}^{2} \\left(R_{2} - 1\\right)}{4} + \\frac{R_{1}^{2} \\left(R_{2} + 1\\right)}{2} + k^{2} \\left(R_{2} - 1\\right)$$"
      ],
      "text/plain": [
       "    2              2                       \n",
       "  R₁ ⋅(R₂ - 1)   R₁ ⋅(R₂ + 1)    2         \n",
       "- ──────────── + ──────────── + k ⋅(R₂ - 1)\n",
       "       4              2                    "
      ]
     },
     "execution_count": 119,
     "metadata": {},
     "output_type": "execute_result"
    }
   ],
   "source": [
    "a = diff(x[1],t)\n",
    "\n",
    "p = x[2]\n",
    "p = p.subs(t,0)\n",
    "a.subs(t,0)"
   ]
  },
  {
   "cell_type": "code",
   "execution_count": 90,
   "metadata": {},
   "outputs": [],
   "source": [
    "a = diff(x[1],t)\n"
   ]
  },
  {
   "cell_type": "code",
   "execution_count": 91,
   "metadata": {},
   "outputs": [
    {
     "data": {
      "text/plain": [
       "<module 'matplotlib.pyplot' from '/anaconda3/lib/python3.6/site-packages/matplotlib/pyplot.py'>"
      ]
     },
     "execution_count": 91,
     "metadata": {},
     "output_type": "execute_result"
    }
   ],
   "source": [
    "import numpy as np\n",
    "import matplotlib.pyplot as plt\n",
    "t = np.linspace(1,10)\n",
    "plt"
   ]
  },
  {
   "cell_type": "code",
   "execution_count": null,
   "metadata": {},
   "outputs": [],
   "source": []
  },
  {
   "cell_type": "code",
   "execution_count": null,
   "metadata": {},
   "outputs": [],
   "source": []
  },
  {
   "cell_type": "code",
   "execution_count": null,
   "metadata": {},
   "outputs": [],
   "source": []
  }
 ],
 "metadata": {
  "kernelspec": {
   "display_name": "Python 3",
   "language": "python",
   "name": "python3"
  },
  "language_info": {
   "codemirror_mode": {
    "name": "ipython",
    "version": 3
   },
   "file_extension": ".py",
   "mimetype": "text/x-python",
   "name": "python",
   "nbconvert_exporter": "python",
   "pygments_lexer": "ipython3",
   "version": "3.6.8"
  }
 },
 "nbformat": 4,
 "nbformat_minor": 2
}
