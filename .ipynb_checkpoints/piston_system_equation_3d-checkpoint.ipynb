{
 "cells": [
  {
   "cell_type": "markdown",
   "metadata": {},
   "source": [
    "# Piston model with time dependent pressure and displacement\n",
    "System of two differential equation\n",
    "\\begin{equation}\n",
    "m\\frac{dv}{dt} = mg - F_d- pS\n",
    "\\end{equation}\n",
    "\n",
    "\\begin{equation}\n",
    "\\frac{dp}{dt} = \\frac{kS}{V}v - \\frac{k \\pi a^4}{8 V\\mu l}p\n",
    "\\end{equation}\n",
    "\n",
    "By setting the differential equation for pressure equal to zero one finds  the equilibrium pressure\n",
    "\n",
    "\\begin{equation}\n",
    "\\frac{kS}{V}v - \\frac{k \\pi a^4}{8 V\\mu l}p_0 = 0\n",
    "\\end{equation}\n",
    "\n",
    "\\begin{equation}\n",
    "p_0 = \\frac{8 S\\mu l}{\\pi a^4}v\n",
    "\\end{equation}\n",
    "By injecting this equilibrium solution into the differential equation for piston velocity and setting the derivative equal to zero to find the equilibrium velocity we obtain\n",
    "\\begin{equation}\n",
    "v_0 =\\frac{(mg - F_d)}{S^2}\\frac{\\pi a^4}{8\\mu l}\n",
    "\\end{equation}\n",
    "Thus by reinjecting this in the equation for equilibrium pressure we have simply\n",
    "\\begin{equation}\n",
    "p_0=\\frac{mg- F_d}{S}\n",
    "\\end{equation}\n",
    "These two are then used as scales for pressure and velicity. Substituting these two equations in  the differential equation one gets a charachteristic time-scale\n",
    "\\begin{equation}\n",
    "t^* = \\frac{m \\pi a^4}{8 \\mu l S^2}\n",
    "\\end{equation}\n",
    "\n",
    "The two governing system of equation than becomes\n",
    "\\begin{equation}\n",
    "\\frac{dv}{dt} = 1 - p\n",
    "\\end{equation}\n",
    "\\begin{equation}\n",
    "\\frac{dp}{dt} = R_1v - \\frac{R_1}{8}p\n",
    "\\end{equation}\n",
    "With $R_1$ beign a dimensionless parameter defined as \n",
    "\\begin{equation}\n",
    "R_1 = \\frac{\\pi^2  k m a^8}{8 V \\mu^2 l^2 S^2 }\n",
    "\\end{equation}\n",
    "Subject to initial conditions\n",
    "\\begin{equation}\n",
    "v(0) = 0\n",
    "\\end{equation}\n",
    "\\begin{equation}\n",
    "p(0) = R_2\n",
    "\\end{equation}\n",
    "With\n",
    "\\begin{equation}\n",
    "R_2 = \\frac{p(0)}{(mg - F_d)}S \n",
    "\\end{equation}\n",
    "\n"
   ]
  },
  {
   "cell_type": "code",
   "execution_count": 339,
   "metadata": {},
   "outputs": [
    {
     "data": {
      "text/plain": [
       "(sqrt(R1)*sqrt(R1 - 256)/16 - R1/16, [Matrix([\n",
       "  [-(-sqrt(R1)*sqrt(R1 - 256)/16 - R1/16)/R1],\n",
       "  [                                        1]])])"
      ]
     },
     "execution_count": 339,
     "metadata": {},
     "output_type": "execute_result"
    }
   ],
   "source": [
    "from sympy import *\n",
    "#!/usr/bin/env python3\n",
    "# -*- coding: utf-8 -*-\n",
    "\"\"\"\n",
    "Created on Wed Feb 27 18:19:13 2019\n",
    "\n",
    "@author: aroman]\n",
    "\"\"\"\n",
    "from sympy import *\n",
    "R1 = symbols('R1', positive =True,real = True)\n",
    "\n",
    "M =  Matrix([[0, -1],[R1,-R1 / 8]])\n",
    "values = M.eigenvals()\n",
    "vectors = M.eigenvects()\n",
    "values = values.keys()\n",
    "val = vectors[1][0]\n",
    "vect = vectors[1][2] \n",
    "val,vect\n"
   ]
  },
  {
   "cell_type": "markdown",
   "metadata": {},
   "source": [
    "We look for periodic solutions, so we look for complex roots of the characteristic equation and set $R1 - 256 < 0$ in both the eigenvector and eigen value"
   ]
  },
  {
   "cell_type": "code",
   "execution_count": 340,
   "metadata": {},
   "outputs": [],
   "source": [
    "val = sqrt(R1)*sqrt(256 - R1) * I /16 - R1/16\n",
    "vect = Matrix([\n",
    "  [-(-sqrt(R1)*sqrt(256 - R1) * I/16 - R1/16)/R1],\n",
    "  [                                        1]])"
   ]
  },
  {
   "cell_type": "markdown",
   "metadata": {},
   "source": [
    "Expand the eigenvalue using the Euler relation. Then  use the substitution $k =\\sqrt(R1) * \\sqrt(256 - R1)$ for both eigenvalue and eigenvector. This corresponds to the quasi-frequency of the oscillator real values "
   ]
  },
  {
   "cell_type": "code",
   "execution_count": 341,
   "metadata": {},
   "outputs": [],
   "source": [
    "k,t= symbols('k,t', real =True) \n",
    "val = exp( - R1/16) * (cos(sqrt(R1)*sqrt(256 - R1)) + I*sin(sqrt(R1)*sqrt(256 - R1)))\n",
    "val = val.subs(sqrt(R1)*sqrt(256-R1),k*t)\n",
    "val = val.subs(-R1/16, -R1/16*t)\n",
    "vect = vect.subs(sqrt(R1)*sqrt(256-R1),k)\n",
    "mult = val  * vect\n",
    "x_re = re(expand(mult))\n",
    "x_im = im(expand(mult))"
   ]
  },
  {
   "cell_type": "markdown",
   "metadata": {},
   "source": [
    "We multiply the eigenvalue by its eigenvector"
   ]
  },
  {
   "cell_type": "code",
   "execution_count": 342,
   "metadata": {},
   "outputs": [
    {
     "data": {
      "text/plain": [
       "Matrix([\n",
       "[(R1/16 + I*k/16)*(I*sin(k*t) + cos(k*t))*exp(-R1*t/16)/R1],\n",
       "[                    (I*sin(k*t) + cos(k*t))*exp(-R1*t/16)]])"
      ]
     },
     "execution_count": 342,
     "metadata": {},
     "output_type": "execute_result"
    }
   ],
   "source": [
    "mult"
   ]
  },
  {
   "cell_type": "code",
   "execution_count": 343,
   "metadata": {},
   "outputs": [
    {
     "data": {
      "text/plain": [
       "Matrix([\n",
       "[exp(-R1*t/16)*cos(k*t)/16 - k*exp(-R1*t/16)*sin(k*t)/(16*R1)],\n",
       "[                                      exp(-R1*t/16)*cos(k*t)]])"
      ]
     },
     "execution_count": 343,
     "metadata": {},
     "output_type": "execute_result"
    }
   ],
   "source": [
    "x_re"
   ]
  },
  {
   "cell_type": "code",
   "execution_count": 344,
   "metadata": {},
   "outputs": [
    {
     "data": {
      "text/plain": [
       "Matrix([\n",
       "[exp(-R1*t/16)*sin(k*t)/16 + k*exp(-R1*t/16)*cos(k*t)/(16*R1)],\n",
       "[                                      exp(-R1*t/16)*sin(k*t)]])"
      ]
     },
     "execution_count": 344,
     "metadata": {},
     "output_type": "execute_result"
    }
   ],
   "source": [
    "x_im"
   ]
  },
  {
   "cell_type": "markdown",
   "metadata": {},
   "source": [
    "The solution to the homogeneous system is $\\mathbf{x_h} = c_1 Re(\\mathbf x) + c_2 Im(\\mathbf x)$ "
   ]
  },
  {
   "cell_type": "code",
   "execution_count": 345,
   "metadata": {},
   "outputs": [],
   "source": [
    "c1,c2 = symbols('c1,c2')\n",
    "xh = c1 * x_re + c2 * x_im "
   ]
  },
  {
   "cell_type": "markdown",
   "metadata": {},
   "source": [
    "The particular solution of the differential equation"
   ]
  },
  {
   "cell_type": "code",
   "execution_count": 346,
   "metadata": {},
   "outputs": [
    {
     "data": {
      "text/plain": [
       "Matrix([\n",
       "[c1*(exp(-R1*t/16)*cos(k*t)/16 - k*exp(-R1*t/16)*sin(k*t)/(16*R1)) + c2*(exp(-R1*t/16)*sin(k*t)/16 + k*exp(-R1*t/16)*cos(k*t)/(16*R1)) + 1/8],\n",
       "[                                                                                  c1*exp(-R1*t/16)*cos(k*t) + c2*exp(-R1*t/16)*sin(k*t) + 1]])"
      ]
     },
     "execution_count": 346,
     "metadata": {},
     "output_type": "execute_result"
    }
   ],
   "source": [
    "A =  Matrix([[0, -1,-1,],[R1,-R1 / 8,0]])\n",
    "d_dict = solve_linear_system(A,d1,d2)\n",
    "d = Matrix([[d_dict[d1]],[d_dict[d2]]])\n",
    "x = xh + d\n",
    "x"
   ]
  },
  {
   "cell_type": "markdown",
   "metadata": {},
   "source": [
    "Solve for constant according to initial conditions"
   ]
  },
  {
   "cell_type": "code",
   "execution_count": 347,
   "metadata": {},
   "outputs": [],
   "source": [
    "R2 = symbols('R2')\n",
    "eq1 = x[0]\n",
    "eq2 = x[1]\n",
    "eq1 = eq1.subs(t,0)\n",
    "eq2 = eq2.subs(t,0)\n",
    "eq2 = eq2 - R2\n",
    "constant = solve((eq1,eq2),c1,c2)"
   ]
  },
  {
   "cell_type": "code",
   "execution_count": 348,
   "metadata": {},
   "outputs": [],
   "source": [
    "for c in constant.keys():\n",
    "    x = x.subs(c, constant[c])\n",
    "    "
   ]
  },
  {
   "cell_type": "code",
   "execution_count": 349,
   "metadata": {},
   "outputs": [
    {
     "data": {
      "text/plain": [
       "Matrix([\n",
       "[-R1*(R2 + 1)*(exp(-R1*t/16)*sin(k*t)/16 + k*exp(-R1*t/16)*cos(k*t)/(16*R1))/k + (R2 - 1)*(exp(-R1*t/16)*cos(k*t)/16 - k*exp(-R1*t/16)*sin(k*t)/(16*R1)) + 1/8],\n",
       "[                                                                                  -R1*(R2 + 1)*exp(-R1*t/16)*sin(k*t)/k + (R2 - 1)*exp(-R1*t/16)*cos(k*t) + 1]])"
      ]
     },
     "execution_count": 349,
     "metadata": {},
     "output_type": "execute_result"
    }
   ],
   "source": [
    "x"
   ]
  },
  {
   "cell_type": "code",
   "execution_count": 332,
   "metadata": {},
   "outputs": [],
   "source": [
    "v = x[0]\n",
    "p = x[1]"
   ]
  },
  {
   "cell_type": "markdown",
   "metadata": {},
   "source": [
    "Plot pressure and velocity"
   ]
  },
  {
   "cell_type": "code",
   "execution_count": 368,
   "metadata": {},
   "outputs": [
    {
     "data": {
      "image/png": "[encoded data removed]",
      "text/plain": [
       "<Figure size 432x288 with 1 Axes>"
      ]
     },
     "metadata": {
      "needs_background": "light"
     },
     "output_type": "display_data"
    },
    {
     "ename": "NameError",
     "evalue": "name 'plt' is not defined",
     "output_type": "error",
     "traceback": [
      "\u001b[0;31m---------------------------------------------------------------------------\u001b[0m",
      "\u001b[0;31mNameError\u001b[0m                                 Traceback (most recent call last)",
      "\u001b[0;32m<ipython-input-368-81a214f2c92e>\u001b[0m in \u001b[0;36m<module>\u001b[0;34m\u001b[0m\n\u001b[1;32m      1\u001b[0m \u001b[0mv_plot\u001b[0m \u001b[0;34m=\u001b[0m \u001b[0mv\u001b[0m\u001b[0;34m.\u001b[0m\u001b[0msubs\u001b[0m\u001b[0;34m(\u001b[0m\u001b[0mk\u001b[0m\u001b[0;34m,\u001b[0m\u001b[0msqrt\u001b[0m\u001b[0;34m(\u001b[0m\u001b[0;36m256\u001b[0m \u001b[0;34m*\u001b[0m \u001b[0mR1\u001b[0m \u001b[0;34m-\u001b[0m \u001b[0mR1\u001b[0m\u001b[0;34m**\u001b[0m\u001b[0;36m2\u001b[0m\u001b[0;34m)\u001b[0m\u001b[0;34m)\u001b[0m\u001b[0;34m\u001b[0m\u001b[0;34m\u001b[0m\u001b[0m\n\u001b[1;32m      2\u001b[0m \u001b[0mv_plot\u001b[0m \u001b[0;34m=\u001b[0m \u001b[0mv_plot\u001b[0m\u001b[0;34m.\u001b[0m\u001b[0msubs\u001b[0m\u001b[0;34m(\u001b[0m\u001b[0;34m[\u001b[0m\u001b[0;34m(\u001b[0m\u001b[0mR1\u001b[0m\u001b[0;34m,\u001b[0m\u001b[0;36m1\u001b[0m\u001b[0;34m)\u001b[0m\u001b[0;34m,\u001b[0m\u001b[0;34m(\u001b[0m\u001b[0mR2\u001b[0m\u001b[0;34m,\u001b[0m\u001b[0;36m1\u001b[0m\u001b[0;34m)\u001b[0m\u001b[0;34m]\u001b[0m\u001b[0;34m)\u001b[0m\u001b[0;34m\u001b[0m\u001b[0;34m\u001b[0m\u001b[0m\n\u001b[0;32m----> 3\u001b[0;31m \u001b[0mplot\u001b[0m\u001b[0;34m(\u001b[0m\u001b[0mv_plot\u001b[0m\u001b[0;34m,\u001b[0m\u001b[0mxlim\u001b[0m \u001b[0;34m=\u001b[0m\u001b[0;34m[\u001b[0m\u001b[0;36m8\u001b[0m\u001b[0;34m,\u001b[0m\u001b[0;36m12\u001b[0m\u001b[0;34m]\u001b[0m\u001b[0;34m)\u001b[0m\u001b[0;34m,\u001b[0m\u001b[0mplt\u001b[0m\u001b[0;34m.\u001b[0m\u001b[0mshow\u001b[0m\u001b[0;34m(\u001b[0m\u001b[0;34m)\u001b[0m\u001b[0;34m\u001b[0m\u001b[0;34m\u001b[0m\u001b[0m\n\u001b[0m",
      "\u001b[0;31mNameError\u001b[0m: name 'plt' is not defined"
     ]
    }
   ],
   "source": [
    "v_plot = v.subs(k,sqrt(256 * R1 - R1**2))\n",
    "v_plot = v_plot.subs([(R1,1),(R2,1)])\n",
    "plot(v_plot,xlim =[8,12]),plt.show()"
   ]
  },
  {
   "cell_type": "code",
   "execution_count": null,
   "metadata": {},
   "outputs": [],
   "source": []
  },
  {
   "cell_type": "code",
   "execution_count": null,
   "metadata": {},
   "outputs": [],
   "source": []
  }
 ],
 "metadata": {
  "kernelspec": {
   "display_name": "Python 3",
   "language": "python",
   "name": "python3"
  },
  "language_info": {
   "codemirror_mode": {
    "name": "ipython",
    "version": 3
   },
   "file_extension": ".py",
   "mimetype": "text/x-python",
   "name": "python",
   "nbconvert_exporter": "python",
   "pygments_lexer": "ipython3",
   "version": "3.6.8"
  }
 },
 "nbformat": 4,
 "nbformat_minor": 2
}
