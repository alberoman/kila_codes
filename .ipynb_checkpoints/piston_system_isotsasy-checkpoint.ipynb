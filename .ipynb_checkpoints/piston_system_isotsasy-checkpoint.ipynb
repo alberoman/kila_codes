{
 "cells": [
  {
   "cell_type": "markdown",
   "metadata": {},
   "source": [
    "# Piston model with time dependent pressure and displacement\n",
    "System of three differential equations\n",
    "\\begin{equation}\n",
    "\\frac{dx}{dt} = v\n",
    "\\end{equation}\n",
    "\n",
    "\\begin{equation}\n",
    "m\\frac{dv}{dt} = - F_d- \\rho g S x  - \\Delta P_e S\n",
    "\\end{equation}\n",
    "\n",
    "\\begin{equation}\n",
    "\\frac{dp}{dt} = \\frac{kS}{V}v - \\frac{k \\pi a^4}{8 V\\mu l}p\n",
    "\\end{equation}\n",
    "The equations are scalded by:\n",
    "\n",
    "\\begin{equation}\n",
    "x^* = \\frac{(mg - F_d)}{kS^2}V_0\n",
    "\\end{equation}\n",
    "\n",
    "\n",
    "\\begin{equation}\n",
    "t^* = \\bigg(\\frac{mV_0}{kS^2}\\bigg) ^{1/2}\n",
    "\\end{equation}\n",
    "\n",
    "\\begin{equation}\n",
    "p^* = \\frac{(mg - F_d)}{S}\n",
    "\\end{equation}\n",
    "\n",
    "\n",
    "\\begin{equation}\n",
    "v^* = \\frac{(mg - F_d)}{S}\\bigg(\\frac{V_0}{km}\\bigg) ^{1/2}\n",
    "\\end{equation}\n",
    "\n",
    "\n",
    "\n",
    "The two governing system of equation than becomes\n",
    "\\begin{equation}\n",
    "\\frac{dx}{dt} = v\n",
    "\\end{equation}\n",
    "\n",
    "\n",
    "\\begin{equation}\n",
    "\\frac{dv}{dt} = 1 - p\n",
    "\\end{equation}\n",
    "\n",
    "\\begin{equation}\n",
    "\\frac{dp}{dt} = v - R_1 p\n",
    "\\end{equation}\n",
    "\n",
    "With $R_1$ being \n",
    "\\begin{equation}\n",
    "R_1 = \\frac{\\pi a^4}{8 \\mu l S}\\bigg(\\frac{km}{V_0}\\bigg) ^{1/2}\n",
    "\\end{equation}\n"
   ]
  },
  {
   "cell_type": "code",
   "execution_count": 2,
   "metadata": {},
   "outputs": [
    {
     "data": {
      "text/plain": [
       "((0, 1, [Matrix([\n",
       " [1],\n",
       " [0],\n",
       " [0]])]), (-R1/2 - sqrt(R1**2 - 4)/2, 1, [Matrix([\n",
       " [-(R1/2 - sqrt(R1 - 2)*sqrt(R1 + 2)/2)/(R1/2 + sqrt(R1 - 2)*sqrt(R1 + 2)/2)],\n",
       " [                                        R1/2 - sqrt(R1 - 2)*sqrt(R1 + 2)/2],\n",
       " [                                                                         1]])]), (-R1/2 + sqrt(R1**2 - 4)/2, 1, [Matrix([\n",
       " [-(R1/2 + sqrt(R1 - 2)*sqrt(R1 + 2)/2)/(R1/2 - sqrt(R1 - 2)*sqrt(R1 + 2)/2)],\n",
       " [                                        R1/2 + sqrt(R1 - 2)*sqrt(R1 + 2)/2],\n",
       " [                                                                         1]])]))"
      ]
     },
     "execution_count": 2,
     "metadata": {},
     "output_type": "execute_result"
    }
   ],
   "source": [
    "from sympy import *\n",
    "x,v,t,p,R1,R2,R3 = symbols('x,v,t,p,R1,R2,R3', positive =True,real = True)\n",
    "A =  Matrix([\n",
    "    [0,1,0],\n",
    "    [0,0,-1],\n",
    "    [0,1,-R1]\n",
    "            ])\n",
    "vect_pack = A.eigenvects()\n",
    "simplify(vect_pack[0]),simplify(vect_pack[1]), simplify(vect_pack[2])"
   ]
  },
  {
   "cell_type": "markdown",
   "metadata": {},
   "source": [
    "We look for periodic solutions, so we look for complex roots of the characteristic equation and set $R_1^2 - 4 < 0$ in both the eigenvector and eigen value"
   ]
  },
  {
   "cell_type": "code",
   "execution_count": 3,
   "metadata": {},
   "outputs": [],
   "source": [
    "\n",
    "val = -R1/2 + sqrt(4 - R1**2)/2 * I\n",
    "vect = Matrix([\n",
    "   [-(R1/2 + sqrt(4 - R1**2)/2 * I)/(R1/2 - sqrt(4 - R1**2)/2 * I)],\n",
    "   [                                        R1/2 + sqrt(4 - R1**2)/2 * I],\n",
    "   [                                                                         1]])\n"
   ]
  },
  {
   "cell_type": "markdown",
   "metadata": {},
   "source": [
    "Expand the eigenvalue using the Euler relation. Then  use the substitution $k = \\sqrt(4 - R_1^2)/2 $ for both eigenvalue and eigenvector. "
   ]
  },
  {
   "cell_type": "code",
   "execution_count": 14,
   "metadata": {},
   "outputs": [],
   "source": [
    "k,t= symbols('k,t', real =True) \n",
    "val = exp( - R1/2) * (cos(sqrt(4 - R1**2)/2) + I*sin(sqrt(4 - R1**2)/2))\n",
    "val = val.subs(sqrt(4 - R1**2)/2,k*t)\n",
    "val = val.subs(-R1/2, -R1/2*t)\n",
    "vect = vect.subs(sqrt(4 - R1**2)/2,k)\n",
    "mult = val  * vect\n",
    "x_re = re(expand(mult))\n",
    "x_re = simplify(x_re)\n",
    "x_im = im(mult)\n",
    "x_im = simplify(x_im)"
   ]
  },
  {
   "cell_type": "code",
   "execution_count": 15,
   "metadata": {},
   "outputs": [
    {
     "data": {
      "text/latex": [
       "$\\displaystyle \\left[\\begin{matrix}\\frac{\\left(- \\frac{R_{1}}{2} - i k\\right) \\left(i \\sin{\\left(k t \\right)} + \\cos{\\left(k t \\right)}\\right) e^{- \\frac{R_{1} t}{2}}}{\\frac{R_{1}}{2} - i k}\\\\\\left(\\frac{R_{1}}{2} + i k\\right) \\left(i \\sin{\\left(k t \\right)} + \\cos{\\left(k t \\right)}\\right) e^{- \\frac{R_{1} t}{2}}\\\\\\left(i \\sin{\\left(k t \\right)} + \\cos{\\left(k t \\right)}\\right) e^{- \\frac{R_{1} t}{2}}\\end{matrix}\\right]$"
      ],
      "text/plain": [
       "Matrix([\n",
       "[(-R1/2 - I*k)*(I*sin(k*t) + cos(k*t))*exp(-R1*t/2)/(R1/2 - I*k)],\n",
       "[              (R1/2 + I*k)*(I*sin(k*t) + cos(k*t))*exp(-R1*t/2)],\n",
       "[                           (I*sin(k*t) + cos(k*t))*exp(-R1*t/2)]])"
      ]
     },
     "execution_count": 15,
     "metadata": {},
     "output_type": "execute_result"
    }
   ],
   "source": [
    "mult"
   ]
  },
  {
   "cell_type": "markdown",
   "metadata": {},
   "source": [
    "We multiply the eigenvalue by its eigenvector"
   ]
  },
  {
   "cell_type": "code",
   "execution_count": 16,
   "metadata": {},
   "outputs": [
    {
     "data": {
      "text/latex": [
       "$\\displaystyle \\left[\\begin{matrix}\\frac{\\left(- R_{1}^{2} \\cos{\\left(k t \\right)} + 4 R_{1} k \\sin{\\left(k t \\right)} + 4 k^{2} \\cos{\\left(k t \\right)}\\right) e^{- \\frac{R_{1} t}{2}}}{R_{1}^{2} + 4 k^{2}}\\\\\\left(\\frac{R_{1} \\cos{\\left(k t \\right)}}{2} - k \\sin{\\left(k t \\right)}\\right) e^{- \\frac{R_{1} t}{2}}\\\\e^{- \\frac{R_{1} t}{2}} \\cos{\\left(k t \\right)}\\end{matrix}\\right]$"
      ],
      "text/plain": [
       "Matrix([\n",
       "[(-R1**2*cos(k*t) + 4*R1*k*sin(k*t) + 4*k**2*cos(k*t))*exp(-R1*t/2)/(R1**2 + 4*k**2)],\n",
       "[                                          (R1*cos(k*t)/2 - k*sin(k*t))*exp(-R1*t/2)],\n",
       "[                                                              exp(-R1*t/2)*cos(k*t)]])"
      ]
     },
     "execution_count": 16,
     "metadata": {},
     "output_type": "execute_result"
    }
   ],
   "source": [
    "x_re"
   ]
  },
  {
   "cell_type": "code",
   "execution_count": 17,
   "metadata": {},
   "outputs": [
    {
     "data": {
      "text/latex": [
       "$\\displaystyle \\left[\\begin{matrix}\\frac{\\left(- R_{1}^{2} \\sin{\\left(k t \\right)} - 4 R_{1} k \\cos{\\left(k t \\right)} + 4 k^{2} \\sin{\\left(k t \\right)}\\right) e^{- \\frac{R_{1} t}{2}}}{R_{1}^{2} + 4 k^{2}}\\\\\\left(\\frac{R_{1} \\sin{\\left(k t \\right)}}{2} + k \\cos{\\left(k t \\right)}\\right) e^{- \\frac{R_{1} t}{2}}\\\\e^{- \\frac{R_{1} t}{2}} \\sin{\\left(k t \\right)}\\end{matrix}\\right]$"
      ],
      "text/plain": [
       "Matrix([\n",
       "[(-R1**2*sin(k*t) - 4*R1*k*cos(k*t) + 4*k**2*sin(k*t))*exp(-R1*t/2)/(R1**2 + 4*k**2)],\n",
       "[                                          (R1*sin(k*t)/2 + k*cos(k*t))*exp(-R1*t/2)],\n",
       "[                                                              exp(-R1*t/2)*sin(k*t)]])"
      ]
     },
     "execution_count": 17,
     "metadata": {},
     "output_type": "execute_result"
    }
   ],
   "source": [
    "x_im"
   ]
  },
  {
   "cell_type": "markdown",
   "metadata": {},
   "source": [
    "The solution to the homogeneous system is $\\mathbf{x_h} = c_1 Re(\\mathbf x) + c_2 Im(\\mathbf x)$ "
   ]
  },
  {
   "cell_type": "code",
   "execution_count": 18,
   "metadata": {},
   "outputs": [
    {
     "data": {
      "text/latex": [
       "$\\displaystyle \\left[\\begin{matrix}c_{1} + \\frac{c_{2} \\left(- R_{1}^{2} \\cos{\\left(k t \\right)} + 4 R_{1} k \\sin{\\left(k t \\right)} + 4 k^{2} \\cos{\\left(k t \\right)}\\right) e^{- \\frac{R_{1} t}{2}}}{R_{1}^{2} + 4 k^{2}} + \\frac{c_{3} \\left(- R_{1}^{2} \\sin{\\left(k t \\right)} - 4 R_{1} k \\cos{\\left(k t \\right)} + 4 k^{2} \\sin{\\left(k t \\right)}\\right) e^{- \\frac{R_{1} t}{2}}}{R_{1}^{2} + 4 k^{2}}\\\\c_{2} \\left(\\frac{R_{1} \\cos{\\left(k t \\right)}}{2} - k \\sin{\\left(k t \\right)}\\right) e^{- \\frac{R_{1} t}{2}} + c_{3} \\left(\\frac{R_{1} \\sin{\\left(k t \\right)}}{2} + k \\cos{\\left(k t \\right)}\\right) e^{- \\frac{R_{1} t}{2}}\\\\c_{2} e^{- \\frac{R_{1} t}{2}} \\cos{\\left(k t \\right)} + c_{3} e^{- \\frac{R_{1} t}{2}} \\sin{\\left(k t \\right)}\\end{matrix}\\right]$"
      ],
      "text/plain": [
       "Matrix([\n",
       "[c1 + c2*(-R1**2*cos(k*t) + 4*R1*k*sin(k*t) + 4*k**2*cos(k*t))*exp(-R1*t/2)/(R1**2 + 4*k**2) + c3*(-R1**2*sin(k*t) - 4*R1*k*cos(k*t) + 4*k**2*sin(k*t))*exp(-R1*t/2)/(R1**2 + 4*k**2)],\n",
       "[                                                                                         c2*(R1*cos(k*t)/2 - k*sin(k*t))*exp(-R1*t/2) + c3*(R1*sin(k*t)/2 + k*cos(k*t))*exp(-R1*t/2)],\n",
       "[                                                                                                                                 c2*exp(-R1*t/2)*cos(k*t) + c3*exp(-R1*t/2)*sin(k*t)]])"
      ]
     },
     "execution_count": 18,
     "metadata": {},
     "output_type": "execute_result"
    }
   ],
   "source": [
    "c1,c2,c3 = symbols('c1,c2,c3')\n",
    "xh = c2 * x_re + c3 * x_im + c1 * Matrix([[1],[0],[0]])\n",
    "xhv = xh\n",
    "xhv"
   ]
  },
  {
   "cell_type": "markdown",
   "metadata": {},
   "source": [
    "The particular solution of the differential equation. One solution of the homogeneous is a constant. As the term  of the non homogenous equation is also a constant we have to have to find a particular solution of the type $\\mathbf x = \\mathbf a t + \\mathbf d$. By insering this in the original equation one gets \n",
    "\\begin{equation}\n",
    "A\\mathbf a = 0\n",
    "\\end{equation}\n",
    "which leads to $a_2,a_3 = 0$. and $\\mathbf a - A \\mathbf d = \\mathbf g$. With $\\mathbf g = [0,1,0]$ "
   ]
  },
  {
   "cell_type": "code",
   "execution_count": 20,
   "metadata": {},
   "outputs": [
    {
     "data": {
      "text/plain": [
       "{a1: R1, d2: R1, d3: 1}"
      ]
     },
     "execution_count": 20,
     "metadata": {},
     "output_type": "execute_result"
    }
   ],
   "source": [
    "a1,d1,d2,d3 = symbols('a1,d1,d2,d3')\n",
    "d = Matrix([[d1],[d2],[d3]])\n",
    "a = Matrix([[a1],[0],[0]])\n",
    "g = Matrix([[0],[1],[0]])\n",
    "system =  a - A*d - g\n",
    "solution = solve((system[0],system[1],system[2]),a1,d2,d3)\n",
    "solution"
   ]
  },
  {
   "cell_type": "markdown",
   "metadata": {},
   "source": [
    "Check for the solutions"
   ]
  },
  {
   "cell_type": "code",
   "execution_count": 22,
   "metadata": {},
   "outputs": [
    {
     "data": {
      "text/latex": [
       "$\\displaystyle \\left[\\begin{matrix}0\\\\0\\\\0\\end{matrix}\\right]$"
      ],
      "text/plain": [
       "Matrix([\n",
       "[0],\n",
       "[0],\n",
       "[0]])"
      ]
     },
     "execution_count": 22,
     "metadata": {},
     "output_type": "execute_result"
    }
   ],
   "source": [
    "a = Matrix([[solution[a1]],[0],[0]])\n",
    "d = Matrix([[d1],[solution[d2]],[solution[d3]]])\n",
    "a - A*d - g"
   ]
  },
  {
   "cell_type": "markdown",
   "metadata": {},
   "source": [
    "Thus $\\mathbf x = \\mathbf a t + \\mathbf d$ solve the equations if "
   ]
  },
  {
   "cell_type": "markdown",
   "metadata": {},
   "source": [
    "for an arbitrary value of $d_1$. By setting $d_1 = 0$, we obtain the particular solution and we add it to the general solution. "
   ]
  },
  {
   "cell_type": "code",
   "execution_count": 29,
   "metadata": {},
   "outputs": [
    {
     "data": {
      "text/plain": [
       "Matrix([\n",
       "[R1*t],\n",
       "[  R1],\n",
       "[   1]])"
      ]
     },
     "execution_count": 29,
     "metadata": {},
     "output_type": "execute_result"
    }
   ],
   "source": [
    "d[0] = 0\n",
    "xp = a*t + d\n",
    "xp"
   ]
  },
  {
   "cell_type": "code",
   "execution_count": 30,
   "metadata": {},
   "outputs": [
    {
     "data": {
      "text/plain": [
       "Matrix([\n",
       "[R1*t + c1 + c2*(-R1**2*cos(k*t) + 4*R1*k*sin(k*t) + 4*k**2*cos(k*t))*exp(-R1*t/2)/(R1**2 + 4*k**2) + c3*(-R1**2*sin(k*t) - 4*R1*k*cos(k*t) + 4*k**2*sin(k*t))*exp(-R1*t/2)/(R1**2 + 4*k**2)],\n",
       "[                                                                                           R1 + c2*(R1*cos(k*t)/2 - k*sin(k*t))*exp(-R1*t/2) + c3*(R1*sin(k*t)/2 + k*cos(k*t))*exp(-R1*t/2)],\n",
       "[                                                                                                                                    c2*exp(-R1*t/2)*cos(k*t) + c3*exp(-R1*t/2)*sin(k*t) + 1]])"
      ]
     },
     "execution_count": 30,
     "metadata": {},
     "output_type": "execute_result"
    }
   ],
   "source": [
    "x = xh + xp\n",
    "x"
   ]
  },
  {
   "cell_type": "markdown",
   "metadata": {},
   "source": [
    "Subject to initial conditions,\n",
    "\\begin{equation}\n",
    "x(0) = \\frac{(mg - F_s)}{S^2}\\frac{V_0}{k}-\\frac{p0}{S}\\frac{V_0}{k}\n",
    "\\end{equation}\n",
    "\n",
    "\\begin{equation}\n",
    "v(0) = 0\n",
    "\\end{equation}\n",
    "\n",
    "\\begin{equation}\n",
    "p(0) = \\frac{(mg - F_s)}{S}\n",
    "\\end{equation}\n",
    "The scaled version of the last is\n",
    "\\begin{equation}\n",
    "p(0) = R_2\n",
    "\\end{equation}\n",
    "With\n",
    "\\begin{equation}\n",
    "R_2 = \\frac{mg -F_s}{mg - F_d}\n",
    "\\end{equation}\n",
    "and \n",
    "\\begin{equation}\n",
    "x(0) = R_2 - R_3\n",
    "\\end{equation}\n",
    "With\n",
    "\\begin{equation}\n",
    "R_3 = \\frac{p_0 S}{(mg - F_d)}\n",
    "\\end{equation}\n",
    "\n"
   ]
  },
  {
   "cell_type": "code",
   "execution_count": 31,
   "metadata": {},
   "outputs": [
    {
     "data": {
      "text/plain": [
       "{c1: (-R1**2*R3 - 3*R1**2 - 4*R3*k**2 + 4*k**2)/(R1**2 + 4*k**2),\n",
       " c2: R2 - 1,\n",
       " c3: -R1*(R2 + 1)/(2*k)}"
      ]
     },
     "execution_count": 31,
     "metadata": {},
     "output_type": "execute_result"
    }
   ],
   "source": [
    "R2,R3 = symbols('R2,R3')\n",
    "eq1 = x[0]\n",
    "eq2 = x[1]\n",
    "eq3 = x[2]\n",
    "eq1 = eq1.subs(t,0)\n",
    "eq2 = eq2.subs(t,0)\n",
    "eq3 = eq3.subs(t,0)\n",
    "eq1 = eq1 - R2 + R3\n",
    "eq3 = eq3 - R2\n",
    "constant = solve((eq1,eq2,eq3),c1,c2,c3)\n",
    "constant"
   ]
  },
  {
   "cell_type": "code",
   "execution_count": 32,
   "metadata": {},
   "outputs": [],
   "source": [
    "for c in constant.keys():\n",
    "    x = x.subs(c, constant[c])\n",
    "\n"
   ]
  },
  {
   "cell_type": "markdown",
   "metadata": {},
   "source": [
    "Verify that the solution satisfies the original system. Careful we have to substitute R1 with a numerical value consistent with 0<R1<2, which is the range in which this solution is valid!!!! Here we take R1=1"
   ]
  },
  {
   "cell_type": "code",
   "execution_count": 33,
   "metadata": {},
   "outputs": [
    {
     "data": {
      "text/plain": [
       "(Matrix([\n",
       " [-6.93889390390723e-18],\n",
       " [-4.33680868994202e-19],\n",
       " [ 6.93889390390723e-18]]), 9.82265627595170e-18)"
      ]
     },
     "execution_count": 33,
     "metadata": {},
     "output_type": "execute_result"
    }
   ],
   "source": [
    "import numpy as np\n",
    "R1_value = 0.1\n",
    "xverif = x.subs(k,sqrt(4 - R1**2)/2)\n",
    "xverif = xverif.subs(R1,R1_value)\n",
    "der = []\n",
    "for i in range(len(xverif)):\n",
    "    der.append(diff(xverif[i],t))\n",
    "der = Matrix([[der[0]],[der[1]],[der[2]]])\n",
    "M = M.subs(R1,R1_value)\n",
    "verif = simplify(der -  M *xverif -g)\n",
    "verif = verif.subs(t,0)\n",
    "verif = verif.subs(R2,1)\n",
    "verif, (verif[0]**2 + verif[1]**2 + verif[2]**2)**0.5"
   ]
  },
  {
   "cell_type": "markdown",
   "metadata": {},
   "source": [
    "Finally the solution of the system are:"
   ]
  },
  {
   "cell_type": "code",
   "execution_count": 34,
   "metadata": {},
   "outputs": [
    {
     "data": {
      "text/plain": [
       "(R2 - 1)*(-0.998749217771909*sin(0.998749217771909*t) + 0.05*cos(0.998749217771909*t))*exp(-0.05*t) - 0.0500626174321759*(R2 + 1)*(0.05*sin(0.998749217771909*t) + 0.998749217771909*cos(0.998749217771909*t))*exp(-0.05*t) + 0.1"
      ]
     },
     "execution_count": 34,
     "metadata": {},
     "output_type": "execute_result"
    }
   ],
   "source": [
    "xverif[1]"
   ]
  },
  {
   "cell_type": "code",
   "execution_count": 35,
   "metadata": {},
   "outputs": [
    {
     "data": {
      "text/plain": [
       "(R2 - 1)*exp(-0.05*t)*cos(0.998749217771909*t) - 0.0500626174321759*(R2 + 1)*exp(-0.05*t)*sin(0.998749217771909*t) + 1"
      ]
     },
     "execution_count": 35,
     "metadata": {},
     "output_type": "execute_result"
    }
   ],
   "source": [
    "xverif[2]"
   ]
  },
  {
   "cell_type": "code",
   "execution_count": 36,
   "metadata": {},
   "outputs": [
    {
     "data": {
      "text/plain": [
       "R1*t - R1*(R2 + 1)*(-R1**2*sin(k*t) - 4*R1*k*cos(k*t) + 4*k**2*sin(k*t))*exp(-R1*t/2)/(2*k*(R1**2 + 4*k**2)) + (R2 - 1)*(-R1**2*cos(k*t) + 4*R1*k*sin(k*t) + 4*k**2*cos(k*t))*exp(-R1*t/2)/(R1**2 + 4*k**2) + (-R1**2*R3 - 3*R1**2 - 4*R3*k**2 + 4*k**2)/(R1**2 + 4*k**2)"
      ]
     },
     "execution_count": 36,
     "metadata": {},
     "output_type": "execute_result"
    }
   ],
   "source": [
    "x[0]"
   ]
  },
  {
   "cell_type": "code",
   "execution_count": 39,
   "metadata": {},
   "outputs": [
    {
     "data": {
      "text/plain": [
       "R1 - R1*(R2 + 1)*(R1*sin(k*t)/2 + k*cos(k*t))*exp(-R1*t/2)/(2*k) + (R2 - 1)*(R1*cos(k*t)/2 - k*sin(k*t))*exp(-R1*t/2)"
      ]
     },
     "execution_count": 39,
     "metadata": {},
     "output_type": "execute_result"
    }
   ],
   "source": [
    "\n",
    "x[1]"
   ]
  },
  {
   "cell_type": "code",
   "execution_count": 40,
   "metadata": {},
   "outputs": [
    {
     "data": {
      "text/plain": [
       "-R1*(R2 + 1)*exp(-R1*t/2)*sin(k*t)/(2*k) + (R2 - 1)*exp(-R1*t/2)*cos(k*t) + 1"
      ]
     },
     "execution_count": 40,
     "metadata": {},
     "output_type": "execute_result"
    }
   ],
   "source": [
    "x[2]"
   ]
  },
  {
   "cell_type": "code",
   "execution_count": null,
   "metadata": {},
   "outputs": [],
   "source": []
  },
  {
   "cell_type": "code",
   "execution_count": null,
   "metadata": {},
   "outputs": [],
   "source": []
  },
  {
   "cell_type": "code",
   "execution_count": null,
   "metadata": {},
   "outputs": [],
   "source": []
  },
  {
   "cell_type": "code",
   "execution_count": null,
   "metadata": {},
   "outputs": [],
   "source": []
  },
  {
   "cell_type": "code",
   "execution_count": 230,
   "metadata": {},
   "outputs": [
    {
     "ename": "NameError",
     "evalue": "name 'C2' is not defined",
     "output_type": "error",
     "traceback": [
      "\u001b[0;31m---------------------------------------------------------------------------\u001b[0m",
      "\u001b[0;31mNameError\u001b[0m                                 Traceback (most recent call last)",
      "\u001b[0;32m<ipython-input-230-d525b847a6f5>\u001b[0m in \u001b[0;36m<module>\u001b[0;34m\u001b[0m\n\u001b[0;32m----> 1\u001b[0;31m \u001b[0mC2\u001b[0m\u001b[0;34m*\u001b[0m\u001b[0;34m(\u001b[0m\u001b[0;34m-\u001b[0m\u001b[0msqrt\u001b[0m\u001b[0;34m(\u001b[0m\u001b[0;36m3\u001b[0m\u001b[0;34m)\u001b[0m\u001b[0;34m*\u001b[0m\u001b[0msin\u001b[0m\u001b[0;34m(\u001b[0m\u001b[0msqrt\u001b[0m\u001b[0;34m(\u001b[0m\u001b[0;36m3\u001b[0m\u001b[0;34m)\u001b[0m\u001b[0;34m*\u001b[0m\u001b[0mt\u001b[0m\u001b[0;34m/\u001b[0m\u001b[0;36m2\u001b[0m\u001b[0;34m)\u001b[0m\u001b[0;34m/\u001b[0m\u001b[0;36m2\u001b[0m \u001b[0;34m+\u001b[0m \u001b[0mcos\u001b[0m\u001b[0;34m(\u001b[0m\u001b[0msqrt\u001b[0m\u001b[0;34m(\u001b[0m\u001b[0;36m3\u001b[0m\u001b[0;34m)\u001b[0m\u001b[0;34m*\u001b[0m\u001b[0mt\u001b[0m\u001b[0;34m/\u001b[0m\u001b[0;36m2\u001b[0m\u001b[0;34m)\u001b[0m\u001b[0;34m/\u001b[0m\u001b[0;36m2\u001b[0m\u001b[0;34m)\u001b[0m\u001b[0;34m*\u001b[0m\u001b[0mexp\u001b[0m\u001b[0;34m(\u001b[0m\u001b[0;34m-\u001b[0m\u001b[0mt\u001b[0m\u001b[0;34m/\u001b[0m\u001b[0;36m2\u001b[0m\u001b[0;34m)\u001b[0m \u001b[0;34m+\u001b[0m \u001b[0mC3\u001b[0m\u001b[0;34m*\u001b[0m\u001b[0;34m(\u001b[0m\u001b[0msin\u001b[0m\u001b[0;34m(\u001b[0m\u001b[0msqrt\u001b[0m\u001b[0;34m(\u001b[0m\u001b[0;36m3\u001b[0m\u001b[0;34m)\u001b[0m\u001b[0;34m*\u001b[0m\u001b[0mt\u001b[0m\u001b[0;34m/\u001b[0m\u001b[0;36m2\u001b[0m\u001b[0;34m)\u001b[0m\u001b[0;34m/\u001b[0m\u001b[0;36m2\u001b[0m \u001b[0;34m+\u001b[0m \u001b[0msqrt\u001b[0m\u001b[0;34m(\u001b[0m\u001b[0;36m3\u001b[0m\u001b[0;34m)\u001b[0m\u001b[0;34m*\u001b[0m\u001b[0mcos\u001b[0m\u001b[0;34m(\u001b[0m\u001b[0msqrt\u001b[0m\u001b[0;34m(\u001b[0m\u001b[0;36m3\u001b[0m\u001b[0;34m)\u001b[0m\u001b[0;34m*\u001b[0m\u001b[0mt\u001b[0m\u001b[0;34m/\u001b[0m\u001b[0;36m2\u001b[0m\u001b[0;34m)\u001b[0m\u001b[0;34m/\u001b[0m\u001b[0;36m2\u001b[0m\u001b[0;34m)\u001b[0m\u001b[0;34m*\u001b[0m\u001b[0mexp\u001b[0m\u001b[0;34m(\u001b[0m\u001b[0;34m-\u001b[0m\u001b[0mt\u001b[0m\u001b[0;34m/\u001b[0m\u001b[0;36m2\u001b[0m\u001b[0;34m)\u001b[0m\u001b[0;34m\u001b[0m\u001b[0;34m\u001b[0m\u001b[0m\n\u001b[0m",
      "\u001b[0;31mNameError\u001b[0m: name 'C2' is not defined"
     ]
    }
   ],
   "source": []
  },
  {
   "cell_type": "code",
   "execution_count": null,
   "metadata": {},
   "outputs": [],
   "source": []
  }
 ],
 "metadata": {
  "kernelspec": {
   "display_name": "Python 3",
   "language": "python",
   "name": "python3"
  },
  "language_info": {
   "codemirror_mode": {
    "name": "ipython",
    "version": 3
   },
   "file_extension": ".py",
   "mimetype": "text/x-python",
   "name": "python",
   "nbconvert_exporter": "python",
   "pygments_lexer": "ipython3",
   "version": "3.7.3"
  }
 },
 "nbformat": 4,
 "nbformat_minor": 4
}
